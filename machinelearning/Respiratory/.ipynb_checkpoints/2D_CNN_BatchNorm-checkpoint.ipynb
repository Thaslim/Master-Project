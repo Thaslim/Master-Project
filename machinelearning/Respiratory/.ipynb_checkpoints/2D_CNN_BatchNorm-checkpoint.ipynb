{
 "cells": [
  {
   "cell_type": "code",
   "execution_count": 52,
   "metadata": {},
   "outputs": [
    {
     "name": "stdout",
     "output_type": "stream",
     "text": [
      "The tensorboard extension is already loaded. To reload it, use:\n",
      "  %reload_ext tensorboard\n"
     ]
    }
   ],
   "source": [
    "import pandas as pd\n",
    "from tqdm import tqdm\n",
    "import os\n",
    "import datetime\n",
    "import librosa as lb\n",
    "# Load the TensorBoard notebook extension\n",
    "%load_ext tensorboard\n",
    "import numpy as np\n",
    "from sklearn.utils.class_weight import compute_class_weight\n",
    "from keras.utils import to_categorical\n",
    "from tensorflow import keras\n",
    "import tensorflow as tf\n",
    "from tensorflow.keras import layers\n",
    "import librosa.display\n",
    "import seaborn as sns\n",
    "import matplotlib.pyplot as plt\n",
    "from tensorflow.keras.models import Sequential\n",
    "from sklearn.model_selection import train_test_split\n",
    "from tensorflow.keras.layers import Conv2D, MaxPooling2D, Dense, Flatten, Dropout, Activation, MaxPooling1D"
   ]
  },
  {
   "cell_type": "code",
   "execution_count": 64,
   "metadata": {},
   "outputs": [],
   "source": [
    "#Load training, validation and testing data\n",
    "X_tr = np.load('X_tr.npy')\n",
    "X_val = np.load('X_val.npy')\n",
    "X_test = np.load('X_test.npy')\n",
    "y_tr = np.load('y_tr.npy')\n",
    "y_val = np.load('y_val.npy')\n",
    "y_test = np.load('y_test.npy')\n",
    "class_weight = np.load('class_weight.npy')"
   ]
  },
  {
   "cell_type": "code",
   "execution_count": 65,
   "metadata": {},
   "outputs": [],
   "source": [
    "X_tr = X_tr.reshape((-1,X_tr.shape[1], X_tr.shape[2], 1))\n",
    "X_val = X_val.reshape((-1,X_val.shape[1], X_val.shape[2], 1))\n",
    "X_test = X_test.reshape((-1,X_test.shape[1], X_test.shape[2], 1))"
   ]
  },
  {
   "cell_type": "code",
   "execution_count": 66,
   "metadata": {},
   "outputs": [
    {
     "data": {
      "text/plain": [
       "(621, 20, 94, 1)"
      ]
     },
     "execution_count": 66,
     "metadata": {},
     "output_type": "execute_result"
    }
   ],
   "source": [
    "X_val.shape"
   ]
  },
  {
   "cell_type": "code",
   "execution_count": 24,
   "metadata": {},
   "outputs": [],
   "source": [
    "#Convert labels into one hot vectors\n",
    "y_tr_cat= to_categorical(y_tr, num_classes=4)\n",
    "y_test_cat= to_categorical(y_test, num_classes=4)\n",
    "y_val_cat= to_categorical(y_val, num_classes=4)"
   ]
  },
  {
   "cell_type": "code",
   "execution_count": 57,
   "metadata": {},
   "outputs": [
    {
     "data": {
      "text/plain": [
       "(621,)"
      ]
     },
     "execution_count": 57,
     "metadata": {},
     "output_type": "execute_result"
    }
   ],
   "source": [
    "y_val.shape"
   ]
  },
  {
   "cell_type": "code",
   "execution_count": 48,
   "metadata": {
    "scrolled": false
   },
   "outputs": [
    {
     "name": "stdout",
     "output_type": "stream",
     "text": [
      "Model: \"sequential_9\"\n",
      "_________________________________________________________________\n",
      "Layer (type)                 Output Shape              Param #   \n",
      "=================================================================\n",
      "conv2d_30 (Conv2D)           (None, 18, 92, 16)        160       \n",
      "_________________________________________________________________\n",
      "conv2d_31 (Conv2D)           (None, 16, 90, 32)        4640      \n",
      "_________________________________________________________________\n",
      "conv2d_32 (Conv2D)           (None, 14, 88, 64)        18432     \n",
      "_________________________________________________________________\n",
      "batch_normalization_11 (Batc (None, 14, 88, 64)        256       \n",
      "_________________________________________________________________\n",
      "activation_2 (Activation)    (None, 14, 88, 64)        0         \n",
      "_________________________________________________________________\n",
      "max_pooling2d_8 (MaxPooling2 (None, 7, 44, 64)         0         \n",
      "_________________________________________________________________\n",
      "dropout_8 (Dropout)          (None, 7, 44, 64)         0         \n",
      "_________________________________________________________________\n",
      "conv2d_33 (Conv2D)           (None, 5, 42, 128)        73728     \n",
      "_________________________________________________________________\n",
      "activation_3 (Activation)    (None, 5, 42, 128)        0         \n",
      "_________________________________________________________________\n",
      "max_pooling2d_9 (MaxPooling2 (None, 2, 21, 128)        0         \n",
      "_________________________________________________________________\n",
      "dropout_9 (Dropout)          (None, 2, 21, 128)        0         \n",
      "_________________________________________________________________\n",
      "flatten_6 (Flatten)          (None, 5376)              0         \n",
      "_________________________________________________________________\n",
      "dense_9 (Dense)              (None, 64)                344128    \n",
      "_________________________________________________________________\n",
      "dense_10 (Dense)             (None, 32)                2048      \n",
      "_________________________________________________________________\n",
      "batch_normalization_12 (Batc (None, 32)                128       \n",
      "_________________________________________________________________\n",
      "activation_4 (Activation)    (None, 32)                0         \n",
      "_________________________________________________________________\n",
      "dense_11 (Dense)             (None, 4)                 132       \n",
      "=================================================================\n",
      "Total params: 443,652\n",
      "Trainable params: 443,460\n",
      "Non-trainable params: 192\n",
      "_________________________________________________________________\n"
     ]
    }
   ],
   "source": [
    "#Construct a CNN model\n",
    "\n",
    "model = tf.keras.models.Sequential()\n",
    "\n",
    "model.add(Conv2D(filters=16, kernel_size=3,  input_shape=(X_tr.shape[1], X_tr.shape[2], 1)))\n",
    "\n",
    "model.add(Conv2D(filters=32, kernel_size=3, activation='relu'))\n",
    "\n",
    "model.add(Conv2D(filters=64, kernel_size=3, use_bias = False))\n",
    "model.add(layers.BatchNormalization())\n",
    "model.add(Activation(\"relu\"))\n",
    "model.add(MaxPooling2D(pool_size=2))\n",
    "model.add(Dropout(0.5))\n",
    "\n",
    "model.add(Conv2D(filters=128, kernel_size=3, use_bias= False))\n",
    "model.add(Activation(\"relu\"))\n",
    "model.add(MaxPooling2D(pool_size=2))\n",
    "model.add(Dropout(0.5))\n",
    "model.add(Flatten())\n",
    "model.add(Dense(64,activation='relu'))\n",
    "model.add(layers.Dense(32, use_bias=False))\n",
    "model.add(layers.BatchNormalization())\n",
    "model.add(Activation(\"relu\"))\n",
    "\n",
    "model.add(Dense(4,activation='softmax'))\n",
    "model.summary()"
   ]
  },
  {
   "cell_type": "code",
   "execution_count": 49,
   "metadata": {},
   "outputs": [],
   "source": [
    "model.compile(loss='categorical_crossentropy', metrics=['accuracy'], optimizer='adam') "
   ]
  },
  {
   "cell_type": "code",
   "execution_count": 54,
   "metadata": {},
   "outputs": [],
   "source": [
    "logdir = os.path.join(\"logs\", datetime.datetime.now().strftime(\"%Y%m%d-%H%M%S\"))\n",
    "tensorboard_callback = tf.keras.callbacks.TensorBoard(logdir, histogram_freq=1)"
   ]
  },
  {
   "cell_type": "code",
   "execution_count": 67,
   "metadata": {
    "scrolled": true
   },
   "outputs": [
    {
     "name": "stdout",
     "output_type": "stream",
     "text": [
      "Train on 5587 samples, validate on 621 samples\n",
      "Epoch 1/50\n",
      "5587/5587 [==============================] - 102s 18ms/sample - loss: 1.2238 - accuracy: 0.4795 - val_loss: 1.7630 - val_accuracy: 0.5089\n",
      "Epoch 2/50\n",
      "5587/5587 [==============================] - 93s 17ms/sample - loss: 1.0678 - accuracy: 0.5518 - val_loss: 1.1639 - val_accuracy: 0.4573\n",
      "Epoch 3/50\n",
      "5587/5587 [==============================] - 95s 17ms/sample - loss: 1.0250 - accuracy: 0.5688 - val_loss: 1.0100 - val_accuracy: 0.5427\n",
      "Epoch 4/50\n",
      "5587/5587 [==============================] - 95s 17ms/sample - loss: 0.9928 - accuracy: 0.5824 - val_loss: 0.9581 - val_accuracy: 0.5878\n",
      "Epoch 5/50\n",
      "5587/5587 [==============================] - 93s 17ms/sample - loss: 0.9629 - accuracy: 0.5955 - val_loss: 0.9706 - val_accuracy: 0.5974\n",
      "Epoch 6/50\n",
      "5587/5587 [==============================] - 94s 17ms/sample - loss: 0.9409 - accuracy: 0.6053 - val_loss: 0.9891 - val_accuracy: 0.5958\n",
      "Epoch 7/50\n",
      "5587/5587 [==============================] - 104s 19ms/sample - loss: 0.9180 - accuracy: 0.6197 - val_loss: 0.9584 - val_accuracy: 0.5845\n",
      "Epoch 8/50\n",
      "5587/5587 [==============================] - 133s 24ms/sample - loss: 0.8960 - accuracy: 0.6261 - val_loss: 1.0386 - val_accuracy: 0.5717\n",
      "Epoch 9/50\n",
      "5587/5587 [==============================] - 102s 18ms/sample - loss: 0.8748 - accuracy: 0.6331 - val_loss: 0.9062 - val_accuracy: 0.6200\n",
      "Epoch 10/50\n",
      "5587/5587 [==============================] - 96s 17ms/sample - loss: 0.8412 - accuracy: 0.6542 - val_loss: 1.2250 - val_accuracy: 0.5266\n",
      "Epoch 11/50\n",
      "5587/5587 [==============================] - 103s 19ms/sample - loss: 0.8293 - accuracy: 0.6608 - val_loss: 0.9558 - val_accuracy: 0.6167\n",
      "Epoch 12/50\n",
      "5587/5587 [==============================] - 107s 19ms/sample - loss: 0.8051 - accuracy: 0.6662 - val_loss: 0.9861 - val_accuracy: 0.6103\n",
      "Epoch 13/50\n",
      "5587/5587 [==============================] - 111s 20ms/sample - loss: 0.7872 - accuracy: 0.6789 - val_loss: 0.8877 - val_accuracy: 0.6554\n",
      "Epoch 14/50\n",
      "5587/5587 [==============================] - 115s 21ms/sample - loss: 0.7458 - accuracy: 0.6989 - val_loss: 0.9440 - val_accuracy: 0.6232\n",
      "Epoch 15/50\n",
      "5587/5587 [==============================] - 111s 20ms/sample - loss: 0.7437 - accuracy: 0.6959 - val_loss: 0.9224 - val_accuracy: 0.6667\n",
      "Epoch 16/50\n",
      "5587/5587 [==============================] - 101s 18ms/sample - loss: 0.7100 - accuracy: 0.7145 - val_loss: 1.0503 - val_accuracy: 0.5974\n",
      "Epoch 17/50\n",
      "5587/5587 [==============================] - 99s 18ms/sample - loss: 0.6996 - accuracy: 0.7133 - val_loss: 0.8343 - val_accuracy: 0.6683\n",
      "Epoch 18/50\n",
      "5587/5587 [==============================] - 95s 17ms/sample - loss: 0.6699 - accuracy: 0.7276 - val_loss: 0.8905 - val_accuracy: 0.6747\n",
      "Epoch 19/50\n",
      "5587/5587 [==============================] - 95s 17ms/sample - loss: 0.6518 - accuracy: 0.7414 - val_loss: 0.8803 - val_accuracy: 0.6522\n",
      "Epoch 20/50\n",
      "5587/5587 [==============================] - 104s 19ms/sample - loss: 0.6247 - accuracy: 0.7503 - val_loss: 0.8504 - val_accuracy: 0.6715\n",
      "Epoch 21/50\n",
      "5587/5587 [==============================] - 101s 18ms/sample - loss: 0.6146 - accuracy: 0.7539 - val_loss: 0.8777 - val_accuracy: 0.6393\n",
      "Epoch 22/50\n",
      "5587/5587 [==============================] - 100s 18ms/sample - loss: 0.5949 - accuracy: 0.7621 - val_loss: 0.9071 - val_accuracy: 0.6490\n",
      "Epoch 23/50\n",
      "5587/5587 [==============================] - 97s 17ms/sample - loss: 0.5687 - accuracy: 0.7743 - val_loss: 0.8948 - val_accuracy: 0.6634\n",
      "Epoch 24/50\n",
      "5587/5587 [==============================] - 97s 17ms/sample - loss: 0.5546 - accuracy: 0.7802 - val_loss: 0.8497 - val_accuracy: 0.6634\n",
      "Epoch 25/50\n",
      "5587/5587 [==============================] - 98s 18ms/sample - loss: 0.5423 - accuracy: 0.7850 - val_loss: 0.8526 - val_accuracy: 0.6715\n",
      "Epoch 26/50\n",
      "5587/5587 [==============================] - 100s 18ms/sample - loss: 0.5196 - accuracy: 0.7956 - val_loss: 0.8376 - val_accuracy: 0.6795\n",
      "Epoch 27/50\n",
      "5587/5587 [==============================] - 99s 18ms/sample - loss: 0.4976 - accuracy: 0.8097 - val_loss: 0.8339 - val_accuracy: 0.6699\n",
      "Epoch 28/50\n",
      "5587/5587 [==============================] - 97s 17ms/sample - loss: 0.4889 - accuracy: 0.8063 - val_loss: 0.8249 - val_accuracy: 0.6699\n",
      "Epoch 29/50\n",
      "5587/5587 [==============================] - 96s 17ms/sample - loss: 0.4773 - accuracy: 0.8133 - val_loss: 0.8473 - val_accuracy: 0.6618\n",
      "Epoch 30/50\n",
      "5587/5587 [==============================] - 99s 18ms/sample - loss: 0.4450 - accuracy: 0.8258 - val_loss: 0.9575 - val_accuracy: 0.6586\n",
      "Epoch 31/50\n",
      "5587/5587 [==============================] - 96s 17ms/sample - loss: 0.4417 - accuracy: 0.8282 - val_loss: 0.8772 - val_accuracy: 0.6844\n",
      "Epoch 32/50\n",
      "5587/5587 [==============================] - 96s 17ms/sample - loss: 0.4342 - accuracy: 0.8318 - val_loss: 0.9259 - val_accuracy: 0.6667\n",
      "Epoch 33/50\n",
      "5587/5587 [==============================] - 98s 18ms/sample - loss: 0.4006 - accuracy: 0.8457 - val_loss: 0.9409 - val_accuracy: 0.6699\n",
      "Epoch 34/50\n",
      "5587/5587 [==============================] - 97s 17ms/sample - loss: 0.4080 - accuracy: 0.8403 - val_loss: 0.8833 - val_accuracy: 0.6892\n",
      "Epoch 35/50\n",
      "5587/5587 [==============================] - 99s 18ms/sample - loss: 0.3846 - accuracy: 0.8463 - val_loss: 0.8941 - val_accuracy: 0.7150\n",
      "Epoch 36/50\n",
      "5587/5587 [==============================] - 95s 17ms/sample - loss: 0.3738 - accuracy: 0.8513 - val_loss: 0.9645 - val_accuracy: 0.6699\n",
      "Epoch 37/50\n",
      "5587/5587 [==============================] - 95s 17ms/sample - loss: 0.3607 - accuracy: 0.8616 - val_loss: 0.9232 - val_accuracy: 0.6844\n",
      "Epoch 38/50\n",
      "5587/5587 [==============================] - 104s 19ms/sample - loss: 0.3528 - accuracy: 0.8675 - val_loss: 0.9922 - val_accuracy: 0.6667\n",
      "Epoch 39/50\n",
      "5587/5587 [==============================] - 102s 18ms/sample - loss: 0.3386 - accuracy: 0.8758 - val_loss: 0.9035 - val_accuracy: 0.7005\n",
      "Epoch 40/50\n",
      "5587/5587 [==============================] - 98s 17ms/sample - loss: 0.3410 - accuracy: 0.8706 - val_loss: 0.9493 - val_accuracy: 0.6844\n",
      "Epoch 41/50\n",
      "5587/5587 [==============================] - 105s 19ms/sample - loss: 0.3207 - accuracy: 0.8819 - val_loss: 0.9378 - val_accuracy: 0.6860\n",
      "Epoch 42/50\n",
      "5587/5587 [==============================] - 103s 18ms/sample - loss: 0.2905 - accuracy: 0.8924 - val_loss: 0.9273 - val_accuracy: 0.6924\n",
      "Epoch 43/50\n",
      "5587/5587 [==============================] - 102s 18ms/sample - loss: 0.2917 - accuracy: 0.8896 - val_loss: 1.0078 - val_accuracy: 0.6876\n",
      "Epoch 44/50\n",
      "5587/5587 [==============================] - 95s 17ms/sample - loss: 0.2957 - accuracy: 0.8890 - val_loss: 0.8967 - val_accuracy: 0.7085\n",
      "Epoch 45/50\n",
      "5587/5587 [==============================] - 100s 18ms/sample - loss: 0.2911 - accuracy: 0.8881 - val_loss: 0.9540 - val_accuracy: 0.6892\n",
      "Epoch 46/50\n",
      "5587/5587 [==============================] - 105s 19ms/sample - loss: 0.2798 - accuracy: 0.8897 - val_loss: 0.9539 - val_accuracy: 0.7005\n",
      "Epoch 47/50\n",
      "5587/5587 [==============================] - 135s 24ms/sample - loss: 0.2703 - accuracy: 0.8994 - val_loss: 0.9418 - val_accuracy: 0.7053\n",
      "Epoch 48/50\n",
      "5587/5587 [==============================] - 121s 22ms/sample - loss: 0.2607 - accuracy: 0.9037 - val_loss: 0.9494 - val_accuracy: 0.6989\n",
      "Epoch 49/50\n",
      "5587/5587 [==============================] - 88s 16ms/sample - loss: 0.2573 - accuracy: 0.9021 - val_loss: 0.9738 - val_accuracy: 0.6828\n",
      "Epoch 50/50\n",
      "5587/5587 [==============================] - 87s 16ms/sample - loss: 0.2447 - accuracy: 0.9139 - val_loss: 0.9424 - val_accuracy: 0.7037\n"
     ]
    },
    {
     "data": {
      "text/plain": [
       "<tensorflow.python.keras.callbacks.History at 0x2a1300b3f48>"
      ]
     },
     "execution_count": 67,
     "metadata": {},
     "output_type": "execute_result"
    }
   ],
   "source": [
    "model.fit(X_tr,y_tr_cat, epochs = 50, batch_size = 128, class_weight= class_weight, shuffle= True, \n",
    "          validation_data=(X_val,y_val_cat), callbacks=[tensorboard_callback])"
   ]
  },
  {
   "cell_type": "code",
   "execution_count": 75,
   "metadata": {},
   "outputs": [
    {
     "data": {
      "text/plain": [
       "Reusing TensorBoard on port 6006 (pid 21396), started 0:00:40 ago. (Use '!kill 21396' to kill it.)"
      ]
     },
     "metadata": {},
     "output_type": "display_data"
    },
    {
     "data": {
      "text/html": [
       "\n",
       "      <iframe id=\"tensorboard-frame-9342efe69e33952b\" width=\"100%\" height=\"800\" frameborder=\"0\">\n",
       "      </iframe>\n",
       "      <script>\n",
       "        (function() {\n",
       "          const frame = document.getElementById(\"tensorboard-frame-9342efe69e33952b\");\n",
       "          const url = new URL(\"/\", window.location);\n",
       "          url.port = 6006;\n",
       "          frame.src = url;\n",
       "        })();\n",
       "      </script>\n",
       "  "
      ],
      "text/plain": [
       "<IPython.core.display.HTML object>"
      ]
     },
     "metadata": {},
     "output_type": "display_data"
    }
   ],
   "source": [
    "%tensorboard --logdir logs\\20200909-210858"
   ]
  },
  {
   "cell_type": "code",
   "execution_count": 68,
   "metadata": {},
   "outputs": [
    {
     "data": {
      "text/plain": [
       "(690, 20, 94, 1)"
      ]
     },
     "execution_count": 68,
     "metadata": {},
     "output_type": "execute_result"
    }
   ],
   "source": [
    "X_test.shape"
   ]
  },
  {
   "cell_type": "code",
   "execution_count": 69,
   "metadata": {},
   "outputs": [
    {
     "data": {
      "text/plain": [
       "array([0, 2, 0, 0, 0, 0, 0, 3, 0, 0, 3, 1, 0, 1, 0, 1, 1, 0, 0, 1, 0, 0,\n",
       "       0, 0, 3, 0, 2, 2, 1, 2, 0, 0, 0, 0, 0, 1, 0, 1, 2, 0, 1, 0, 0, 2,\n",
       "       3, 0, 0, 0, 0, 0, 0, 0, 0, 2, 0, 1, 0, 0, 0, 0, 3, 0, 0, 0, 2, 0,\n",
       "       0, 0, 0, 1, 2, 2, 2, 3, 3, 0, 1, 0, 1, 1, 2, 0, 3, 3, 0, 1, 0, 0,\n",
       "       1, 1, 0, 0, 3, 0, 0, 0, 0, 1, 0, 1, 0, 1, 3, 0, 1, 2, 2, 1, 0, 0,\n",
       "       0, 1, 3, 1, 0, 1, 1, 1, 2, 2, 1, 3, 2, 1, 0, 0, 1, 0, 2, 2, 0, 0,\n",
       "       3, 1, 3, 0, 1, 0, 1, 0, 0, 3, 2, 2, 0, 0, 0, 0, 0, 1, 0, 0, 0, 1,\n",
       "       0, 1, 0, 2, 0, 1, 1, 2, 1, 0, 0, 0, 0, 0, 0, 0, 1, 3, 0, 2, 1, 0,\n",
       "       0, 1, 0, 0, 0, 1, 0, 0, 2, 0, 1, 1, 0, 1, 0, 0, 0, 0, 1, 0, 0, 2,\n",
       "       1, 2, 0, 0, 1, 3, 3, 0, 1, 0, 3, 1, 3, 2, 2, 0, 2, 0, 0, 0, 1, 0,\n",
       "       0, 0, 1, 1, 0, 0, 0, 1, 1, 0, 0, 3, 0, 0, 0, 1, 1, 0, 1, 1, 1, 0,\n",
       "       0, 0, 1, 0, 1, 1, 2, 0, 1, 0, 2, 0, 3, 0, 1, 0, 0, 0, 0, 2, 1, 0,\n",
       "       0, 1, 1, 3, 0, 0, 2, 0, 0, 1, 1, 2, 1, 0, 0, 1, 0, 1, 0, 0, 0, 1,\n",
       "       1, 0, 0, 2, 0, 0, 0, 0, 0, 0, 0, 3, 1, 3, 2, 1, 0, 0, 0, 0, 0, 0,\n",
       "       0, 0, 0, 2, 0, 1, 3, 0, 0, 0, 0, 0, 0, 2, 2, 1, 2, 0, 0, 2, 0, 0,\n",
       "       0, 1, 1, 1, 2, 1, 1, 2, 1, 1, 3, 0, 1, 1, 0, 2, 0, 1, 3, 0, 0, 0,\n",
       "       0, 0, 1, 0, 1, 0, 0, 0, 1, 0, 2, 1, 1, 0, 2, 2, 1, 3, 0, 1, 0, 0,\n",
       "       1, 0, 0, 1, 3, 1, 1, 1, 3, 1, 1, 0, 0, 0, 0, 1, 2, 0, 0, 0, 0, 1,\n",
       "       0, 0, 1, 0, 0, 2, 1, 0, 2, 0, 0, 0, 0, 2, 1, 1, 0, 1, 2, 1, 1, 1,\n",
       "       2, 3, 0, 0, 3, 0, 1, 1, 0, 0, 0, 1, 0, 0, 0, 3, 2, 1, 0, 0, 0, 0,\n",
       "       0, 0, 0, 0, 0, 0, 0, 1, 1, 1, 1, 0, 2, 0, 1, 1, 0, 0, 0, 1, 0, 0,\n",
       "       0, 0, 2, 0, 1, 2, 0, 2, 1, 3, 0, 0, 0, 0, 0, 0, 0, 0, 1, 3, 1, 0,\n",
       "       1, 3, 0, 0, 0, 0, 2, 0, 1, 0, 1, 1, 2, 0, 0, 2, 0, 0, 2, 0, 1, 0,\n",
       "       2, 0, 0, 0, 1, 0, 2, 1, 1, 1, 0, 0, 3, 2, 1, 2, 0, 0, 1, 2, 0, 0,\n",
       "       0, 0, 0, 0, 0, 2, 0, 1, 1, 2, 1, 3, 3, 0, 1, 1, 2, 0, 0, 0, 1, 0,\n",
       "       1, 0, 0, 0, 0, 2, 0, 0, 1, 3, 1, 0, 3, 2, 0, 1, 0, 2, 1, 0, 1, 1,\n",
       "       0, 1, 0, 0, 2, 1, 0, 0, 1, 2, 0, 0, 0, 2, 0, 3, 0, 3, 1, 1, 2, 1,\n",
       "       2, 1, 0, 1, 0, 0, 0, 0, 1, 3, 0, 0, 1, 1, 1, 1, 1, 0, 2, 0, 0, 1,\n",
       "       0, 0, 0, 0, 0, 3, 0, 0, 0, 1, 0, 1, 0, 0, 0, 2, 2, 0, 0, 1, 0, 0,\n",
       "       0, 1, 0, 0, 1, 2, 0, 1, 1, 1, 0, 2, 0, 0, 1, 3, 0, 1, 1, 0, 0, 3,\n",
       "       0, 2, 0, 0, 0, 1, 2, 1, 3, 2, 0, 0, 0, 1, 0, 0, 0, 0, 1, 1, 0, 0,\n",
       "       2, 1, 0, 3, 0, 1, 2, 0], dtype=int64)"
      ]
     },
     "execution_count": 69,
     "metadata": {},
     "output_type": "execute_result"
    }
   ],
   "source": [
    "y_test"
   ]
  },
  {
   "cell_type": "code",
   "execution_count": 71,
   "metadata": {},
   "outputs": [
    {
     "data": {
      "text/plain": [
       "array([0, 0, 0, 0, 0, 0, 0, 2, 0, 0, 3, 1, 1, 1, 1, 1, 0, 0, 0, 1, 0, 1,\n",
       "       1, 0, 2, 0, 0, 2, 0, 2, 0, 0, 1, 0, 0, 2, 0, 0, 1, 0, 0, 0, 0, 2,\n",
       "       3, 0, 1, 0, 0, 0, 1, 0, 0, 1, 0, 1, 0, 0, 0, 0, 3, 0, 0, 2, 2, 0,\n",
       "       0, 0, 0, 1, 3, 2, 0, 1, 3, 0, 1, 0, 1, 1, 2, 1, 3, 2, 0, 2, 0, 0,\n",
       "       1, 1, 0, 0, 1, 0, 0, 0, 1, 1, 0, 0, 0, 1, 2, 0, 1, 2, 2, 0, 0, 0,\n",
       "       0, 0, 1, 0, 0, 0, 1, 0, 2, 0, 0, 3, 2, 1, 0, 1, 1, 0, 0, 1, 3, 0,\n",
       "       1, 1, 2, 0, 1, 0, 0, 0, 1, 3, 2, 2, 1, 0, 3, 0, 0, 1, 0, 0, 0, 1,\n",
       "       0, 3, 0, 3, 0, 1, 3, 0, 1, 0, 0, 0, 0, 0, 0, 0, 0, 1, 0, 2, 0, 0,\n",
       "       0, 0, 0, 0, 0, 0, 0, 0, 0, 0, 1, 1, 0, 1, 0, 0, 0, 1, 1, 2, 1, 2,\n",
       "       0, 2, 3, 1, 0, 1, 0, 1, 1, 0, 3, 0, 1, 2, 3, 0, 0, 0, 1, 0, 1, 1,\n",
       "       0, 0, 0, 1, 0, 0, 0, 1, 1, 0, 0, 2, 0, 0, 0, 1, 1, 1, 1, 1, 1, 0,\n",
       "       0, 0, 0, 0, 1, 1, 2, 0, 0, 0, 0, 2, 1, 0, 1, 0, 0, 0, 0, 2, 1, 2,\n",
       "       0, 1, 1, 0, 0, 0, 1, 0, 0, 1, 0, 2, 0, 0, 0, 1, 0, 1, 0, 0, 0, 1,\n",
       "       1, 0, 0, 2, 0, 0, 0, 0, 1, 0, 0, 0, 1, 3, 2, 1, 0, 0, 0, 0, 0, 0,\n",
       "       0, 0, 0, 2, 0, 0, 3, 0, 0, 0, 0, 0, 0, 2, 2, 1, 0, 0, 0, 0, 0, 0,\n",
       "       0, 1, 0, 0, 2, 1, 0, 2, 1, 3, 3, 0, 0, 0, 0, 2, 0, 0, 3, 0, 1, 0,\n",
       "       0, 0, 1, 0, 1, 1, 0, 1, 0, 0, 0, 1, 1, 0, 1, 2, 1, 3, 0, 1, 0, 0,\n",
       "       1, 0, 1, 1, 1, 1, 1, 0, 1, 0, 1, 1, 0, 0, 1, 0, 3, 0, 0, 0, 0, 1,\n",
       "       0, 0, 1, 0, 0, 2, 1, 0, 3, 0, 0, 0, 1, 0, 1, 1, 0, 0, 2, 1, 0, 1,\n",
       "       0, 1, 0, 2, 3, 0, 0, 2, 0, 0, 0, 1, 0, 0, 0, 3, 0, 0, 0, 0, 0, 0,\n",
       "       0, 0, 0, 0, 1, 0, 0, 1, 1, 1, 0, 0, 2, 0, 1, 0, 0, 0, 0, 1, 0, 1,\n",
       "       0, 0, 2, 0, 3, 0, 0, 0, 1, 3, 0, 0, 3, 0, 0, 0, 0, 1, 3, 1, 1, 0,\n",
       "       1, 3, 0, 0, 0, 0, 3, 0, 0, 0, 1, 0, 2, 0, 0, 0, 0, 0, 0, 0, 1, 2,\n",
       "       0, 0, 0, 1, 1, 0, 1, 1, 0, 1, 0, 0, 2, 0, 2, 2, 1, 0, 0, 0, 1, 0,\n",
       "       0, 0, 0, 2, 0, 2, 0, 1, 1, 2, 0, 1, 0, 0, 3, 1, 2, 0, 0, 3, 0, 0,\n",
       "       3, 2, 0, 0, 0, 2, 0, 1, 0, 3, 1, 0, 3, 0, 0, 0, 0, 3, 1, 0, 3, 1,\n",
       "       0, 1, 0, 0, 3, 1, 0, 0, 1, 3, 0, 0, 1, 0, 0, 3, 0, 3, 0, 1, 0, 0,\n",
       "       2, 1, 0, 1, 0, 1, 0, 1, 0, 3, 1, 1, 0, 1, 1, 1, 1, 0, 2, 2, 0, 1,\n",
       "       0, 0, 0, 0, 0, 3, 0, 0, 0, 1, 0, 3, 0, 1, 0, 1, 1, 0, 0, 0, 0, 2,\n",
       "       0, 1, 0, 0, 1, 2, 0, 1, 1, 1, 1, 2, 0, 0, 1, 2, 0, 1, 0, 0, 3, 3,\n",
       "       0, 2, 0, 0, 0, 0, 2, 1, 3, 0, 0, 0, 0, 1, 0, 2, 0, 0, 0, 3, 0, 0,\n",
       "       2, 1, 0, 0, 0, 1, 0, 0], dtype=int64)"
      ]
     },
     "execution_count": 71,
     "metadata": {},
     "output_type": "execute_result"
    }
   ],
   "source": [
    "model.predict_classes(X_test)"
   ]
  },
  {
   "cell_type": "code",
   "execution_count": 72,
   "metadata": {},
   "outputs": [
    {
     "name": "stdout",
     "output_type": "stream",
     "text": [
      "690/690 [==============================] - 1s 2ms/sample - loss: 0.9028 - accuracy: 0.7116\n"
     ]
    }
   ],
   "source": [
    "res = model.evaluate(X_test, y = y_test_cat, verbose=1)"
   ]
  }
 ],
 "metadata": {
  "kernelspec": {
   "display_name": "Python 3",
   "language": "python",
   "name": "python3"
  },
  "language_info": {
   "codemirror_mode": {
    "name": "ipython",
    "version": 3
   },
   "file_extension": ".py",
   "mimetype": "text/x-python",
   "name": "python",
   "nbconvert_exporter": "python",
   "pygments_lexer": "ipython3",
   "version": "3.8.3"
  }
 },
 "nbformat": 4,
 "nbformat_minor": 4
}

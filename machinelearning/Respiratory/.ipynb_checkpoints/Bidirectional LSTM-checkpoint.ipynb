{
 "cells": [
  {
   "cell_type": "code",
   "execution_count": 81,
   "metadata": {},
   "outputs": [
    {
     "name": "stdout",
     "output_type": "stream",
     "text": [
      "The tensorboard extension is already loaded. To reload it, use:\n",
      "  %reload_ext tensorboard\n"
     ]
    }
   ],
   "source": [
    "#import all the libraries\n",
    "import pandas as pd\n",
    "from tqdm import tqdm\n",
    "import os\n",
    "import librosa as lb\n",
    "import numpy as np\n",
    "# Load the TensorBoard notebook extension\n",
    "%load_ext tensorboard\n",
    "from sklearn.utils.class_weight import compute_class_weight\n",
    "from keras.utils import to_categorical\n",
    "from tensorflow import keras\n",
    "import tensorflow as tf\n",
    "import datetime\n",
    "from tensorflow.keras import layers\n",
    "import librosa.display\n",
    "import seaborn as sns\n",
    "from sklearn.model_selection import train_test_split\n",
    "import matplotlib.pyplot as plt\n",
    "from tensorflow.keras import regularizers\n",
    "from tensorflow.keras.models import Sequential\n",
    "from tensorflow.keras.layers import Conv2D, Dense, Input, Permute, Flatten, LSTM, Bidirectional, Dropout, TimeDistributed"
   ]
  },
  {
   "cell_type": "code",
   "execution_count": 51,
   "metadata": {},
   "outputs": [],
   "source": [
    "#Load file data \n",
    "file_data = pd.read_csv('file_data.csv')"
   ]
  },
  {
   "cell_type": "code",
   "execution_count": 53,
   "metadata": {},
   "outputs": [
    {
     "data": {
      "text/html": [
       "<div>\n",
       "<style scoped>\n",
       "    .dataframe tbody tr th:only-of-type {\n",
       "        vertical-align: middle;\n",
       "    }\n",
       "\n",
       "    .dataframe tbody tr th {\n",
       "        vertical-align: top;\n",
       "    }\n",
       "\n",
       "    .dataframe thead th {\n",
       "        text-align: right;\n",
       "    }\n",
       "</style>\n",
       "<table border=\"1\" class=\"dataframe\">\n",
       "  <thead>\n",
       "    <tr style=\"text-align: right;\">\n",
       "      <th></th>\n",
       "      <th>fname</th>\n",
       "      <th>start</th>\n",
       "      <th>end</th>\n",
       "      <th>crack_wheez</th>\n",
       "      <th>fname_cycle</th>\n",
       "    </tr>\n",
       "  </thead>\n",
       "  <tbody>\n",
       "    <tr>\n",
       "      <th>0</th>\n",
       "      <td>101_1b1_Al_sc_Meditron</td>\n",
       "      <td>0.036</td>\n",
       "      <td>0.579</td>\n",
       "      <td>0</td>\n",
       "      <td>101_1b1_Al_sc_Meditron_0.wav</td>\n",
       "    </tr>\n",
       "    <tr>\n",
       "      <th>1</th>\n",
       "      <td>101_1b1_Al_sc_Meditron</td>\n",
       "      <td>0.579</td>\n",
       "      <td>2.450</td>\n",
       "      <td>0</td>\n",
       "      <td>101_1b1_Al_sc_Meditron_1.wav</td>\n",
       "    </tr>\n",
       "    <tr>\n",
       "      <th>2</th>\n",
       "      <td>101_1b1_Al_sc_Meditron</td>\n",
       "      <td>2.450</td>\n",
       "      <td>3.893</td>\n",
       "      <td>0</td>\n",
       "      <td>101_1b1_Al_sc_Meditron_2.wav</td>\n",
       "    </tr>\n",
       "    <tr>\n",
       "      <th>3</th>\n",
       "      <td>101_1b1_Al_sc_Meditron</td>\n",
       "      <td>3.893</td>\n",
       "      <td>5.793</td>\n",
       "      <td>0</td>\n",
       "      <td>101_1b1_Al_sc_Meditron_3.wav</td>\n",
       "    </tr>\n",
       "    <tr>\n",
       "      <th>4</th>\n",
       "      <td>101_1b1_Al_sc_Meditron</td>\n",
       "      <td>5.793</td>\n",
       "      <td>7.521</td>\n",
       "      <td>0</td>\n",
       "      <td>101_1b1_Al_sc_Meditron_4.wav</td>\n",
       "    </tr>\n",
       "    <tr>\n",
       "      <th>...</th>\n",
       "      <td>...</td>\n",
       "      <td>...</td>\n",
       "      <td>...</td>\n",
       "      <td>...</td>\n",
       "      <td>...</td>\n",
       "    </tr>\n",
       "    <tr>\n",
       "      <th>6893</th>\n",
       "      <td>226_1b1_Pl_sc_LittC2SE</td>\n",
       "      <td>11.721</td>\n",
       "      <td>13.693</td>\n",
       "      <td>1</td>\n",
       "      <td>226_1b1_Pl_sc_LittC2SE_6.wav</td>\n",
       "    </tr>\n",
       "    <tr>\n",
       "      <th>6894</th>\n",
       "      <td>226_1b1_Pl_sc_LittC2SE</td>\n",
       "      <td>13.693</td>\n",
       "      <td>15.536</td>\n",
       "      <td>0</td>\n",
       "      <td>226_1b1_Pl_sc_LittC2SE_7.wav</td>\n",
       "    </tr>\n",
       "    <tr>\n",
       "      <th>6895</th>\n",
       "      <td>226_1b1_Pl_sc_LittC2SE</td>\n",
       "      <td>15.536</td>\n",
       "      <td>17.493</td>\n",
       "      <td>0</td>\n",
       "      <td>226_1b1_Pl_sc_LittC2SE_8.wav</td>\n",
       "    </tr>\n",
       "    <tr>\n",
       "      <th>6896</th>\n",
       "      <td>226_1b1_Pl_sc_LittC2SE</td>\n",
       "      <td>17.493</td>\n",
       "      <td>19.436</td>\n",
       "      <td>1</td>\n",
       "      <td>226_1b1_Pl_sc_LittC2SE_9.wav</td>\n",
       "    </tr>\n",
       "    <tr>\n",
       "      <th>6897</th>\n",
       "      <td>226_1b1_Pl_sc_LittC2SE</td>\n",
       "      <td>19.436</td>\n",
       "      <td>19.979</td>\n",
       "      <td>0</td>\n",
       "      <td>226_1b1_Pl_sc_LittC2SE_10.wav</td>\n",
       "    </tr>\n",
       "  </tbody>\n",
       "</table>\n",
       "<p>6898 rows × 5 columns</p>\n",
       "</div>"
      ],
      "text/plain": [
       "                       fname   start     end  crack_wheez  \\\n",
       "0     101_1b1_Al_sc_Meditron   0.036   0.579            0   \n",
       "1     101_1b1_Al_sc_Meditron   0.579   2.450            0   \n",
       "2     101_1b1_Al_sc_Meditron   2.450   3.893            0   \n",
       "3     101_1b1_Al_sc_Meditron   3.893   5.793            0   \n",
       "4     101_1b1_Al_sc_Meditron   5.793   7.521            0   \n",
       "...                      ...     ...     ...          ...   \n",
       "6893  226_1b1_Pl_sc_LittC2SE  11.721  13.693            1   \n",
       "6894  226_1b1_Pl_sc_LittC2SE  13.693  15.536            0   \n",
       "6895  226_1b1_Pl_sc_LittC2SE  15.536  17.493            0   \n",
       "6896  226_1b1_Pl_sc_LittC2SE  17.493  19.436            1   \n",
       "6897  226_1b1_Pl_sc_LittC2SE  19.436  19.979            0   \n",
       "\n",
       "                        fname_cycle  \n",
       "0      101_1b1_Al_sc_Meditron_0.wav  \n",
       "1      101_1b1_Al_sc_Meditron_1.wav  \n",
       "2      101_1b1_Al_sc_Meditron_2.wav  \n",
       "3      101_1b1_Al_sc_Meditron_3.wav  \n",
       "4      101_1b1_Al_sc_Meditron_4.wav  \n",
       "...                             ...  \n",
       "6893   226_1b1_Pl_sc_LittC2SE_6.wav  \n",
       "6894   226_1b1_Pl_sc_LittC2SE_7.wav  \n",
       "6895   226_1b1_Pl_sc_LittC2SE_8.wav  \n",
       "6896   226_1b1_Pl_sc_LittC2SE_9.wav  \n",
       "6897  226_1b1_Pl_sc_LittC2SE_10.wav  \n",
       "\n",
       "[6898 rows x 5 columns]"
      ]
     },
     "execution_count": 53,
     "metadata": {},
     "output_type": "execute_result"
    }
   ],
   "source": [
    "file_data"
   ]
  },
  {
   "cell_type": "code",
   "execution_count": 55,
   "metadata": {},
   "outputs": [],
   "source": [
    "#Extract length of each breath cycle \n",
    "for f in file_data.index:\n",
    "    file_data.at[f,'len'] = round(file_data.iloc[f].end-file_data.iloc[f].start, ndigits=3)"
   ]
  },
  {
   "cell_type": "code",
   "execution_count": 56,
   "metadata": {},
   "outputs": [
    {
     "data": {
      "text/html": [
       "<div>\n",
       "<style scoped>\n",
       "    .dataframe tbody tr th:only-of-type {\n",
       "        vertical-align: middle;\n",
       "    }\n",
       "\n",
       "    .dataframe tbody tr th {\n",
       "        vertical-align: top;\n",
       "    }\n",
       "\n",
       "    .dataframe thead th {\n",
       "        text-align: right;\n",
       "    }\n",
       "</style>\n",
       "<table border=\"1\" class=\"dataframe\">\n",
       "  <thead>\n",
       "    <tr style=\"text-align: right;\">\n",
       "      <th></th>\n",
       "      <th>fname</th>\n",
       "      <th>start</th>\n",
       "      <th>end</th>\n",
       "      <th>crack_wheez</th>\n",
       "      <th>fname_cycle</th>\n",
       "      <th>len</th>\n",
       "    </tr>\n",
       "  </thead>\n",
       "  <tbody>\n",
       "    <tr>\n",
       "      <th>0</th>\n",
       "      <td>101_1b1_Al_sc_Meditron</td>\n",
       "      <td>0.036</td>\n",
       "      <td>0.579</td>\n",
       "      <td>0</td>\n",
       "      <td>101_1b1_Al_sc_Meditron_0.wav</td>\n",
       "      <td>0.543</td>\n",
       "    </tr>\n",
       "    <tr>\n",
       "      <th>1</th>\n",
       "      <td>101_1b1_Al_sc_Meditron</td>\n",
       "      <td>0.579</td>\n",
       "      <td>2.450</td>\n",
       "      <td>0</td>\n",
       "      <td>101_1b1_Al_sc_Meditron_1.wav</td>\n",
       "      <td>1.871</td>\n",
       "    </tr>\n",
       "    <tr>\n",
       "      <th>2</th>\n",
       "      <td>101_1b1_Al_sc_Meditron</td>\n",
       "      <td>2.450</td>\n",
       "      <td>3.893</td>\n",
       "      <td>0</td>\n",
       "      <td>101_1b1_Al_sc_Meditron_2.wav</td>\n",
       "      <td>1.443</td>\n",
       "    </tr>\n",
       "    <tr>\n",
       "      <th>3</th>\n",
       "      <td>101_1b1_Al_sc_Meditron</td>\n",
       "      <td>3.893</td>\n",
       "      <td>5.793</td>\n",
       "      <td>0</td>\n",
       "      <td>101_1b1_Al_sc_Meditron_3.wav</td>\n",
       "      <td>1.900</td>\n",
       "    </tr>\n",
       "    <tr>\n",
       "      <th>4</th>\n",
       "      <td>101_1b1_Al_sc_Meditron</td>\n",
       "      <td>5.793</td>\n",
       "      <td>7.521</td>\n",
       "      <td>0</td>\n",
       "      <td>101_1b1_Al_sc_Meditron_4.wav</td>\n",
       "      <td>1.728</td>\n",
       "    </tr>\n",
       "    <tr>\n",
       "      <th>...</th>\n",
       "      <td>...</td>\n",
       "      <td>...</td>\n",
       "      <td>...</td>\n",
       "      <td>...</td>\n",
       "      <td>...</td>\n",
       "      <td>...</td>\n",
       "    </tr>\n",
       "    <tr>\n",
       "      <th>6893</th>\n",
       "      <td>226_1b1_Pl_sc_LittC2SE</td>\n",
       "      <td>11.721</td>\n",
       "      <td>13.693</td>\n",
       "      <td>1</td>\n",
       "      <td>226_1b1_Pl_sc_LittC2SE_6.wav</td>\n",
       "      <td>1.972</td>\n",
       "    </tr>\n",
       "    <tr>\n",
       "      <th>6894</th>\n",
       "      <td>226_1b1_Pl_sc_LittC2SE</td>\n",
       "      <td>13.693</td>\n",
       "      <td>15.536</td>\n",
       "      <td>0</td>\n",
       "      <td>226_1b1_Pl_sc_LittC2SE_7.wav</td>\n",
       "      <td>1.843</td>\n",
       "    </tr>\n",
       "    <tr>\n",
       "      <th>6895</th>\n",
       "      <td>226_1b1_Pl_sc_LittC2SE</td>\n",
       "      <td>15.536</td>\n",
       "      <td>17.493</td>\n",
       "      <td>0</td>\n",
       "      <td>226_1b1_Pl_sc_LittC2SE_8.wav</td>\n",
       "      <td>1.957</td>\n",
       "    </tr>\n",
       "    <tr>\n",
       "      <th>6896</th>\n",
       "      <td>226_1b1_Pl_sc_LittC2SE</td>\n",
       "      <td>17.493</td>\n",
       "      <td>19.436</td>\n",
       "      <td>1</td>\n",
       "      <td>226_1b1_Pl_sc_LittC2SE_9.wav</td>\n",
       "      <td>1.943</td>\n",
       "    </tr>\n",
       "    <tr>\n",
       "      <th>6897</th>\n",
       "      <td>226_1b1_Pl_sc_LittC2SE</td>\n",
       "      <td>19.436</td>\n",
       "      <td>19.979</td>\n",
       "      <td>0</td>\n",
       "      <td>226_1b1_Pl_sc_LittC2SE_10.wav</td>\n",
       "      <td>0.543</td>\n",
       "    </tr>\n",
       "  </tbody>\n",
       "</table>\n",
       "<p>6898 rows × 6 columns</p>\n",
       "</div>"
      ],
      "text/plain": [
       "                       fname   start     end  crack_wheez  \\\n",
       "0     101_1b1_Al_sc_Meditron   0.036   0.579            0   \n",
       "1     101_1b1_Al_sc_Meditron   0.579   2.450            0   \n",
       "2     101_1b1_Al_sc_Meditron   2.450   3.893            0   \n",
       "3     101_1b1_Al_sc_Meditron   3.893   5.793            0   \n",
       "4     101_1b1_Al_sc_Meditron   5.793   7.521            0   \n",
       "...                      ...     ...     ...          ...   \n",
       "6893  226_1b1_Pl_sc_LittC2SE  11.721  13.693            1   \n",
       "6894  226_1b1_Pl_sc_LittC2SE  13.693  15.536            0   \n",
       "6895  226_1b1_Pl_sc_LittC2SE  15.536  17.493            0   \n",
       "6896  226_1b1_Pl_sc_LittC2SE  17.493  19.436            1   \n",
       "6897  226_1b1_Pl_sc_LittC2SE  19.436  19.979            0   \n",
       "\n",
       "                        fname_cycle    len  \n",
       "0      101_1b1_Al_sc_Meditron_0.wav  0.543  \n",
       "1      101_1b1_Al_sc_Meditron_1.wav  1.871  \n",
       "2      101_1b1_Al_sc_Meditron_2.wav  1.443  \n",
       "3      101_1b1_Al_sc_Meditron_3.wav  1.900  \n",
       "4      101_1b1_Al_sc_Meditron_4.wav  1.728  \n",
       "...                             ...    ...  \n",
       "6893   226_1b1_Pl_sc_LittC2SE_6.wav  1.972  \n",
       "6894   226_1b1_Pl_sc_LittC2SE_7.wav  1.843  \n",
       "6895   226_1b1_Pl_sc_LittC2SE_8.wav  1.957  \n",
       "6896   226_1b1_Pl_sc_LittC2SE_9.wav  1.943  \n",
       "6897  226_1b1_Pl_sc_LittC2SE_10.wav  0.543  \n",
       "\n",
       "[6898 rows x 6 columns]"
      ]
     },
     "execution_count": 56,
     "metadata": {},
     "output_type": "execute_result"
    }
   ],
   "source": [
    "file_data"
   ]
  },
  {
   "cell_type": "code",
   "execution_count": 59,
   "metadata": {},
   "outputs": [
    {
     "data": {
      "image/png": "[encoded data removed]",
      "text/plain": [
       "<Figure size 432x288 with 1 Axes>"
      ]
     },
     "metadata": {
      "needs_background": "light"
     },
     "output_type": "display_data"
    }
   ],
   "source": [
    "#Find the outliers \n",
    "box = plt.boxplot(file_data.len)"
   ]
  },
  {
   "cell_type": "code",
   "execution_count": 60,
   "metadata": {},
   "outputs": [
    {
     "data": {
      "text/plain": [
       "6.0"
      ]
     },
     "execution_count": 60,
     "metadata": {},
     "output_type": "execute_result"
    }
   ],
   "source": [
    "#Find the relative maximum -- 16s is an unusual breath cycles.\n",
    "#Choose a relative maximum length of breathcycle as 6s as most of the data falls undes 6s \n",
    "rel_max = [item.get_ydata()[1] for item in box['whiskers']][1]\n",
    "rel_max = np.ceil(rel_max)\n",
    "rel_max"
   ]
  },
  {
   "cell_type": "code",
   "execution_count": 62,
   "metadata": {},
   "outputs": [],
   "source": [
    "#Split the dataset into train and test set\n",
    "train_df, test_df = train_test_split(file_data, test_size=0.1, random_state=42, stratify = file_data['crack_wheez'])"
   ]
  },
  {
   "cell_type": "code",
   "execution_count": 63,
   "metadata": {},
   "outputs": [
    {
     "data": {
      "text/html": [
       "<div>\n",
       "<style scoped>\n",
       "    .dataframe tbody tr th:only-of-type {\n",
       "        vertical-align: middle;\n",
       "    }\n",
       "\n",
       "    .dataframe tbody tr th {\n",
       "        vertical-align: top;\n",
       "    }\n",
       "\n",
       "    .dataframe thead th {\n",
       "        text-align: right;\n",
       "    }\n",
       "</style>\n",
       "<table border=\"1\" class=\"dataframe\">\n",
       "  <thead>\n",
       "    <tr style=\"text-align: right;\">\n",
       "      <th></th>\n",
       "      <th>fname</th>\n",
       "      <th>start</th>\n",
       "      <th>end</th>\n",
       "      <th>crack_wheez</th>\n",
       "      <th>fname_cycle</th>\n",
       "      <th>len</th>\n",
       "    </tr>\n",
       "  </thead>\n",
       "  <tbody>\n",
       "    <tr>\n",
       "      <th>2235</th>\n",
       "      <td>145_3b4_Pl_mc_AKGC417L</td>\n",
       "      <td>15.7350</td>\n",
       "      <td>19.1400</td>\n",
       "      <td>0</td>\n",
       "      <td>145_3b4_Pl_mc_AKGC417L_4.wav</td>\n",
       "      <td>3.405</td>\n",
       "    </tr>\n",
       "    <tr>\n",
       "      <th>3029</th>\n",
       "      <td>157_1b1_Al_sc_Meditron</td>\n",
       "      <td>19.3580</td>\n",
       "      <td>23.0300</td>\n",
       "      <td>0</td>\n",
       "      <td>157_1b1_Al_sc_Meditron_3.wav</td>\n",
       "      <td>3.672</td>\n",
       "    </tr>\n",
       "    <tr>\n",
       "      <th>952</th>\n",
       "      <td>124_1b1_Lr_sc_Litt3200</td>\n",
       "      <td>4.4274</td>\n",
       "      <td>5.4465</td>\n",
       "      <td>0</td>\n",
       "      <td>124_1b1_Lr_sc_Litt3200_3.wav</td>\n",
       "      <td>1.019</td>\n",
       "    </tr>\n",
       "    <tr>\n",
       "      <th>5611</th>\n",
       "      <td>201_1b1_Al_sc_Meditron</td>\n",
       "      <td>2.0070</td>\n",
       "      <td>5.1220</td>\n",
       "      <td>1</td>\n",
       "      <td>201_1b1_Al_sc_Meditron_1.wav</td>\n",
       "      <td>3.115</td>\n",
       "    </tr>\n",
       "    <tr>\n",
       "      <th>4691</th>\n",
       "      <td>178_2b2_Ar_mc_AKGC417L</td>\n",
       "      <td>8.3870</td>\n",
       "      <td>10.5180</td>\n",
       "      <td>0</td>\n",
       "      <td>178_2b2_Ar_mc_AKGC417L_4.wav</td>\n",
       "      <td>2.131</td>\n",
       "    </tr>\n",
       "    <tr>\n",
       "      <th>...</th>\n",
       "      <td>...</td>\n",
       "      <td>...</td>\n",
       "      <td>...</td>\n",
       "      <td>...</td>\n",
       "      <td>...</td>\n",
       "      <td>...</td>\n",
       "    </tr>\n",
       "    <tr>\n",
       "      <th>4285</th>\n",
       "      <td>175_1b1_Al_sc_Litt3200</td>\n",
       "      <td>3.5720</td>\n",
       "      <td>6.6693</td>\n",
       "      <td>3</td>\n",
       "      <td>175_1b1_Al_sc_Litt3200_1.wav</td>\n",
       "      <td>3.097</td>\n",
       "    </tr>\n",
       "    <tr>\n",
       "      <th>6518</th>\n",
       "      <td>217_1b1_Tc_sc_Meditron</td>\n",
       "      <td>11.1070</td>\n",
       "      <td>13.2930</td>\n",
       "      <td>0</td>\n",
       "      <td>217_1b1_Tc_sc_Meditron_6.wav</td>\n",
       "      <td>2.186</td>\n",
       "    </tr>\n",
       "    <tr>\n",
       "      <th>1020</th>\n",
       "      <td>130_1p2_Ar_mc_AKGC417L</td>\n",
       "      <td>0.6970</td>\n",
       "      <td>2.4230</td>\n",
       "      <td>1</td>\n",
       "      <td>130_1p2_Ar_mc_AKGC417L_0.wav</td>\n",
       "      <td>1.726</td>\n",
       "    </tr>\n",
       "    <tr>\n",
       "      <th>1598</th>\n",
       "      <td>133_2p3_Ar_mc_AKGC417L</td>\n",
       "      <td>9.9460</td>\n",
       "      <td>12.5420</td>\n",
       "      <td>0</td>\n",
       "      <td>133_2p3_Ar_mc_AKGC417L_4.wav</td>\n",
       "      <td>2.596</td>\n",
       "    </tr>\n",
       "    <tr>\n",
       "      <th>3683</th>\n",
       "      <td>166_1p1_Ar_sc_Meditron</td>\n",
       "      <td>11.9350</td>\n",
       "      <td>14.2260</td>\n",
       "      <td>0</td>\n",
       "      <td>166_1p1_Ar_sc_Meditron_4.wav</td>\n",
       "      <td>2.291</td>\n",
       "    </tr>\n",
       "  </tbody>\n",
       "</table>\n",
       "<p>6208 rows × 6 columns</p>\n",
       "</div>"
      ],
      "text/plain": [
       "                       fname    start      end  crack_wheez  \\\n",
       "2235  145_3b4_Pl_mc_AKGC417L  15.7350  19.1400            0   \n",
       "3029  157_1b1_Al_sc_Meditron  19.3580  23.0300            0   \n",
       "952   124_1b1_Lr_sc_Litt3200   4.4274   5.4465            0   \n",
       "5611  201_1b1_Al_sc_Meditron   2.0070   5.1220            1   \n",
       "4691  178_2b2_Ar_mc_AKGC417L   8.3870  10.5180            0   \n",
       "...                      ...      ...      ...          ...   \n",
       "4285  175_1b1_Al_sc_Litt3200   3.5720   6.6693            3   \n",
       "6518  217_1b1_Tc_sc_Meditron  11.1070  13.2930            0   \n",
       "1020  130_1p2_Ar_mc_AKGC417L   0.6970   2.4230            1   \n",
       "1598  133_2p3_Ar_mc_AKGC417L   9.9460  12.5420            0   \n",
       "3683  166_1p1_Ar_sc_Meditron  11.9350  14.2260            0   \n",
       "\n",
       "                       fname_cycle    len  \n",
       "2235  145_3b4_Pl_mc_AKGC417L_4.wav  3.405  \n",
       "3029  157_1b1_Al_sc_Meditron_3.wav  3.672  \n",
       "952   124_1b1_Lr_sc_Litt3200_3.wav  1.019  \n",
       "5611  201_1b1_Al_sc_Meditron_1.wav  3.115  \n",
       "4691  178_2b2_Ar_mc_AKGC417L_4.wav  2.131  \n",
       "...                            ...    ...  \n",
       "4285  175_1b1_Al_sc_Litt3200_1.wav  3.097  \n",
       "6518  217_1b1_Tc_sc_Meditron_6.wav  2.186  \n",
       "1020  130_1p2_Ar_mc_AKGC417L_0.wav  1.726  \n",
       "1598  133_2p3_Ar_mc_AKGC417L_4.wav  2.596  \n",
       "3683  166_1p1_Ar_sc_Meditron_4.wav  2.291  \n",
       "\n",
       "[6208 rows x 6 columns]"
      ]
     },
     "execution_count": 63,
     "metadata": {},
     "output_type": "execute_result"
    }
   ],
   "source": [
    "train_df"
   ]
  },
  {
   "cell_type": "code",
   "execution_count": 64,
   "metadata": {},
   "outputs": [],
   "source": [
    "#Reset index\n",
    "train_df.reset_index(drop=True, inplace=True)\n",
    "test_df.reset_index(drop=True, inplace=True)"
   ]
  },
  {
   "cell_type": "code",
   "execution_count": 65,
   "metadata": {},
   "outputs": [],
   "source": [
    "#Set maxpad length as 94 <--(Sampling rate*6s)/256(hop length)\n",
    "def build_feat(df):\n",
    "    X = []\n",
    "    Y = []\n",
    "    max_pad_len = 94\n",
    "    for i in tqdm(range(len(df))):\n",
    "        file = df.iloc[i].fname_cycle\n",
    "        label = df.iloc[i].crack_wheez\n",
    "        wav,  rate = lb.load('Breath_cycles/'+ file, sr=None)\n",
    "        #limit the length of samples to only 6s (6*4000)\n",
    "        if wav.shape[0] > 24000:\n",
    "            wav = wav[0:24000]\n",
    "        X_sample = lb.feature.mfcc(wav, sr=rate, n_fft=512,  win_length=400, n_mfcc=20, hop_length = 256, n_mels = 128, fmin = 100, fmax = 1800)\n",
    "        pad_width = max_pad_len - X_sample.shape[1]\n",
    "        X_sample = np.pad(X_sample, pad_width=((0, 0), (0, pad_width)), mode='constant')\n",
    "        X.append(X_sample)\n",
    "        Y.append(label)\n",
    "    X, Y = np.array(X), np.array(Y)\n",
    "    return X, Y"
   ]
  },
  {
   "cell_type": "code",
   "execution_count": 69,
   "metadata": {},
   "outputs": [
    {
     "name": "stderr",
     "output_type": "stream",
     "text": [
      "100%|██████████| 6208/6208 [01:49<00:00, 56.63it/s]\n"
     ]
    }
   ],
   "source": [
    "#Extract features for training data\n",
    "X_, y_ = build_feat(train_df)"
   ]
  },
  {
   "cell_type": "code",
   "execution_count": 70,
   "metadata": {},
   "outputs": [
    {
     "data": {
      "text/plain": [
       "array([0, 0, 0, ..., 1, 0, 0], dtype=int64)"
      ]
     },
     "execution_count": 70,
     "metadata": {},
     "output_type": "execute_result"
    }
   ],
   "source": [
    "y_"
   ]
  },
  {
   "cell_type": "code",
   "execution_count": 71,
   "metadata": {},
   "outputs": [
    {
     "data": {
      "text/plain": [
       "(6208, 20, 94)"
      ]
     },
     "execution_count": 71,
     "metadata": {},
     "output_type": "execute_result"
    }
   ],
   "source": [
    "X_.shape"
   ]
  },
  {
   "cell_type": "code",
   "execution_count": 72,
   "metadata": {},
   "outputs": [
    {
     "name": "stderr",
     "output_type": "stream",
     "text": [
      "100%|██████████| 690/690 [00:09<00:00, 69.27it/s]\n"
     ]
    }
   ],
   "source": [
    "#Extract feature for testing data\n",
    "X_test, y_test = build_feat(test_df)"
   ]
  },
  {
   "cell_type": "code",
   "execution_count": 73,
   "metadata": {},
   "outputs": [],
   "source": [
    "#Split the training data further into train and validation set\n",
    "X_tr, X_val, y_tr, y_val = train_test_split(X_, y_, test_size=0.1, random_state=42)"
   ]
  },
  {
   "cell_type": "code",
   "execution_count": 74,
   "metadata": {},
   "outputs": [],
   "source": [
    "#Convert labels into one hot vectors\n",
    "y_tr_cat= to_categorical(y_tr, num_classes=4)\n",
    "y_test_cat= to_categorical(y_test, num_classes=4)\n",
    "y_val_cat= to_categorical(y_val, num_classes=4)"
   ]
  },
  {
   "cell_type": "code",
   "execution_count": 75,
   "metadata": {},
   "outputs": [],
   "source": [
    "#Compute class weight for handling unbalanced classes\n",
    "#https://www.tensorflow.org/tutorials/structured_data/imbalanced_data#class_weights\n",
    "class_weight = compute_class_weight('balanced', np.unique(y_tr), y_tr)"
   ]
  },
  {
   "cell_type": "code",
   "execution_count": 76,
   "metadata": {},
   "outputs": [
    {
     "data": {
      "text/plain": [
       "array([0.47251353, 0.92992676, 1.93993056, 3.41503667])"
      ]
     },
     "execution_count": 76,
     "metadata": {},
     "output_type": "execute_result"
    }
   ],
   "source": [
    "class_weight"
   ]
  },
  {
   "cell_type": "code",
   "execution_count": 83,
   "metadata": {},
   "outputs": [],
   "source": [
    "np.save('X_tr', X_tr)\n",
    "np.save('X_val', X_val)\n",
    "np.save('X_test', X_test)\n",
    "np.save('y_tr', y_tr)\n",
    "np.save('y_val', y_val)\n",
    "np.save('y_test', y_test)\n",
    "np.save('class_weight', class_weight)"
   ]
  },
  {
   "cell_type": "code",
   "execution_count": 84,
   "metadata": {
    "scrolled": false
   },
   "outputs": [
    {
     "name": "stdout",
     "output_type": "stream",
     "text": [
      "Model: \"sequential_7\"\n",
      "_________________________________________________________________\n",
      "Layer (type)                 Output Shape              Param #   \n",
      "=================================================================\n",
      "permute_5 (Permute)          (None, 94, 20)            0         \n",
      "_________________________________________________________________\n",
      "bidirectional_10 (Bidirectio (None, 94, 256)           152576    \n",
      "_________________________________________________________________\n",
      "dropout_10 (Dropout)         (None, 94, 256)           0         \n",
      "_________________________________________________________________\n",
      "bidirectional_11 (Bidirectio (None, 94, 256)           394240    \n",
      "_________________________________________________________________\n",
      "dropout_11 (Dropout)         (None, 94, 256)           0         \n",
      "_________________________________________________________________\n",
      "time_distributed_5 (TimeDist (None, 94, 64)            16448     \n",
      "_________________________________________________________________\n",
      "dense_16 (Dense)             (None, 94, 32)            2080      \n",
      "_________________________________________________________________\n",
      "flatten_4 (Flatten)          (None, 3008)              0         \n",
      "_________________________________________________________________\n",
      "dense_17 (Dense)             (None, 4)                 12036     \n",
      "=================================================================\n",
      "Total params: 577,380\n",
      "Trainable params: 577,380\n",
      "Non-trainable params: 0\n",
      "_________________________________________________________________\n"
     ]
    }
   ],
   "source": [
    "#Construct the model\n",
    "model = Sequential()\n",
    "model.add(Input(shape = (X_tr.shape[1], X_tr.shape[2])))\n",
    "model.add(Permute((2,1)))\n",
    "model.add(Bidirectional(LSTM(128, return_sequences = True)))\n",
    "model.add(Dropout(0.2))\n",
    "model.add(Bidirectional(LSTM(128, return_sequences = True)))\n",
    "model.add(Dropout(0.2))\n",
    "model.add(TimeDistributed(Dense(64,activation='relu')))\n",
    "model.add(Dense(32,activation='relu', activity_regularizer=regularizers.l2(0.001)))\n",
    "model.add(Flatten())\n",
    "model.add(Dense(4,activation='softmax'))\n",
    "model.summary()"
   ]
  },
  {
   "cell_type": "code",
   "execution_count": 85,
   "metadata": {},
   "outputs": [],
   "source": [
    "#Compile the model\n",
    "model.compile(loss='categorical_crossentropy', metrics=['accuracy'], optimizer='adam') "
   ]
  },
  {
   "cell_type": "code",
   "execution_count": 86,
   "metadata": {},
   "outputs": [],
   "source": [
    "logdir = os.path.join(\"logs\", datetime.datetime.now().strftime(\"%Y%m%d-%H%M%S\"))\n",
    "tensorboard_callback = tf.keras.callbacks.TensorBoard(logdir, histogram_freq=1)"
   ]
  },
  {
   "cell_type": "code",
   "execution_count": 87,
   "metadata": {
    "scrolled": true
   },
   "outputs": [
    {
     "data": {
      "text/plain": [
       "<tensorflow.python.keras.callbacks.History at 0x178c023ab48>"
      ]
     },
     "execution_count": 87,
     "metadata": {},
     "output_type": "execute_result"
    }
   ],
   "source": [
    "model.fit(X_tr,y_tr_cat, epochs = 50, batch_size = 256, class_weight= class_weight, shuffle= True, \n",
    "          validation_data=(X_val, y_val_cat), callbacks=[tensorboard_callback], verbose=False)"
   ]
  },
  {
   "cell_type": "code",
   "execution_count": 94,
   "metadata": {},
   "outputs": [
    {
     "data": {
      "text/plain": [
       "Reusing TensorBoard on port 6006 (pid 26468), started 0:00:28 ago. (Use '!kill 26468' to kill it.)"
      ]
     },
     "metadata": {},
     "output_type": "display_data"
    },
    {
     "data": {
      "text/html": [
       "\n",
       "      <iframe id=\"tensorboard-frame-75ad8f2f58d9cdf5\" width=\"100%\" height=\"800\" frameborder=\"0\">\n",
       "      </iframe>\n",
       "      <script>\n",
       "        (function() {\n",
       "          const frame = document.getElementById(\"tensorboard-frame-75ad8f2f58d9cdf5\");\n",
       "          const url = new URL(\"/\", window.location);\n",
       "          url.port = 6006;\n",
       "          frame.src = url;\n",
       "        })();\n",
       "      </script>\n",
       "  "
      ],
      "text/plain": [
       "<IPython.core.display.HTML object>"
      ]
     },
     "metadata": {},
     "output_type": "display_data"
    }
   ],
   "source": [
    "%tensorboard --logdir logs\\20200909-192104"
   ]
  },
  {
   "cell_type": "code",
   "execution_count": 89,
   "metadata": {},
   "outputs": [
    {
     "data": {
      "text/plain": [
       "(690, 20, 94)"
      ]
     },
     "execution_count": 89,
     "metadata": {},
     "output_type": "execute_result"
    }
   ],
   "source": [
    "X_test.shape"
   ]
  },
  {
   "cell_type": "code",
   "execution_count": 90,
   "metadata": {},
   "outputs": [
    {
     "data": {
      "text/plain": [
       "array([0, 2, 0, 0, 0, 0, 0, 3, 0, 0, 3, 1, 0, 1, 0, 1, 1, 0, 0, 1, 0, 0,\n",
       "       0, 0, 3, 0, 2, 2, 1, 2, 0, 0, 0, 0, 0, 1, 0, 1, 2, 0, 1, 0, 0, 2,\n",
       "       3, 0, 0, 0, 0, 0, 0, 0, 0, 2, 0, 1, 0, 0, 0, 0, 3, 0, 0, 0, 2, 0,\n",
       "       0, 0, 0, 1, 2, 2, 2, 3, 3, 0, 1, 0, 1, 1, 2, 0, 3, 3, 0, 1, 0, 0,\n",
       "       1, 1, 0, 0, 3, 0, 0, 0, 0, 1, 0, 1, 0, 1, 3, 0, 1, 2, 2, 1, 0, 0,\n",
       "       0, 1, 3, 1, 0, 1, 1, 1, 2, 2, 1, 3, 2, 1, 0, 0, 1, 0, 2, 2, 0, 0,\n",
       "       3, 1, 3, 0, 1, 0, 1, 0, 0, 3, 2, 2, 0, 0, 0, 0, 0, 1, 0, 0, 0, 1,\n",
       "       0, 1, 0, 2, 0, 1, 1, 2, 1, 0, 0, 0, 0, 0, 0, 0, 1, 3, 0, 2, 1, 0,\n",
       "       0, 1, 0, 0, 0, 1, 0, 0, 2, 0, 1, 1, 0, 1, 0, 0, 0, 0, 1, 0, 0, 2,\n",
       "       1, 2, 0, 0, 1, 3, 3, 0, 1, 0, 3, 1, 3, 2, 2, 0, 2, 0, 0, 0, 1, 0,\n",
       "       0, 0, 1, 1, 0, 0, 0, 1, 1, 0, 0, 3, 0, 0, 0, 1, 1, 0, 1, 1, 1, 0,\n",
       "       0, 0, 1, 0, 1, 1, 2, 0, 1, 0, 2, 0, 3, 0, 1, 0, 0, 0, 0, 2, 1, 0,\n",
       "       0, 1, 1, 3, 0, 0, 2, 0, 0, 1, 1, 2, 1, 0, 0, 1, 0, 1, 0, 0, 0, 1,\n",
       "       1, 0, 0, 2, 0, 0, 0, 0, 0, 0, 0, 3, 1, 3, 2, 1, 0, 0, 0, 0, 0, 0,\n",
       "       0, 0, 0, 2, 0, 1, 3, 0, 0, 0, 0, 0, 0, 2, 2, 1, 2, 0, 0, 2, 0, 0,\n",
       "       0, 1, 1, 1, 2, 1, 1, 2, 1, 1, 3, 0, 1, 1, 0, 2, 0, 1, 3, 0, 0, 0,\n",
       "       0, 0, 1, 0, 1, 0, 0, 0, 1, 0, 2, 1, 1, 0, 2, 2, 1, 3, 0, 1, 0, 0,\n",
       "       1, 0, 0, 1, 3, 1, 1, 1, 3, 1, 1, 0, 0, 0, 0, 1, 2, 0, 0, 0, 0, 1,\n",
       "       0, 0, 1, 0, 0, 2, 1, 0, 2, 0, 0, 0, 0, 2, 1, 1, 0, 1, 2, 1, 1, 1,\n",
       "       2, 3, 0, 0, 3, 0, 1, 1, 0, 0, 0, 1, 0, 0, 0, 3, 2, 1, 0, 0, 0, 0,\n",
       "       0, 0, 0, 0, 0, 0, 0, 1, 1, 1, 1, 0, 2, 0, 1, 1, 0, 0, 0, 1, 0, 0,\n",
       "       0, 0, 2, 0, 1, 2, 0, 2, 1, 3, 0, 0, 0, 0, 0, 0, 0, 0, 1, 3, 1, 0,\n",
       "       1, 3, 0, 0, 0, 0, 2, 0, 1, 0, 1, 1, 2, 0, 0, 2, 0, 0, 2, 0, 1, 0,\n",
       "       2, 0, 0, 0, 1, 0, 2, 1, 1, 1, 0, 0, 3, 2, 1, 2, 0, 0, 1, 2, 0, 0,\n",
       "       0, 0, 0, 0, 0, 2, 0, 1, 1, 2, 1, 3, 3, 0, 1, 1, 2, 0, 0, 0, 1, 0,\n",
       "       1, 0, 0, 0, 0, 2, 0, 0, 1, 3, 1, 0, 3, 2, 0, 1, 0, 2, 1, 0, 1, 1,\n",
       "       0, 1, 0, 0, 2, 1, 0, 0, 1, 2, 0, 0, 0, 2, 0, 3, 0, 3, 1, 1, 2, 1,\n",
       "       2, 1, 0, 1, 0, 0, 0, 0, 1, 3, 0, 0, 1, 1, 1, 1, 1, 0, 2, 0, 0, 1,\n",
       "       0, 0, 0, 0, 0, 3, 0, 0, 0, 1, 0, 1, 0, 0, 0, 2, 2, 0, 0, 1, 0, 0,\n",
       "       0, 1, 0, 0, 1, 2, 0, 1, 1, 1, 0, 2, 0, 0, 1, 3, 0, 1, 1, 0, 0, 3,\n",
       "       0, 2, 0, 0, 0, 1, 2, 1, 3, 2, 0, 0, 0, 1, 0, 0, 0, 0, 1, 1, 0, 0,\n",
       "       2, 1, 0, 3, 0, 1, 2, 0], dtype=int64)"
      ]
     },
     "execution_count": 90,
     "metadata": {},
     "output_type": "execute_result"
    }
   ],
   "source": [
    "y_test"
   ]
  },
  {
   "cell_type": "code",
   "execution_count": 91,
   "metadata": {},
   "outputs": [
    {
     "name": "stdout",
     "output_type": "stream",
     "text": [
      "690/690 [==============================] - 25s 36ms/sample\n"
     ]
    },
    {
     "data": {
      "text/plain": [
       "array([0, 3, 1, 0, 2, 0, 0, 1, 0, 0, 3, 1, 1, 1, 0, 1, 2, 0, 1, 1, 0, 0,\n",
       "       0, 0, 1, 0, 0, 2, 0, 0, 0, 0, 0, 0, 0, 0, 0, 0, 2, 0, 0, 0, 1, 2,\n",
       "       0, 0, 0, 1, 0, 0, 0, 0, 1, 1, 2, 1, 0, 0, 0, 0, 3, 0, 0, 0, 2, 0,\n",
       "       0, 0, 0, 0, 0, 2, 3, 1, 3, 0, 1, 0, 1, 1, 2, 1, 3, 2, 0, 1, 0, 2,\n",
       "       1, 0, 0, 0, 1, 0, 0, 0, 1, 1, 0, 0, 0, 1, 1, 1, 1, 2, 2, 0, 0, 0,\n",
       "       3, 1, 2, 0, 0, 0, 1, 1, 0, 2, 0, 0, 0, 1, 0, 1, 1, 0, 2, 0, 1, 0,\n",
       "       1, 1, 0, 0, 1, 1, 1, 0, 0, 3, 0, 2, 0, 0, 0, 0, 0, 1, 0, 0, 0, 1,\n",
       "       0, 3, 0, 0, 0, 1, 1, 0, 0, 0, 0, 0, 0, 0, 0, 0, 0, 1, 0, 1, 1, 0,\n",
       "       0, 2, 0, 0, 0, 0, 0, 1, 0, 0, 1, 1, 0, 1, 0, 0, 0, 1, 1, 0, 0, 2,\n",
       "       0, 2, 1, 1, 1, 0, 3, 1, 1, 0, 3, 1, 3, 2, 3, 1, 0, 0, 1, 0, 1, 0,\n",
       "       0, 0, 1, 1, 0, 0, 0, 1, 0, 0, 0, 1, 0, 0, 0, 3, 1, 0, 1, 1, 0, 0,\n",
       "       1, 0, 1, 0, 1, 0, 1, 0, 0, 0, 2, 2, 1, 0, 1, 0, 0, 0, 0, 0, 1, 0,\n",
       "       0, 1, 0, 2, 0, 0, 3, 0, 0, 1, 2, 2, 0, 0, 0, 1, 1, 0, 0, 0, 0, 0,\n",
       "       1, 0, 1, 2, 0, 0, 0, 0, 1, 0, 0, 0, 1, 3, 1, 1, 0, 1, 1, 0, 0, 0,\n",
       "       0, 0, 0, 2, 0, 1, 3, 1, 0, 0, 2, 0, 0, 0, 0, 2, 0, 0, 0, 3, 0, 0,\n",
       "       0, 1, 0, 1, 2, 1, 0, 2, 1, 1, 3, 0, 0, 1, 2, 2, 0, 0, 3, 0, 0, 0,\n",
       "       0, 0, 1, 0, 1, 1, 2, 0, 1, 0, 2, 1, 1, 1, 3, 2, 1, 3, 0, 1, 2, 0,\n",
       "       1, 0, 1, 1, 1, 1, 1, 1, 1, 0, 1, 0, 0, 0, 0, 1, 1, 0, 0, 0, 0, 1,\n",
       "       0, 1, 0, 0, 0, 2, 1, 0, 3, 0, 1, 0, 1, 2, 1, 1, 0, 0, 0, 1, 0, 2,\n",
       "       2, 1, 0, 2, 0, 0, 1, 1, 0, 0, 0, 1, 0, 0, 0, 3, 0, 1, 0, 0, 0, 0,\n",
       "       1, 0, 0, 0, 1, 0, 0, 1, 1, 1, 2, 0, 0, 3, 0, 1, 1, 0, 0, 1, 0, 0,\n",
       "       0, 0, 1, 0, 1, 3, 0, 0, 1, 0, 0, 0, 0, 0, 0, 0, 0, 0, 1, 2, 1, 0,\n",
       "       1, 3, 0, 0, 0, 0, 1, 0, 1, 0, 1, 1, 0, 0, 0, 2, 0, 0, 2, 0, 1, 0,\n",
       "       2, 0, 0, 1, 0, 2, 2, 1, 1, 1, 2, 0, 3, 1, 1, 2, 0, 0, 1, 0, 0, 0,\n",
       "       0, 2, 0, 0, 0, 3, 0, 1, 1, 2, 0, 3, 1, 0, 0, 0, 2, 1, 0, 0, 0, 0,\n",
       "       0, 0, 0, 0, 0, 2, 0, 0, 0, 1, 1, 0, 1, 0, 1, 1, 0, 0, 0, 0, 3, 1,\n",
       "       0, 1, 0, 0, 1, 1, 0, 1, 0, 0, 1, 2, 1, 0, 0, 1, 0, 0, 0, 1, 1, 1,\n",
       "       2, 1, 0, 1, 0, 1, 0, 1, 0, 2, 0, 0, 0, 1, 0, 1, 1, 0, 3, 1, 0, 1,\n",
       "       0, 0, 1, 0, 0, 3, 0, 2, 1, 1, 0, 1, 0, 1, 0, 1, 2, 0, 0, 0, 0, 0,\n",
       "       0, 1, 0, 0, 0, 2, 0, 1, 1, 1, 1, 2, 0, 0, 1, 2, 0, 0, 1, 0, 0, 1,\n",
       "       0, 2, 0, 0, 0, 1, 2, 1, 2, 0, 0, 0, 0, 1, 0, 3, 0, 0, 1, 1, 0, 0,\n",
       "       0, 1, 0, 1, 0, 1, 1, 0], dtype=int64)"
      ]
     },
     "execution_count": 91,
     "metadata": {},
     "output_type": "execute_result"
    }
   ],
   "source": [
    "#Make predictions on unseen data\n",
    "model.predict_classes(X_test, verbose=1)"
   ]
  },
  {
   "cell_type": "code",
   "execution_count": 92,
   "metadata": {},
   "outputs": [
    {
     "name": "stdout",
     "output_type": "stream",
     "text": [
      "690/690 [==============================] - 14s 21ms/sample - loss: 1.2303 - accuracy: 0.7043\n"
     ]
    }
   ],
   "source": [
    "res = model.evaluate(X_test, y = y_test_cat, verbose=1)"
   ]
  },
  {
   "cell_type": "code",
   "execution_count": 93,
   "metadata": {},
   "outputs": [
    {
     "name": "stdout",
     "output_type": "stream",
     "text": [
      "WARNING:tensorflow:From C:\\Users\\Thasleem\\anaconda3\\envs\\cmpe_255\\lib\\site-packages\\tensorflow_core\\python\\ops\\resource_variable_ops.py:1786: calling BaseResourceVariable.__init__ (from tensorflow.python.ops.resource_variable_ops) with constraint is deprecated and will be removed in a future version.\n",
      "Instructions for updating:\n",
      "If using Keras pass *_constraint arguments to layers.\n",
      "INFO:tensorflow:Assets written to: Baseline_model_9_9\\assets\n"
     ]
    }
   ],
   "source": [
    "#Save model\n",
    "model.save('Baseline_model_9_9')"
   ]
  }
 ],
 "metadata": {
  "kernelspec": {
   "display_name": "Python 3",
   "language": "python",
   "name": "python3"
  },
  "language_info": {
   "codemirror_mode": {
    "name": "ipython",
    "version": 3
   },
   "file_extension": ".py",
   "mimetype": "text/x-python",
   "name": "python",
   "nbconvert_exporter": "python",
   "pygments_lexer": "ipython3",
   "version": "3.8.3"
  }
 },
 "nbformat": 4,
 "nbformat_minor": 4
}

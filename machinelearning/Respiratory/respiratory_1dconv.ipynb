{
 "cells": [
  {
   "cell_type": "code",
   "execution_count": 32,
   "metadata": {},
   "outputs": [],
   "source": [
    "import pandas as pd\n",
    "import os\n",
    "import librosa\n",
    "import numpy as np\n",
    "from tqdm import tqdm\n",
    "from sklearn.model_selection import train_test_split\n",
    "from tensorflow.keras.models import Sequential\n",
    "from tensorflow.keras.layers import Conv1D, MaxPooling1D, SeparableConv1D, Dropout, Dense, Flatten"
   ]
  },
  {
   "cell_type": "code",
   "execution_count": 14,
   "metadata": {},
   "outputs": [
    {
     "data": {
      "text/html": [
       "<div>\n",
       "<style scoped>\n",
       "    .dataframe tbody tr th:only-of-type {\n",
       "        vertical-align: middle;\n",
       "    }\n",
       "\n",
       "    .dataframe tbody tr th {\n",
       "        vertical-align: top;\n",
       "    }\n",
       "\n",
       "    .dataframe thead th {\n",
       "        text-align: right;\n",
       "    }\n",
       "</style>\n",
       "<table border=\"1\" class=\"dataframe\">\n",
       "  <thead>\n",
       "    <tr style=\"text-align: right;\">\n",
       "      <th></th>\n",
       "      <th>fname</th>\n",
       "      <th>start</th>\n",
       "      <th>end</th>\n",
       "      <th>crack_wheez</th>\n",
       "      <th>fname_cycle</th>\n",
       "    </tr>\n",
       "  </thead>\n",
       "  <tbody>\n",
       "    <tr>\n",
       "      <th>0</th>\n",
       "      <td>101_1b1_Al_sc_Meditron</td>\n",
       "      <td>0.036</td>\n",
       "      <td>0.579</td>\n",
       "      <td>0</td>\n",
       "      <td>101_1b1_Al_sc_Meditron_0.wav</td>\n",
       "    </tr>\n",
       "    <tr>\n",
       "      <th>1</th>\n",
       "      <td>101_1b1_Al_sc_Meditron</td>\n",
       "      <td>0.579</td>\n",
       "      <td>2.450</td>\n",
       "      <td>0</td>\n",
       "      <td>101_1b1_Al_sc_Meditron_1.wav</td>\n",
       "    </tr>\n",
       "    <tr>\n",
       "      <th>2</th>\n",
       "      <td>101_1b1_Al_sc_Meditron</td>\n",
       "      <td>2.450</td>\n",
       "      <td>3.893</td>\n",
       "      <td>0</td>\n",
       "      <td>101_1b1_Al_sc_Meditron_2.wav</td>\n",
       "    </tr>\n",
       "    <tr>\n",
       "      <th>3</th>\n",
       "      <td>101_1b1_Al_sc_Meditron</td>\n",
       "      <td>3.893</td>\n",
       "      <td>5.793</td>\n",
       "      <td>0</td>\n",
       "      <td>101_1b1_Al_sc_Meditron_3.wav</td>\n",
       "    </tr>\n",
       "    <tr>\n",
       "      <th>4</th>\n",
       "      <td>101_1b1_Al_sc_Meditron</td>\n",
       "      <td>5.793</td>\n",
       "      <td>7.521</td>\n",
       "      <td>0</td>\n",
       "      <td>101_1b1_Al_sc_Meditron_4.wav</td>\n",
       "    </tr>\n",
       "    <tr>\n",
       "      <th>...</th>\n",
       "      <td>...</td>\n",
       "      <td>...</td>\n",
       "      <td>...</td>\n",
       "      <td>...</td>\n",
       "      <td>...</td>\n",
       "    </tr>\n",
       "    <tr>\n",
       "      <th>6893</th>\n",
       "      <td>226_1b1_Pl_sc_LittC2SE</td>\n",
       "      <td>11.721</td>\n",
       "      <td>13.693</td>\n",
       "      <td>1</td>\n",
       "      <td>226_1b1_Pl_sc_LittC2SE_6.wav</td>\n",
       "    </tr>\n",
       "    <tr>\n",
       "      <th>6894</th>\n",
       "      <td>226_1b1_Pl_sc_LittC2SE</td>\n",
       "      <td>13.693</td>\n",
       "      <td>15.536</td>\n",
       "      <td>0</td>\n",
       "      <td>226_1b1_Pl_sc_LittC2SE_7.wav</td>\n",
       "    </tr>\n",
       "    <tr>\n",
       "      <th>6895</th>\n",
       "      <td>226_1b1_Pl_sc_LittC2SE</td>\n",
       "      <td>15.536</td>\n",
       "      <td>17.493</td>\n",
       "      <td>0</td>\n",
       "      <td>226_1b1_Pl_sc_LittC2SE_8.wav</td>\n",
       "    </tr>\n",
       "    <tr>\n",
       "      <th>6896</th>\n",
       "      <td>226_1b1_Pl_sc_LittC2SE</td>\n",
       "      <td>17.493</td>\n",
       "      <td>19.436</td>\n",
       "      <td>1</td>\n",
       "      <td>226_1b1_Pl_sc_LittC2SE_9.wav</td>\n",
       "    </tr>\n",
       "    <tr>\n",
       "      <th>6897</th>\n",
       "      <td>226_1b1_Pl_sc_LittC2SE</td>\n",
       "      <td>19.436</td>\n",
       "      <td>19.979</td>\n",
       "      <td>0</td>\n",
       "      <td>226_1b1_Pl_sc_LittC2SE_10.wav</td>\n",
       "    </tr>\n",
       "  </tbody>\n",
       "</table>\n",
       "<p>6898 rows × 5 columns</p>\n",
       "</div>"
      ],
      "text/plain": [
       "                       fname   start     end  crack_wheez  \\\n",
       "0     101_1b1_Al_sc_Meditron   0.036   0.579            0   \n",
       "1     101_1b1_Al_sc_Meditron   0.579   2.450            0   \n",
       "2     101_1b1_Al_sc_Meditron   2.450   3.893            0   \n",
       "3     101_1b1_Al_sc_Meditron   3.893   5.793            0   \n",
       "4     101_1b1_Al_sc_Meditron   5.793   7.521            0   \n",
       "...                      ...     ...     ...          ...   \n",
       "6893  226_1b1_Pl_sc_LittC2SE  11.721  13.693            1   \n",
       "6894  226_1b1_Pl_sc_LittC2SE  13.693  15.536            0   \n",
       "6895  226_1b1_Pl_sc_LittC2SE  15.536  17.493            0   \n",
       "6896  226_1b1_Pl_sc_LittC2SE  17.493  19.436            1   \n",
       "6897  226_1b1_Pl_sc_LittC2SE  19.436  19.979            0   \n",
       "\n",
       "                        fname_cycle  \n",
       "0      101_1b1_Al_sc_Meditron_0.wav  \n",
       "1      101_1b1_Al_sc_Meditron_1.wav  \n",
       "2      101_1b1_Al_sc_Meditron_2.wav  \n",
       "3      101_1b1_Al_sc_Meditron_3.wav  \n",
       "4      101_1b1_Al_sc_Meditron_4.wav  \n",
       "...                             ...  \n",
       "6893   226_1b1_Pl_sc_LittC2SE_6.wav  \n",
       "6894   226_1b1_Pl_sc_LittC2SE_7.wav  \n",
       "6895   226_1b1_Pl_sc_LittC2SE_8.wav  \n",
       "6896   226_1b1_Pl_sc_LittC2SE_9.wav  \n",
       "6897  226_1b1_Pl_sc_LittC2SE_10.wav  \n",
       "\n",
       "[6898 rows x 5 columns]"
      ]
     },
     "execution_count": 14,
     "metadata": {},
     "output_type": "execute_result"
    }
   ],
   "source": [
    "file_data = pd.read_csv('./\\Breath_cycles/file_data.csv')\n",
    "file_data"
   ]
  },
  {
   "cell_type": "code",
   "execution_count": 15,
   "metadata": {},
   "outputs": [
    {
     "data": {
      "text/html": [
       "<div>\n",
       "<style scoped>\n",
       "    .dataframe tbody tr th:only-of-type {\n",
       "        vertical-align: middle;\n",
       "    }\n",
       "\n",
       "    .dataframe tbody tr th {\n",
       "        vertical-align: top;\n",
       "    }\n",
       "\n",
       "    .dataframe thead th {\n",
       "        text-align: right;\n",
       "    }\n",
       "</style>\n",
       "<table border=\"1\" class=\"dataframe\">\n",
       "  <thead>\n",
       "    <tr style=\"text-align: right;\">\n",
       "      <th></th>\n",
       "      <th>fname</th>\n",
       "      <th>start</th>\n",
       "      <th>end</th>\n",
       "      <th>crack_wheez</th>\n",
       "      <th>fname_cycle</th>\n",
       "    </tr>\n",
       "  </thead>\n",
       "  <tbody>\n",
       "    <tr>\n",
       "      <th>2235</th>\n",
       "      <td>145_3b4_Pl_mc_AKGC417L</td>\n",
       "      <td>15.7350</td>\n",
       "      <td>19.1400</td>\n",
       "      <td>0</td>\n",
       "      <td>145_3b4_Pl_mc_AKGC417L_4.wav</td>\n",
       "    </tr>\n",
       "    <tr>\n",
       "      <th>3029</th>\n",
       "      <td>157_1b1_Al_sc_Meditron</td>\n",
       "      <td>19.3580</td>\n",
       "      <td>23.0300</td>\n",
       "      <td>0</td>\n",
       "      <td>157_1b1_Al_sc_Meditron_3.wav</td>\n",
       "    </tr>\n",
       "    <tr>\n",
       "      <th>952</th>\n",
       "      <td>124_1b1_Lr_sc_Litt3200</td>\n",
       "      <td>4.4274</td>\n",
       "      <td>5.4465</td>\n",
       "      <td>0</td>\n",
       "      <td>124_1b1_Lr_sc_Litt3200_3.wav</td>\n",
       "    </tr>\n",
       "    <tr>\n",
       "      <th>5611</th>\n",
       "      <td>201_1b1_Al_sc_Meditron</td>\n",
       "      <td>2.0070</td>\n",
       "      <td>5.1220</td>\n",
       "      <td>1</td>\n",
       "      <td>201_1b1_Al_sc_Meditron_1.wav</td>\n",
       "    </tr>\n",
       "    <tr>\n",
       "      <th>4691</th>\n",
       "      <td>178_2b2_Ar_mc_AKGC417L</td>\n",
       "      <td>8.3870</td>\n",
       "      <td>10.5180</td>\n",
       "      <td>0</td>\n",
       "      <td>178_2b2_Ar_mc_AKGC417L_4.wav</td>\n",
       "    </tr>\n",
       "    <tr>\n",
       "      <th>...</th>\n",
       "      <td>...</td>\n",
       "      <td>...</td>\n",
       "      <td>...</td>\n",
       "      <td>...</td>\n",
       "      <td>...</td>\n",
       "    </tr>\n",
       "    <tr>\n",
       "      <th>4285</th>\n",
       "      <td>175_1b1_Al_sc_Litt3200</td>\n",
       "      <td>3.5720</td>\n",
       "      <td>6.6693</td>\n",
       "      <td>3</td>\n",
       "      <td>175_1b1_Al_sc_Litt3200_1.wav</td>\n",
       "    </tr>\n",
       "    <tr>\n",
       "      <th>6518</th>\n",
       "      <td>217_1b1_Tc_sc_Meditron</td>\n",
       "      <td>11.1070</td>\n",
       "      <td>13.2930</td>\n",
       "      <td>0</td>\n",
       "      <td>217_1b1_Tc_sc_Meditron_6.wav</td>\n",
       "    </tr>\n",
       "    <tr>\n",
       "      <th>1020</th>\n",
       "      <td>130_1p2_Ar_mc_AKGC417L</td>\n",
       "      <td>0.6970</td>\n",
       "      <td>2.4230</td>\n",
       "      <td>1</td>\n",
       "      <td>130_1p2_Ar_mc_AKGC417L_0.wav</td>\n",
       "    </tr>\n",
       "    <tr>\n",
       "      <th>1598</th>\n",
       "      <td>133_2p3_Ar_mc_AKGC417L</td>\n",
       "      <td>9.9460</td>\n",
       "      <td>12.5420</td>\n",
       "      <td>0</td>\n",
       "      <td>133_2p3_Ar_mc_AKGC417L_4.wav</td>\n",
       "    </tr>\n",
       "    <tr>\n",
       "      <th>3683</th>\n",
       "      <td>166_1p1_Ar_sc_Meditron</td>\n",
       "      <td>11.9350</td>\n",
       "      <td>14.2260</td>\n",
       "      <td>0</td>\n",
       "      <td>166_1p1_Ar_sc_Meditron_4.wav</td>\n",
       "    </tr>\n",
       "  </tbody>\n",
       "</table>\n",
       "<p>6208 rows × 5 columns</p>\n",
       "</div>"
      ],
      "text/plain": [
       "                       fname    start      end  crack_wheez  \\\n",
       "2235  145_3b4_Pl_mc_AKGC417L  15.7350  19.1400            0   \n",
       "3029  157_1b1_Al_sc_Meditron  19.3580  23.0300            0   \n",
       "952   124_1b1_Lr_sc_Litt3200   4.4274   5.4465            0   \n",
       "5611  201_1b1_Al_sc_Meditron   2.0070   5.1220            1   \n",
       "4691  178_2b2_Ar_mc_AKGC417L   8.3870  10.5180            0   \n",
       "...                      ...      ...      ...          ...   \n",
       "4285  175_1b1_Al_sc_Litt3200   3.5720   6.6693            3   \n",
       "6518  217_1b1_Tc_sc_Meditron  11.1070  13.2930            0   \n",
       "1020  130_1p2_Ar_mc_AKGC417L   0.6970   2.4230            1   \n",
       "1598  133_2p3_Ar_mc_AKGC417L   9.9460  12.5420            0   \n",
       "3683  166_1p1_Ar_sc_Meditron  11.9350  14.2260            0   \n",
       "\n",
       "                       fname_cycle  \n",
       "2235  145_3b4_Pl_mc_AKGC417L_4.wav  \n",
       "3029  157_1b1_Al_sc_Meditron_3.wav  \n",
       "952   124_1b1_Lr_sc_Litt3200_3.wav  \n",
       "5611  201_1b1_Al_sc_Meditron_1.wav  \n",
       "4691  178_2b2_Ar_mc_AKGC417L_4.wav  \n",
       "...                            ...  \n",
       "4285  175_1b1_Al_sc_Litt3200_1.wav  \n",
       "6518  217_1b1_Tc_sc_Meditron_6.wav  \n",
       "1020  130_1p2_Ar_mc_AKGC417L_0.wav  \n",
       "1598  133_2p3_Ar_mc_AKGC417L_4.wav  \n",
       "3683  166_1p1_Ar_sc_Meditron_4.wav  \n",
       "\n",
       "[6208 rows x 5 columns]"
      ]
     },
     "execution_count": 15,
     "metadata": {},
     "output_type": "execute_result"
    }
   ],
   "source": [
    "train_df, test_df = train_test_split(file_data, test_size=0.1, random_state=42, stratify = file_data['crack_wheez'])\n",
    "train_df"
   ]
  },
  {
   "cell_type": "code",
   "execution_count": 16,
   "metadata": {},
   "outputs": [],
   "source": [
    "#Reset index\n",
    "train_df.reset_index(drop=True, inplace=True)\n",
    "test_df.reset_index(drop=True, inplace=True)"
   ]
  },
  {
   "cell_type": "code",
   "execution_count": 17,
   "metadata": {},
   "outputs": [],
   "source": [
    "def audio_features(filename): \n",
    "    sound, sample_rate = librosa.load('./\\Breath_cycles/'+filename, sr=None)\n",
    "    stft = np.abs(librosa.stft(sound))   \n",
    "    mfccs = np.mean(librosa.feature.mfcc(y=sound, sr=sample_rate, n_mfcc=40),axis=1)\n",
    "    chroma = np.mean(librosa.feature.chroma_stft(S=stft, sr=sample_rate),axis=1)\n",
    "    mel = np.mean(librosa.feature.melspectrogram(sound, sr=sample_rate),axis=1)\n",
    "    contrast = np.mean(librosa.feature.spectral_contrast(S=stft, sr=sample_rate, fmin = 30),axis=1)\n",
    "    #tonnetz = np.mean(librosa.feature.tonnetz(y=librosa.effects.harmonic(sound), sr=sample_rate, chroma=librosa.feature.chroma_cqt(y=sound, sr=sample_rate, fmin=30, bins_per_octave =30)),axis=1)    \n",
    "    #concat = np.concatenate((mfccs,chroma,mel,contrast,tonnetz))\n",
    "    concat = np.concatenate((mfccs,chroma,mel,contrast))\n",
    "    return concat"
   ]
  },
  {
   "cell_type": "code",
   "execution_count": 18,
   "metadata": {},
   "outputs": [],
   "source": [
    "def build_feat(df):\n",
    "    X = []\n",
    "    Y = []    \n",
    "    for i in tqdm(range(len(df))):\n",
    "        file = df.iloc[i].fname_cycle\n",
    "        label = df.iloc[i].crack_wheez \n",
    "        X_sample = audio_features(file)\n",
    "        X.append(X_sample)\n",
    "        Y.append(label)\n",
    "    X, Y = np.array(X), np.array(Y)\n",
    "    return X, Y"
   ]
  },
  {
   "cell_type": "code",
   "execution_count": 21,
   "metadata": {},
   "outputs": [
    {
     "name": "stderr",
     "output_type": "stream",
     "text": [
      "  1%|█▌                                                                                                                                                                                          | 50/6208 [00:00<01:30, 67.89it/s]c:\\users\\parva\\appdata\\local\\programs\\python\\python38\\lib\\site-packages\\librosa\\core\\spectrum.py:222: UserWarning: n_fft=2048 is too small for input signal of length=1772\n",
      "  warnings.warn(\n",
      "  2%|███▏                                                                                                                                                                                       | 107/6208 [00:01<01:30, 67.72it/s]c:\\users\\parva\\appdata\\local\\programs\\python\\python38\\lib\\site-packages\\librosa\\core\\spectrum.py:222: UserWarning: n_fft=2048 is too small for input signal of length=2040\n",
      "  warnings.warn(\n",
      "  4%|██████▋                                                                                                                                                                                    | 223/6208 [00:03<01:25, 69.81it/s]c:\\users\\parva\\appdata\\local\\programs\\python\\python38\\lib\\site-packages\\librosa\\core\\spectrum.py:222: UserWarning: n_fft=2048 is too small for input signal of length=1944\n",
      "  warnings.warn(\n",
      "  9%|█████████████████▏                                                                                                                                                                         | 571/6208 [00:08<01:40, 55.92it/s]c:\\users\\parva\\appdata\\local\\programs\\python\\python38\\lib\\site-packages\\librosa\\core\\spectrum.py:222: UserWarning: n_fft=2048 is too small for input signal of length=1316\n",
      "  warnings.warn(\n",
      " 10%|███████████████████▏                                                                                                                                                                       | 635/6208 [00:09<01:20, 69.47it/s]c:\\users\\parva\\appdata\\local\\programs\\python\\python38\\lib\\site-packages\\librosa\\core\\spectrum.py:222: UserWarning: n_fft=2048 is too small for input signal of length=1028\n",
      "  warnings.warn(\n",
      " 10%|███████████████████▌                                                                                                                                                                       | 651/6208 [00:09<01:24, 65.65it/s]c:\\users\\parva\\appdata\\local\\programs\\python\\python38\\lib\\site-packages\\librosa\\core\\spectrum.py:222: UserWarning: n_fft=2048 is too small for input signal of length=1200\n",
      "  warnings.warn(\n",
      " 12%|██████████████████████▌                                                                                                                                                                    | 747/6208 [00:11<01:29, 61.22it/s]c:\\users\\parva\\appdata\\local\\programs\\python\\python38\\lib\\site-packages\\librosa\\core\\spectrum.py:222: UserWarning: n_fft=2048 is too small for input signal of length=1848\n",
      "  warnings.warn(\n",
      " 13%|███████████████████████▉                                                                                                                                                                   | 794/6208 [00:12<01:16, 70.90it/s]c:\\users\\parva\\appdata\\local\\programs\\python\\python38\\lib\\site-packages\\librosa\\core\\spectrum.py:222: UserWarning: n_fft=2048 is too small for input signal of length=1368\n",
      "  warnings.warn(\n",
      " 16%|██████████████████████████████                                                                                                                                                            | 1002/6208 [00:15<01:14, 69.76it/s]c:\\users\\parva\\appdata\\local\\programs\\python\\python38\\lib\\site-packages\\librosa\\core\\spectrum.py:222: UserWarning: n_fft=2048 is too small for input signal of length=912\n",
      "  warnings.warn(\n",
      " 17%|████████████████████████████████                                                                                                                                                          | 1071/6208 [00:16<01:11, 71.80it/s]c:\\users\\parva\\appdata\\local\\programs\\python\\python38\\lib\\site-packages\\librosa\\core\\spectrum.py:222: UserWarning: n_fft=2048 is too small for input signal of length=1372\n",
      "  warnings.warn(\n",
      " 27%|█████████████████████████████████████████████████▎                                                                                                                                        | 1646/6208 [00:24<01:05, 69.21it/s]c:\\users\\parva\\appdata\\local\\programs\\python\\python38\\lib\\site-packages\\librosa\\core\\spectrum.py:222: UserWarning: n_fft=2048 is too small for input signal of length=1544\n",
      "  warnings.warn(\n",
      " 31%|█████████████████████████████████████████████████████████▋                                                                                                                                | 1925/6208 [00:28<01:01, 69.39it/s]c:\\users\\parva\\appdata\\local\\programs\\python\\python38\\lib\\site-packages\\librosa\\core\\spectrum.py:222: UserWarning: n_fft=2048 is too small for input signal of length=1712\n",
      "  warnings.warn(\n",
      " 32%|███████████████████████████████████████████████████████████▎                                                                                                                              | 1979/6208 [00:28<00:59, 71.01it/s]c:\\users\\parva\\appdata\\local\\programs\\python\\python38\\lib\\site-packages\\librosa\\core\\spectrum.py:222: UserWarning: n_fft=2048 is too small for input signal of length=1600\n",
      "  warnings.warn(\n",
      " 40%|███████████████████████████████████████████████████████████████████████████                                                                                                               | 2507/6208 [00:36<00:53, 69.06it/s]c:\\users\\parva\\appdata\\local\\programs\\python\\python38\\lib\\site-packages\\librosa\\core\\spectrum.py:222: UserWarning: n_fft=2048 is too small for input signal of length=800\n",
      "  warnings.warn(\n",
      " 42%|██████████████████████████████████████████████████████████████████████████████▉                                                                                                           | 2633/6208 [00:38<00:56, 63.32it/s]c:\\users\\parva\\appdata\\local\\programs\\python\\python38\\lib\\site-packages\\librosa\\core\\spectrum.py:222: UserWarning: n_fft=2048 is too small for input signal of length=1480\n",
      "  warnings.warn(\n",
      " 44%|██████████████████████████████████████████████████████████████████████████████████▍                                                                                                       | 2750/6208 [00:40<00:57, 60.02it/s]c:\\users\\parva\\appdata\\local\\programs\\python\\python38\\lib\\site-packages\\librosa\\core\\spectrum.py:222: UserWarning: n_fft=2048 is too small for input signal of length=1484\n",
      "  warnings.warn(\n",
      " 44%|██████████████████████████████████████████████████████████████████████████████████▌                                                                                                       | 2757/6208 [00:40<00:57, 60.01it/s]c:\\users\\parva\\appdata\\local\\programs\\python\\python38\\lib\\site-packages\\librosa\\core\\spectrum.py:222: UserWarning: n_fft=2048 is too small for input signal of length=2000\n",
      "  warnings.warn(\n",
      " 47%|███████████████████████████████████████████████████████████████████████████████████████▌                                                                                                  | 2922/6208 [00:43<00:52, 63.12it/s]c:\\users\\parva\\appdata\\local\\programs\\python\\python38\\lib\\site-packages\\librosa\\core\\spectrum.py:222: UserWarning: n_fft=2048 is too small for input signal of length=972\n",
      "  warnings.warn(\n",
      " 48%|████████████████████████████████████████████████████████████████████████████████████████▊                                                                                                 | 2964/6208 [00:43<00:51, 63.20it/s]c:\\users\\parva\\appdata\\local\\programs\\python\\python38\\lib\\site-packages\\librosa\\core\\spectrum.py:222: UserWarning: n_fft=2048 is too small for input signal of length=1256\n",
      "  warnings.warn(\n",
      " 49%|████████████████████████████████████████████████████████████████████████████████████████████                                                                                              | 3071/6208 [00:45<00:52, 60.13it/s]c:\\users\\parva\\appdata\\local\\programs\\python\\python38\\lib\\site-packages\\librosa\\core\\spectrum.py:222: UserWarning: n_fft=2048 is too small for input signal of length=1144\n",
      "  warnings.warn(\n"
     ]
    },
    {
     "name": "stderr",
     "output_type": "stream",
     "text": [
      " 69%|████████████████████████████████████████████████████████████████████████████████████████████████████████████████████████████████▉                                                         | 4302/6208 [01:03<00:27, 69.87it/s]c:\\users\\parva\\appdata\\local\\programs\\python\\python38\\lib\\site-packages\\librosa\\core\\spectrum.py:222: UserWarning: n_fft=2048 is too small for input signal of length=1808\n",
      "  warnings.warn(\n",
      " 74%|████████████████████████████████████████████████████████████████████████████████████████████████████████████████████████████████████████▉                                                 | 4570/6208 [01:07<00:22, 71.58it/s]c:\\users\\parva\\appdata\\local\\programs\\python\\python38\\lib\\site-packages\\librosa\\core\\spectrum.py:222: UserWarning: n_fft=2048 is too small for input signal of length=1888\n",
      "  warnings.warn(\n",
      " 75%|████████████████████████████████████████████████████████████████████████████████████████████████████████████████████████████████████████████▎                                             | 4682/6208 [01:08<00:21, 71.35it/s]c:\\users\\parva\\appdata\\local\\programs\\python\\python38\\lib\\site-packages\\librosa\\core\\spectrum.py:222: UserWarning: n_fft=2048 is too small for input signal of length=1428\n",
      "  warnings.warn(\n",
      " 77%|███████████████████████████████████████████████████████████████████████████████████████████████████████████████████████████████████████████████▌                                          | 4791/6208 [01:10<00:20, 69.30it/s]c:\\users\\parva\\appdata\\local\\programs\\python\\python38\\lib\\site-packages\\librosa\\core\\spectrum.py:222: UserWarning: n_fft=2048 is too small for input signal of length=1260\n",
      "  warnings.warn(\n",
      " 79%|██████████████████████████████████████████████████████████████████████████████████████████████████████████████████████████████████████████████████▏                                       | 4878/6208 [01:11<00:18, 70.71it/s]c:\\users\\parva\\appdata\\local\\programs\\python\\python38\\lib\\site-packages\\librosa\\core\\spectrum.py:222: UserWarning: n_fft=2048 is too small for input signal of length=1832\n",
      "  warnings.warn(\n",
      " 83%|██████████████████████████████████████████████████████████████████████████████████████████████████████████████████████████████████████████████████████████▏                               | 5145/6208 [01:15<00:16, 64.83it/s]c:\\users\\parva\\appdata\\local\\programs\\python\\python38\\lib\\site-packages\\librosa\\core\\spectrum.py:222: UserWarning: n_fft=2048 is too small for input signal of length=1304\n",
      "  warnings.warn(\n",
      " 97%|███████████████████████████████████████████████████████████████████████████████████████████████████████████████████████████████████████████████████████████████████████████████████▍      | 5991/6208 [01:27<00:03, 70.03it/s]c:\\users\\parva\\appdata\\local\\programs\\python\\python38\\lib\\site-packages\\librosa\\core\\spectrum.py:222: UserWarning: n_fft=2048 is too small for input signal of length=1656\n",
      "  warnings.warn(\n",
      " 98%|█████████████████████████████████████████████████████████████████████████████████████████████████████████████████████████████████████████████████████████████████████████████████████▋    | 6062/6208 [01:28<00:02, 68.21it/s]c:\\users\\parva\\appdata\\local\\programs\\python\\python38\\lib\\site-packages\\librosa\\core\\spectrum.py:222: UserWarning: n_fft=2048 is too small for input signal of length=1312\n",
      "  warnings.warn(\n",
      "100%|██████████████████████████████████████████████████████████████████████████████████████████████████████████████████████████████████████████████████████████████████████████████████████████| 6208/6208 [01:30<00:00, 68.41it/s]\n"
     ]
    }
   ],
   "source": [
    "X_, y_ = build_feat(train_df)"
   ]
  },
  {
   "cell_type": "code",
   "execution_count": 65,
   "metadata": {},
   "outputs": [
    {
     "data": {
      "text/plain": [
       "array([0, 0, 0, ..., 1, 0, 0], dtype=int64)"
      ]
     },
     "execution_count": 65,
     "metadata": {},
     "output_type": "execute_result"
    }
   ],
   "source": [
    "y_"
   ]
  },
  {
   "cell_type": "code",
   "execution_count": 58,
   "metadata": {},
   "outputs": [
    {
     "data": {
      "text/plain": [
       "(6208, 187)"
      ]
     },
     "execution_count": 58,
     "metadata": {},
     "output_type": "execute_result"
    }
   ],
   "source": [
    "\n",
    "X_.shape"
   ]
  },
  {
   "cell_type": "code",
   "execution_count": 19,
   "metadata": {},
   "outputs": [
    {
     "name": "stderr",
     "output_type": "stream",
     "text": [
      " 70%|████████████████████████████████████████████████████████████████████████████████████████████████████████████████████████████████████▍                                                       | 486/690 [00:07<00:02, 68.19it/s]c:\\users\\parva\\appdata\\local\\programs\\python\\python38\\lib\\site-packages\\librosa\\core\\spectrum.py:222: UserWarning: n_fft=2048 is too small for input signal of length=1315\n",
      "  warnings.warn(\n",
      " 78%|██████████████████████████████████████████████████████████████████████████████████████████████████████████████████████████████████████████████████                                          | 536/690 [00:07<00:02, 67.53it/s]c:\\users\\parva\\appdata\\local\\programs\\python\\python38\\lib\\site-packages\\librosa\\core\\spectrum.py:222: UserWarning: n_fft=2048 is too small for input signal of length=1468\n",
      "  warnings.warn(\n",
      " 84%|██████████████████████████████████████████████████████████████████████████████████████████████████████████████████████████████████████████████████████████████                              | 580/690 [00:08<00:01, 65.26it/s]c:\\users\\parva\\appdata\\local\\programs\\python\\python38\\lib\\site-packages\\librosa\\core\\spectrum.py:222: UserWarning: n_fft=2048 is too small for input signal of length=1716\n",
      "  warnings.warn(\n",
      "100%|████████████████████████████████████████████████████████████████████████████████████████████████████████████████████████████████████████████████████████████████████████████████████████████| 690/690 [00:10<00:00, 67.75it/s]\n"
     ]
    }
   ],
   "source": [
    "X_test, y_test = build_feat(test_df)"
   ]
  },
  {
   "cell_type": "code",
   "execution_count": 23,
   "metadata": {},
   "outputs": [],
   "source": [
    "X_tr, X_val, y_tr, y_val = train_test_split(X_, y_, test_size=0.1, random_state=42)"
   ]
  },
  {
   "cell_type": "code",
   "execution_count": 24,
   "metadata": {},
   "outputs": [
    {
     "data": {
      "text/plain": [
       "(690, 187)"
      ]
     },
     "execution_count": 24,
     "metadata": {},
     "output_type": "execute_result"
    }
   ],
   "source": [
    "X_test.shape\n"
   ]
  },
  {
   "cell_type": "code",
   "execution_count": 46,
   "metadata": {},
   "outputs": [
    {
     "data": {
      "text/plain": [
       "187"
      ]
     },
     "execution_count": 46,
     "metadata": {},
     "output_type": "execute_result"
    }
   ],
   "source": [
    "X_tr.shape[1]\n"
   ]
  },
  {
   "cell_type": "code",
   "execution_count": 47,
   "metadata": {},
   "outputs": [
    {
     "data": {
      "text/plain": [
       "array([1, 0, 2, ..., 1, 2, 2], dtype=int64)"
      ]
     },
     "execution_count": 47,
     "metadata": {},
     "output_type": "execute_result"
    }
   ],
   "source": [
    "y_tr"
   ]
  },
  {
   "cell_type": "code",
   "execution_count": 40,
   "metadata": {},
   "outputs": [
    {
     "data": {
      "text/plain": [
       "(621, 187)"
      ]
     },
     "execution_count": 40,
     "metadata": {},
     "output_type": "execute_result"
    }
   ],
   "source": [
    "X_val.shape"
   ]
  },
  {
   "cell_type": "code",
   "execution_count": 41,
   "metadata": {},
   "outputs": [
    {
     "data": {
      "text/plain": [
       "(621,)"
      ]
     },
     "execution_count": 41,
     "metadata": {},
     "output_type": "execute_result"
    }
   ],
   "source": [
    "y_val.shape"
   ]
  },
  {
   "cell_type": "code",
   "execution_count": null,
   "metadata": {},
   "outputs": [],
   "source": []
  },
  {
   "cell_type": "code",
   "execution_count": 53,
   "metadata": {},
   "outputs": [],
   "source": [
    "y_tr = np.reshape(y_tr, (y_tr.shape[0], 1))\n",
    "X_tr = np.reshape(X_tr, (X_tr.shape[0], X_tr.shape[1], 1))\n",
    "y_val = np.reshape(y_val, (y_val.shape[0], 1))\n",
    "X_val = np.reshape(X_val, (X_val.shape[0], X_val.shape[1],  1))"
   ]
  },
  {
   "cell_type": "code",
   "execution_count": 54,
   "metadata": {},
   "outputs": [
    {
     "name": "stdout",
     "output_type": "stream",
     "text": [
      "Epoch 1/70\n",
      "28/28 [==============================] - 8s 280ms/step - loss: 0.0000e+00 - accuracy: 0.2688 - val_loss: 0.0000e+00 - val_accuracy: 0.2834\n",
      "Epoch 2/70\n",
      "28/28 [==============================] - 8s 284ms/step - loss: 0.0000e+00 - accuracy: 0.2688 - val_loss: 0.0000e+00 - val_accuracy: 0.2834\n",
      "Epoch 3/70\n",
      "28/28 [==============================] - 8s 285ms/step - loss: 0.0000e+00 - accuracy: 0.2688 - val_loss: 0.0000e+00 - val_accuracy: 0.2834\n",
      "Epoch 4/70\n",
      "28/28 [==============================] - 9s 322ms/step - loss: 0.0000e+00 - accuracy: 0.2688 - val_loss: 0.0000e+00 - val_accuracy: 0.2834\n",
      "Epoch 5/70\n",
      "28/28 [==============================] - 9s 322ms/step - loss: 0.0000e+00 - accuracy: 0.2688 - val_loss: 0.0000e+00 - val_accuracy: 0.2834\n",
      "Epoch 6/70\n",
      "28/28 [==============================] - 9s 315ms/step - loss: 0.0000e+00 - accuracy: 0.2688 - val_loss: 0.0000e+00 - val_accuracy: 0.2834\n",
      "Epoch 7/70\n",
      "28/28 [==============================] - 8s 297ms/step - loss: 0.0000e+00 - accuracy: 0.2688 - val_loss: 0.0000e+00 - val_accuracy: 0.2834\n",
      "Epoch 8/70\n",
      "28/28 [==============================] - 8s 292ms/step - loss: 0.0000e+00 - accuracy: 0.2688 - val_loss: 0.0000e+00 - val_accuracy: 0.2834\n",
      "Epoch 9/70\n",
      "28/28 [==============================] - 8s 300ms/step - loss: 0.0000e+00 - accuracy: 0.2688 - val_loss: 0.0000e+00 - val_accuracy: 0.2834\n",
      "Epoch 10/70\n",
      "28/28 [==============================] - 8s 289ms/step - loss: 0.0000e+00 - accuracy: 0.2688 - val_loss: 0.0000e+00 - val_accuracy: 0.2834\n",
      "Epoch 11/70\n",
      "28/28 [==============================] - 8s 291ms/step - loss: 0.0000e+00 - accuracy: 0.2688 - val_loss: 0.0000e+00 - val_accuracy: 0.2834\n",
      "Epoch 12/70\n",
      "28/28 [==============================] - 8s 291ms/step - loss: 0.0000e+00 - accuracy: 0.2688 - val_loss: 0.0000e+00 - val_accuracy: 0.2834\n",
      "Epoch 13/70\n",
      "28/28 [==============================] - 8s 288ms/step - loss: 0.0000e+00 - accuracy: 0.2688 - val_loss: 0.0000e+00 - val_accuracy: 0.2834\n",
      "Epoch 14/70\n",
      "28/28 [==============================] - 8s 293ms/step - loss: 0.0000e+00 - accuracy: 0.2688 - val_loss: 0.0000e+00 - val_accuracy: 0.2834\n",
      "Epoch 15/70\n",
      "28/28 [==============================] - 8s 295ms/step - loss: 0.0000e+00 - accuracy: 0.2688 - val_loss: 0.0000e+00 - val_accuracy: 0.2834\n",
      "Epoch 16/70\n",
      "28/28 [==============================] - 9s 307ms/step - loss: 0.0000e+00 - accuracy: 0.2688 - val_loss: 0.0000e+00 - val_accuracy: 0.2834\n",
      "Epoch 17/70\n",
      "28/28 [==============================] - 8s 290ms/step - loss: 0.0000e+00 - accuracy: 0.2688 - val_loss: 0.0000e+00 - val_accuracy: 0.2834\n",
      "Epoch 18/70\n",
      "28/28 [==============================] - 8s 303ms/step - loss: 0.0000e+00 - accuracy: 0.2688 - val_loss: 0.0000e+00 - val_accuracy: 0.2834\n",
      "Epoch 19/70\n",
      "28/28 [==============================] - 8s 301ms/step - loss: 0.0000e+00 - accuracy: 0.2688 - val_loss: 0.0000e+00 - val_accuracy: 0.2834\n",
      "Epoch 20/70\n",
      "28/28 [==============================] - 8s 291ms/step - loss: 0.0000e+00 - accuracy: 0.2688 - val_loss: 0.0000e+00 - val_accuracy: 0.2834\n",
      "Epoch 21/70\n",
      "28/28 [==============================] - 8s 292ms/step - loss: 0.0000e+00 - accuracy: 0.2688 - val_loss: 0.0000e+00 - val_accuracy: 0.2834\n",
      "Epoch 22/70\n",
      "28/28 [==============================] - 8s 296ms/step - loss: 0.0000e+00 - accuracy: 0.2688 - val_loss: 0.0000e+00 - val_accuracy: 0.2834\n",
      "Epoch 23/70\n",
      "28/28 [==============================] - 8s 291ms/step - loss: 0.0000e+00 - accuracy: 0.2688 - val_loss: 0.0000e+00 - val_accuracy: 0.2834\n",
      "Epoch 24/70\n",
      "28/28 [==============================] - 8s 289ms/step - loss: 0.0000e+00 - accuracy: 0.2688 - val_loss: 0.0000e+00 - val_accuracy: 0.2834\n",
      "Epoch 25/70\n",
      "28/28 [==============================] - 8s 291ms/step - loss: 0.0000e+00 - accuracy: 0.2688 - val_loss: 0.0000e+00 - val_accuracy: 0.2834\n",
      "Epoch 26/70\n",
      "28/28 [==============================] - 9s 322ms/step - loss: 0.0000e+00 - accuracy: 0.2688 - val_loss: 0.0000e+00 - val_accuracy: 0.2834\n",
      "Epoch 27/70\n",
      "28/28 [==============================] - 8s 295ms/step - loss: 0.0000e+00 - accuracy: 0.2688 - val_loss: 0.0000e+00 - val_accuracy: 0.2834\n",
      "Epoch 28/70\n",
      "28/28 [==============================] - 8s 296ms/step - loss: 0.0000e+00 - accuracy: 0.2688 - val_loss: 0.0000e+00 - val_accuracy: 0.2834\n",
      "Epoch 29/70\n",
      "28/28 [==============================] - 8s 299ms/step - loss: 0.0000e+00 - accuracy: 0.2688 - val_loss: 0.0000e+00 - val_accuracy: 0.2834\n",
      "Epoch 30/70\n",
      "28/28 [==============================] - 8s 295ms/step - loss: 0.0000e+00 - accuracy: 0.2688 - val_loss: 0.0000e+00 - val_accuracy: 0.2834\n",
      "Epoch 31/70\n",
      "28/28 [==============================] - 8s 293ms/step - loss: 0.0000e+00 - accuracy: 0.2688 - val_loss: 0.0000e+00 - val_accuracy: 0.2834\n",
      "Epoch 32/70\n",
      "28/28 [==============================] - 8s 294ms/step - loss: 0.0000e+00 - accuracy: 0.2688 - val_loss: 0.0000e+00 - val_accuracy: 0.2834\n",
      "Epoch 33/70\n",
      "28/28 [==============================] - 8s 294ms/step - loss: 0.0000e+00 - accuracy: 0.2688 - val_loss: 0.0000e+00 - val_accuracy: 0.2834\n",
      "Epoch 34/70\n",
      "28/28 [==============================] - 8s 290ms/step - loss: 0.0000e+00 - accuracy: 0.2688 - val_loss: 0.0000e+00 - val_accuracy: 0.2834\n",
      "Epoch 35/70\n",
      "28/28 [==============================] - 8s 292ms/step - loss: 0.0000e+00 - accuracy: 0.2688 - val_loss: 0.0000e+00 - val_accuracy: 0.2834\n",
      "Epoch 36/70\n",
      "28/28 [==============================] - 8s 295ms/step - loss: 0.0000e+00 - accuracy: 0.2688 - val_loss: 0.0000e+00 - val_accuracy: 0.2834\n",
      "Epoch 37/70\n",
      "28/28 [==============================] - 9s 307ms/step - loss: 0.0000e+00 - accuracy: 0.2688 - val_loss: 0.0000e+00 - val_accuracy: 0.2834\n",
      "Epoch 38/70\n",
      "28/28 [==============================] - 8s 291ms/step - loss: 0.0000e+00 - accuracy: 0.2688 - val_loss: 0.0000e+00 - val_accuracy: 0.2834\n",
      "Epoch 39/70\n",
      "28/28 [==============================] - 8s 299ms/step - loss: 0.0000e+00 - accuracy: 0.2688 - val_loss: 0.0000e+00 - val_accuracy: 0.2834\n",
      "Epoch 40/70\n",
      "28/28 [==============================] - 8s 293ms/step - loss: 0.0000e+00 - accuracy: 0.2688 - val_loss: 0.0000e+00 - val_accuracy: 0.2834\n",
      "Epoch 41/70\n",
      "28/28 [==============================] - 8s 291ms/step - loss: 0.0000e+00 - accuracy: 0.2688 - val_loss: 0.0000e+00 - val_accuracy: 0.2834\n",
      "Epoch 42/70\n",
      "28/28 [==============================] - 8s 295ms/step - loss: 0.0000e+00 - accuracy: 0.2688 - val_loss: 0.0000e+00 - val_accuracy: 0.2834\n",
      "Epoch 43/70\n",
      "28/28 [==============================] - 8s 290ms/step - loss: 0.0000e+00 - accuracy: 0.2688 - val_loss: 0.0000e+00 - val_accuracy: 0.2834\n",
      "Epoch 44/70\n",
      "28/28 [==============================] - 8s 293ms/step - loss: 0.0000e+00 - accuracy: 0.2688 - val_loss: 0.0000e+00 - val_accuracy: 0.2834\n",
      "Epoch 45/70\n",
      "28/28 [==============================] - 8s 290ms/step - loss: 0.0000e+00 - accuracy: 0.2688 - val_loss: 0.0000e+00 - val_accuracy: 0.2834\n",
      "Epoch 46/70\n",
      "28/28 [==============================] - 8s 292ms/step - loss: 0.0000e+00 - accuracy: 0.2688 - val_loss: 0.0000e+00 - val_accuracy: 0.2834\n",
      "Epoch 47/70\n",
      "28/28 [==============================] - 8s 293ms/step - loss: 0.0000e+00 - accuracy: 0.2688 - val_loss: 0.0000e+00 - val_accuracy: 0.2834\n",
      "Epoch 48/70\n",
      "28/28 [==============================] - 8s 291ms/step - loss: 0.0000e+00 - accuracy: 0.2688 - val_loss: 0.0000e+00 - val_accuracy: 0.2834\n",
      "Epoch 49/70\n",
      "28/28 [==============================] - 8s 299ms/step - loss: 0.0000e+00 - accuracy: 0.2688 - val_loss: 0.0000e+00 - val_accuracy: 0.2834\n",
      "Epoch 50/70\n",
      "28/28 [==============================] - 8s 291ms/step - loss: 0.0000e+00 - accuracy: 0.2688 - val_loss: 0.0000e+00 - val_accuracy: 0.2834\n",
      "Epoch 51/70\n",
      "28/28 [==============================] - 8s 293ms/step - loss: 0.0000e+00 - accuracy: 0.2688 - val_loss: 0.0000e+00 - val_accuracy: 0.2834\n",
      "Epoch 52/70\n",
      "28/28 [==============================] - 8s 290ms/step - loss: 0.0000e+00 - accuracy: 0.2688 - val_loss: 0.0000e+00 - val_accuracy: 0.2834\n",
      "Epoch 53/70\n",
      "28/28 [==============================] - 8s 293ms/step - loss: 0.0000e+00 - accuracy: 0.2688 - val_loss: 0.0000e+00 - val_accuracy: 0.2834\n",
      "Epoch 54/70\n",
      "28/28 [==============================] - 8s 298ms/step - loss: 0.0000e+00 - accuracy: 0.2688 - val_loss: 0.0000e+00 - val_accuracy: 0.2834\n",
      "Epoch 55/70\n"
     ]
    },
    {
     "name": "stdout",
     "output_type": "stream",
     "text": [
      "28/28 [==============================] - 8s 289ms/step - loss: 0.0000e+00 - accuracy: 0.2688 - val_loss: 0.0000e+00 - val_accuracy: 0.2834\n",
      "Epoch 56/70\n",
      "28/28 [==============================] - 8s 293ms/step - loss: 0.0000e+00 - accuracy: 0.2688 - val_loss: 0.0000e+00 - val_accuracy: 0.2834\n",
      "Epoch 57/70\n",
      "28/28 [==============================] - 8s 291ms/step - loss: 0.0000e+00 - accuracy: 0.2688 - val_loss: 0.0000e+00 - val_accuracy: 0.2834\n",
      "Epoch 58/70\n",
      "28/28 [==============================] - 8s 291ms/step - loss: 0.0000e+00 - accuracy: 0.2688 - val_loss: 0.0000e+00 - val_accuracy: 0.2834\n",
      "Epoch 59/70\n",
      "28/28 [==============================] - 8s 292ms/step - loss: 0.0000e+00 - accuracy: 0.2688 - val_loss: 0.0000e+00 - val_accuracy: 0.2834\n",
      "Epoch 60/70\n",
      "28/28 [==============================] - 8s 290ms/step - loss: 0.0000e+00 - accuracy: 0.2688 - val_loss: 0.0000e+00 - val_accuracy: 0.2834\n",
      "Epoch 61/70\n",
      "28/28 [==============================] - 8s 289ms/step - loss: 0.0000e+00 - accuracy: 0.2688 - val_loss: 0.0000e+00 - val_accuracy: 0.2834\n",
      "Epoch 62/70\n",
      "28/28 [==============================] - 8s 289ms/step - loss: 0.0000e+00 - accuracy: 0.2688 - val_loss: 0.0000e+00 - val_accuracy: 0.2834\n",
      "Epoch 63/70\n",
      "28/28 [==============================] - 8s 292ms/step - loss: 0.0000e+00 - accuracy: 0.2688 - val_loss: 0.0000e+00 - val_accuracy: 0.2834\n",
      "Epoch 64/70\n",
      "28/28 [==============================] - 8s 291ms/step - loss: 0.0000e+00 - accuracy: 0.2688 - val_loss: 0.0000e+00 - val_accuracy: 0.2834\n",
      "Epoch 65/70\n",
      "28/28 [==============================] - 8s 291ms/step - loss: 0.0000e+00 - accuracy: 0.2688 - val_loss: 0.0000e+00 - val_accuracy: 0.2834\n",
      "Epoch 66/70\n",
      "28/28 [==============================] - 8s 290ms/step - loss: 0.0000e+00 - accuracy: 0.2688 - val_loss: 0.0000e+00 - val_accuracy: 0.2834\n",
      "Epoch 67/70\n",
      "28/28 [==============================] - 8s 293ms/step - loss: 0.0000e+00 - accuracy: 0.2688 - val_loss: 0.0000e+00 - val_accuracy: 0.2834\n",
      "Epoch 68/70\n",
      "28/28 [==============================] - 8s 290ms/step - loss: 0.0000e+00 - accuracy: 0.2688 - val_loss: 0.0000e+00 - val_accuracy: 0.2834\n",
      "Epoch 69/70\n",
      "28/28 [==============================] - 8s 290ms/step - loss: 0.0000e+00 - accuracy: 0.2688 - val_loss: 0.0000e+00 - val_accuracy: 0.2834\n",
      "Epoch 70/70\n",
      "28/28 [==============================] - 8s 291ms/step - loss: 0.0000e+00 - accuracy: 0.2688 - val_loss: 0.0000e+00 - val_accuracy: 0.2834\n"
     ]
    }
   ],
   "source": [
    "model = Sequential()\n",
    "model.add(Conv1D(64, kernel_size=5, activation='relu', input_shape=(187,1)))\n",
    "\n",
    "model.add(Conv1D(128, kernel_size=5, activation='relu'))\n",
    "model.add(MaxPooling1D(2)) \n",
    "\n",
    "model.add(SeparableConv1D(256, kernel_size=5, activation='relu'))\n",
    "model.add(MaxPooling1D(2)) \n",
    "\n",
    "model.add(SeparableConv1D(256, kernel_size=5, activation='relu'))\n",
    "model.add(MaxPooling1D(2)) \n",
    "\n",
    "model.add(Dropout(0.5))\n",
    "model.add(Flatten())\n",
    "\n",
    "model.add(Dense(512, activation='relu'))   \n",
    "model.add(Dense(1, activation='softmax'))\n",
    "\n",
    "model.compile(loss='categorical_crossentropy', optimizer='adam', metrics=['accuracy'])\n",
    "history = model.fit(X_tr, y_tr, validation_data=(X_val, y_val), epochs=70, batch_size=200, verbose=1)"
   ]
  },
  {
   "cell_type": "code",
   "execution_count": null,
   "metadata": {},
   "outputs": [],
   "source": []
  },
  {
   "cell_type": "code",
   "execution_count": null,
   "metadata": {},
   "outputs": [],
   "source": []
  }
 ],
 "metadata": {
  "kernelspec": {
   "display_name": "Python 3",
   "language": "python",
   "name": "python3"
  },
  "language_info": {
   "codemirror_mode": {
    "name": "ipython",
    "version": 3
   },
   "file_extension": ".py",
   "mimetype": "text/x-python",
   "name": "python",
   "nbconvert_exporter": "python",
   "pygments_lexer": "ipython3",
   "version": "3.8.5"
  }
 },
 "nbformat": 4,
 "nbformat_minor": 4
}

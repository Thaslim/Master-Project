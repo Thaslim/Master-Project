{
 "cells": [
  {
   "cell_type": "code",
   "execution_count": null,
   "metadata": {},
   "outputs": [],
   "source": [
    "#import all the libraries\n",
    "import pandas as pd\n",
    "from tqdm import tqdm\n",
    "import os\n",
    "import librosa as lb\n",
    "import numpy as np\n",
    "# Load the TensorBoard notebook extension\n",
    "%load_ext tensorboard\n",
    "from sklearn.utils.class_weight import compute_class_weight\n",
    "from keras.utils import to_categorical\n",
    "from tensorflow import keras\n",
    "import tensorflow as tf\n",
    "from pyAudioAnalysis import audioBasicIO\n",
    "from pyAudioAnalysis import ShortTermFeatures\n",
    "import datetime\n",
    "import librosa.display\n",
    "import seaborn as sns\n",
    "from sklearn.model_selection import train_test_split\n",
    "import matplotlib.pyplot as plt\n",
    "from keras import regularizers\n",
    "from keras.models import Sequential\n",
    "from keras.layers import Conv1D, MaxPooling1D, SeparableConv1D, Dropout, Dense, Flatten, GlobalAveragePooling1D"
   ]
  },
  {
   "cell_type": "code",
   "execution_count": 2,
   "metadata": {},
   "outputs": [],
   "source": [
    "#Load file data \n",
    "file_data = pd.read_csv('file_data.csv')"
   ]
  },
  {
   "cell_type": "code",
   "execution_count": 3,
   "metadata": {},
   "outputs": [
    {
     "data": {
      "text/html": [
       "<div>\n",
       "<style scoped>\n",
       "    .dataframe tbody tr th:only-of-type {\n",
       "        vertical-align: middle;\n",
       "    }\n",
       "\n",
       "    .dataframe tbody tr th {\n",
       "        vertical-align: top;\n",
       "    }\n",
       "\n",
       "    .dataframe thead th {\n",
       "        text-align: right;\n",
       "    }\n",
       "</style>\n",
       "<table border=\"1\" class=\"dataframe\">\n",
       "  <thead>\n",
       "    <tr style=\"text-align: right;\">\n",
       "      <th></th>\n",
       "      <th>fname</th>\n",
       "      <th>start</th>\n",
       "      <th>end</th>\n",
       "      <th>crack_wheez</th>\n",
       "      <th>fname_cycle</th>\n",
       "      <th>len</th>\n",
       "    </tr>\n",
       "  </thead>\n",
       "  <tbody>\n",
       "    <tr>\n",
       "      <th>0</th>\n",
       "      <td>101_1b1_Al_sc_Meditron</td>\n",
       "      <td>0.036</td>\n",
       "      <td>0.579</td>\n",
       "      <td>0</td>\n",
       "      <td>101_1b1_Al_sc_Meditron_0.wav</td>\n",
       "      <td>0.543</td>\n",
       "    </tr>\n",
       "    <tr>\n",
       "      <th>1</th>\n",
       "      <td>101_1b1_Al_sc_Meditron</td>\n",
       "      <td>0.579</td>\n",
       "      <td>2.450</td>\n",
       "      <td>0</td>\n",
       "      <td>101_1b1_Al_sc_Meditron_1.wav</td>\n",
       "      <td>1.871</td>\n",
       "    </tr>\n",
       "    <tr>\n",
       "      <th>2</th>\n",
       "      <td>101_1b1_Al_sc_Meditron</td>\n",
       "      <td>2.450</td>\n",
       "      <td>3.893</td>\n",
       "      <td>0</td>\n",
       "      <td>101_1b1_Al_sc_Meditron_2.wav</td>\n",
       "      <td>1.443</td>\n",
       "    </tr>\n",
       "    <tr>\n",
       "      <th>3</th>\n",
       "      <td>101_1b1_Al_sc_Meditron</td>\n",
       "      <td>3.893</td>\n",
       "      <td>5.793</td>\n",
       "      <td>0</td>\n",
       "      <td>101_1b1_Al_sc_Meditron_3.wav</td>\n",
       "      <td>1.900</td>\n",
       "    </tr>\n",
       "    <tr>\n",
       "      <th>4</th>\n",
       "      <td>101_1b1_Al_sc_Meditron</td>\n",
       "      <td>5.793</td>\n",
       "      <td>7.521</td>\n",
       "      <td>0</td>\n",
       "      <td>101_1b1_Al_sc_Meditron_4.wav</td>\n",
       "      <td>1.728</td>\n",
       "    </tr>\n",
       "    <tr>\n",
       "      <th>...</th>\n",
       "      <td>...</td>\n",
       "      <td>...</td>\n",
       "      <td>...</td>\n",
       "      <td>...</td>\n",
       "      <td>...</td>\n",
       "      <td>...</td>\n",
       "    </tr>\n",
       "    <tr>\n",
       "      <th>6733</th>\n",
       "      <td>226_1b1_Pl_sc_LittC2SE</td>\n",
       "      <td>11.721</td>\n",
       "      <td>13.693</td>\n",
       "      <td>1</td>\n",
       "      <td>226_1b1_Pl_sc_LittC2SE_6.wav</td>\n",
       "      <td>1.972</td>\n",
       "    </tr>\n",
       "    <tr>\n",
       "      <th>6734</th>\n",
       "      <td>226_1b1_Pl_sc_LittC2SE</td>\n",
       "      <td>13.693</td>\n",
       "      <td>15.536</td>\n",
       "      <td>0</td>\n",
       "      <td>226_1b1_Pl_sc_LittC2SE_7.wav</td>\n",
       "      <td>1.843</td>\n",
       "    </tr>\n",
       "    <tr>\n",
       "      <th>6735</th>\n",
       "      <td>226_1b1_Pl_sc_LittC2SE</td>\n",
       "      <td>15.536</td>\n",
       "      <td>17.493</td>\n",
       "      <td>0</td>\n",
       "      <td>226_1b1_Pl_sc_LittC2SE_8.wav</td>\n",
       "      <td>1.957</td>\n",
       "    </tr>\n",
       "    <tr>\n",
       "      <th>6736</th>\n",
       "      <td>226_1b1_Pl_sc_LittC2SE</td>\n",
       "      <td>17.493</td>\n",
       "      <td>19.436</td>\n",
       "      <td>1</td>\n",
       "      <td>226_1b1_Pl_sc_LittC2SE_9.wav</td>\n",
       "      <td>1.943</td>\n",
       "    </tr>\n",
       "    <tr>\n",
       "      <th>6737</th>\n",
       "      <td>226_1b1_Pl_sc_LittC2SE</td>\n",
       "      <td>19.436</td>\n",
       "      <td>19.979</td>\n",
       "      <td>0</td>\n",
       "      <td>226_1b1_Pl_sc_LittC2SE_10.wav</td>\n",
       "      <td>0.543</td>\n",
       "    </tr>\n",
       "  </tbody>\n",
       "</table>\n",
       "<p>6738 rows × 6 columns</p>\n",
       "</div>"
      ],
      "text/plain": [
       "                       fname   start     end  crack_wheez  \\\n",
       "0     101_1b1_Al_sc_Meditron   0.036   0.579            0   \n",
       "1     101_1b1_Al_sc_Meditron   0.579   2.450            0   \n",
       "2     101_1b1_Al_sc_Meditron   2.450   3.893            0   \n",
       "3     101_1b1_Al_sc_Meditron   3.893   5.793            0   \n",
       "4     101_1b1_Al_sc_Meditron   5.793   7.521            0   \n",
       "...                      ...     ...     ...          ...   \n",
       "6733  226_1b1_Pl_sc_LittC2SE  11.721  13.693            1   \n",
       "6734  226_1b1_Pl_sc_LittC2SE  13.693  15.536            0   \n",
       "6735  226_1b1_Pl_sc_LittC2SE  15.536  17.493            0   \n",
       "6736  226_1b1_Pl_sc_LittC2SE  17.493  19.436            1   \n",
       "6737  226_1b1_Pl_sc_LittC2SE  19.436  19.979            0   \n",
       "\n",
       "                        fname_cycle    len  \n",
       "0      101_1b1_Al_sc_Meditron_0.wav  0.543  \n",
       "1      101_1b1_Al_sc_Meditron_1.wav  1.871  \n",
       "2      101_1b1_Al_sc_Meditron_2.wav  1.443  \n",
       "3      101_1b1_Al_sc_Meditron_3.wav  1.900  \n",
       "4      101_1b1_Al_sc_Meditron_4.wav  1.728  \n",
       "...                             ...    ...  \n",
       "6733   226_1b1_Pl_sc_LittC2SE_6.wav  1.972  \n",
       "6734   226_1b1_Pl_sc_LittC2SE_7.wav  1.843  \n",
       "6735   226_1b1_Pl_sc_LittC2SE_8.wav  1.957  \n",
       "6736   226_1b1_Pl_sc_LittC2SE_9.wav  1.943  \n",
       "6737  226_1b1_Pl_sc_LittC2SE_10.wav  0.543  \n",
       "\n",
       "[6738 rows x 6 columns]"
      ]
     },
     "execution_count": 3,
     "metadata": {},
     "output_type": "execute_result"
    }
   ],
   "source": [
    "file_data"
   ]
  },
  {
   "cell_type": "code",
   "execution_count": 4,
   "metadata": {},
   "outputs": [
    {
     "data": {
      "image/png": "[encoded data removed]",
      "text/plain": [
       "<Figure size 432x288 with 1 Axes>"
      ]
     },
     "metadata": {
      "needs_background": "light"
     },
     "output_type": "display_data"
    }
   ],
   "source": [
    "#Find the outliers \n",
    "box = plt.boxplot(file_data.len)"
   ]
  },
  {
   "cell_type": "code",
   "execution_count": 5,
   "metadata": {},
   "outputs": [
    {
     "data": {
      "text/plain": [
       "5.0"
      ]
     },
     "execution_count": 5,
     "metadata": {},
     "output_type": "execute_result"
    }
   ],
   "source": [
    "#Find the relative maximum -- 16s is an unusual breath cycles.\n",
    "#Choose a relative maximum length of breathcycle as 6s as most of the data falls undes 6s \n",
    "rel_max = [item.get_ydata()[1] for item in box['whiskers']][1]\n",
    "rel_max = np.floor(rel_max)\n",
    "rel_max"
   ]
  },
  {
   "cell_type": "code",
   "execution_count": 6,
   "metadata": {},
   "outputs": [],
   "source": [
    "#Set maxpad length as 94 <--(Sampling rate*6s)/256(hop length)\n",
    "def Short_features(df):\n",
    "    X = []\n",
    "    Y = []\n",
    "    for i in tqdm(range(len(df))):\n",
    "        file = df.iloc[i].fname_cycle\n",
    "        label = df.iloc[i].crack_wheez\n",
    "        [Fs, x] = audioBasicIO.read_audio_file('Breath_cycles/' +file)\n",
    "        F, f_names = ShortTermFeatures.feature_extraction(x, Fs, 0.256*Fs, 0.128*Fs, deltas=False)\n",
    "        mean_F =[]\n",
    "        for i in range(len(F)):\n",
    "            mean_F.append(np.mean(F[i]))\n",
    "        X.append(mean_F)\n",
    "        Y.append(label)\n",
    "    X, Y = np.array(X), np.array(Y)    \n",
    "    return X, Y"
   ]
  },
  {
   "cell_type": "code",
   "execution_count": 7,
   "metadata": {},
   "outputs": [],
   "source": [
    "[Fs, x] = audioBasicIO.read_audio_file('Breath_cycles/101_1b1_Al_sc_Meditron_0.wav')\n",
    "F, f_names = ShortTermFeatures.feature_extraction(x, Fs, 0.256*Fs, 0.128*Fs, deltas=False)"
   ]
  },
  {
   "cell_type": "code",
   "execution_count": 8,
   "metadata": {},
   "outputs": [
    {
     "data": {
      "text/plain": [
       "['zcr',\n",
       " 'energy',\n",
       " 'energy_entropy',\n",
       " 'spectral_centroid',\n",
       " 'spectral_spread',\n",
       " 'spectral_entropy',\n",
       " 'spectral_flux',\n",
       " 'spectral_rolloff',\n",
       " 'mfcc_1',\n",
       " 'mfcc_2',\n",
       " 'mfcc_3',\n",
       " 'mfcc_4',\n",
       " 'mfcc_5',\n",
       " 'mfcc_6',\n",
       " 'mfcc_7',\n",
       " 'mfcc_8',\n",
       " 'mfcc_9',\n",
       " 'mfcc_10',\n",
       " 'mfcc_11',\n",
       " 'mfcc_12',\n",
       " 'mfcc_13',\n",
       " 'chroma_1',\n",
       " 'chroma_2',\n",
       " 'chroma_3',\n",
       " 'chroma_4',\n",
       " 'chroma_5',\n",
       " 'chroma_6',\n",
       " 'chroma_7',\n",
       " 'chroma_8',\n",
       " 'chroma_9',\n",
       " 'chroma_10',\n",
       " 'chroma_11',\n",
       " 'chroma_12',\n",
       " 'chroma_std']"
      ]
     },
     "execution_count": 8,
     "metadata": {},
     "output_type": "execute_result"
    }
   ],
   "source": [
    "f_names"
   ]
  },
  {
   "cell_type": "code",
   "execution_count": 9,
   "metadata": {},
   "outputs": [],
   "source": [
    "#Split the dataset into train and test set\n",
    "train_df, test_df = train_test_split(file_data, test_size=0.2, random_state=0)"
   ]
  },
  {
   "cell_type": "code",
   "execution_count": 10,
   "metadata": {},
   "outputs": [
    {
     "data": {
      "text/html": [
       "<div>\n",
       "<style scoped>\n",
       "    .dataframe tbody tr th:only-of-type {\n",
       "        vertical-align: middle;\n",
       "    }\n",
       "\n",
       "    .dataframe tbody tr th {\n",
       "        vertical-align: top;\n",
       "    }\n",
       "\n",
       "    .dataframe thead th {\n",
       "        text-align: right;\n",
       "    }\n",
       "</style>\n",
       "<table border=\"1\" class=\"dataframe\">\n",
       "  <thead>\n",
       "    <tr style=\"text-align: right;\">\n",
       "      <th></th>\n",
       "      <th>fname</th>\n",
       "      <th>start</th>\n",
       "      <th>end</th>\n",
       "      <th>crack_wheez</th>\n",
       "      <th>fname_cycle</th>\n",
       "      <th>len</th>\n",
       "    </tr>\n",
       "  </thead>\n",
       "  <tbody>\n",
       "    <tr>\n",
       "      <th>3943</th>\n",
       "      <td>172_1b3_Pr_mc_AKGC417L</td>\n",
       "      <td>17.571</td>\n",
       "      <td>19.975</td>\n",
       "      <td>1</td>\n",
       "      <td>172_1b3_Pr_mc_AKGC417L_6.wav</td>\n",
       "      <td>2.404</td>\n",
       "    </tr>\n",
       "    <tr>\n",
       "      <th>2632</th>\n",
       "      <td>152_1b1_Al_sc_Meditron</td>\n",
       "      <td>11.279</td>\n",
       "      <td>14.507</td>\n",
       "      <td>0</td>\n",
       "      <td>152_1b1_Al_sc_Meditron_4.wav</td>\n",
       "      <td>3.228</td>\n",
       "    </tr>\n",
       "    <tr>\n",
       "      <th>828</th>\n",
       "      <td>120_1b1_Pr_sc_Meditron</td>\n",
       "      <td>53.735</td>\n",
       "      <td>57.214</td>\n",
       "      <td>0</td>\n",
       "      <td>120_1b1_Pr_sc_Meditron_17.wav</td>\n",
       "      <td>3.479</td>\n",
       "    </tr>\n",
       "    <tr>\n",
       "      <th>1371</th>\n",
       "      <td>130_2p5_Tc_mc_AKGC417L</td>\n",
       "      <td>15.978</td>\n",
       "      <td>17.937</td>\n",
       "      <td>1</td>\n",
       "      <td>130_2p5_Tc_mc_AKGC417L_8.wav</td>\n",
       "      <td>1.959</td>\n",
       "    </tr>\n",
       "    <tr>\n",
       "      <th>3051</th>\n",
       "      <td>158_1b3_Ar_mc_LittC2SE</td>\n",
       "      <td>12.364</td>\n",
       "      <td>15.021</td>\n",
       "      <td>1</td>\n",
       "      <td>158_1b3_Ar_mc_LittC2SE_7.wav</td>\n",
       "      <td>2.657</td>\n",
       "    </tr>\n",
       "    <tr>\n",
       "      <th>...</th>\n",
       "      <td>...</td>\n",
       "      <td>...</td>\n",
       "      <td>...</td>\n",
       "      <td>...</td>\n",
       "      <td>...</td>\n",
       "      <td>...</td>\n",
       "    </tr>\n",
       "    <tr>\n",
       "      <th>4931</th>\n",
       "      <td>188_1b1_Ar_sc_Meditron</td>\n",
       "      <td>16.421</td>\n",
       "      <td>17.607</td>\n",
       "      <td>0</td>\n",
       "      <td>188_1b1_Ar_sc_Meditron_14.wav</td>\n",
       "      <td>1.186</td>\n",
       "    </tr>\n",
       "    <tr>\n",
       "      <th>3264</th>\n",
       "      <td>159_1b1_Al_sc_Meditron</td>\n",
       "      <td>4.693</td>\n",
       "      <td>6.493</td>\n",
       "      <td>0</td>\n",
       "      <td>159_1b1_Al_sc_Meditron_3.wav</td>\n",
       "      <td>1.800</td>\n",
       "    </tr>\n",
       "    <tr>\n",
       "      <th>1653</th>\n",
       "      <td>133_3p2_Ar_mc_AKGC417L</td>\n",
       "      <td>0.851</td>\n",
       "      <td>2.197</td>\n",
       "      <td>0</td>\n",
       "      <td>133_3p2_Ar_mc_AKGC417L_0.wav</td>\n",
       "      <td>1.346</td>\n",
       "    </tr>\n",
       "    <tr>\n",
       "      <th>2607</th>\n",
       "      <td>151_3p2_Pl_mc_AKGC417L</td>\n",
       "      <td>10.860</td>\n",
       "      <td>14.232</td>\n",
       "      <td>1</td>\n",
       "      <td>151_3p2_Pl_mc_AKGC417L_3.wav</td>\n",
       "      <td>3.372</td>\n",
       "    </tr>\n",
       "    <tr>\n",
       "      <th>2732</th>\n",
       "      <td>154_2b4_Al_mc_AKGC417L</td>\n",
       "      <td>11.580</td>\n",
       "      <td>14.072</td>\n",
       "      <td>1</td>\n",
       "      <td>154_2b4_Al_mc_AKGC417L_4.wav</td>\n",
       "      <td>2.492</td>\n",
       "    </tr>\n",
       "  </tbody>\n",
       "</table>\n",
       "<p>5390 rows × 6 columns</p>\n",
       "</div>"
      ],
      "text/plain": [
       "                       fname   start     end  crack_wheez  \\\n",
       "3943  172_1b3_Pr_mc_AKGC417L  17.571  19.975            1   \n",
       "2632  152_1b1_Al_sc_Meditron  11.279  14.507            0   \n",
       "828   120_1b1_Pr_sc_Meditron  53.735  57.214            0   \n",
       "1371  130_2p5_Tc_mc_AKGC417L  15.978  17.937            1   \n",
       "3051  158_1b3_Ar_mc_LittC2SE  12.364  15.021            1   \n",
       "...                      ...     ...     ...          ...   \n",
       "4931  188_1b1_Ar_sc_Meditron  16.421  17.607            0   \n",
       "3264  159_1b1_Al_sc_Meditron   4.693   6.493            0   \n",
       "1653  133_3p2_Ar_mc_AKGC417L   0.851   2.197            0   \n",
       "2607  151_3p2_Pl_mc_AKGC417L  10.860  14.232            1   \n",
       "2732  154_2b4_Al_mc_AKGC417L  11.580  14.072            1   \n",
       "\n",
       "                        fname_cycle    len  \n",
       "3943   172_1b3_Pr_mc_AKGC417L_6.wav  2.404  \n",
       "2632   152_1b1_Al_sc_Meditron_4.wav  3.228  \n",
       "828   120_1b1_Pr_sc_Meditron_17.wav  3.479  \n",
       "1371   130_2p5_Tc_mc_AKGC417L_8.wav  1.959  \n",
       "3051   158_1b3_Ar_mc_LittC2SE_7.wav  2.657  \n",
       "...                             ...    ...  \n",
       "4931  188_1b1_Ar_sc_Meditron_14.wav  1.186  \n",
       "3264   159_1b1_Al_sc_Meditron_3.wav  1.800  \n",
       "1653   133_3p2_Ar_mc_AKGC417L_0.wav  1.346  \n",
       "2607   151_3p2_Pl_mc_AKGC417L_3.wav  3.372  \n",
       "2732   154_2b4_Al_mc_AKGC417L_4.wav  2.492  \n",
       "\n",
       "[5390 rows x 6 columns]"
      ]
     },
     "execution_count": 10,
     "metadata": {},
     "output_type": "execute_result"
    }
   ],
   "source": [
    "train_df"
   ]
  },
  {
   "cell_type": "code",
   "execution_count": 11,
   "metadata": {},
   "outputs": [],
   "source": [
    "#Reset index\n",
    "train_df.reset_index(drop=True, inplace=True)\n",
    "test_df.reset_index(drop=True, inplace=True)"
   ]
  },
  {
   "cell_type": "code",
   "execution_count": 13,
   "metadata": {},
   "outputs": [
    {
     "name": "stderr",
     "output_type": "stream",
     "text": [
      "100%|██████████| 5390/5390 [08:38<00:00, 10.39it/s]\n"
     ]
    }
   ],
   "source": [
    "#Extract features for training data\n",
    "X_, y_ = Short_features(train_df)"
   ]
  },
  {
   "cell_type": "code",
   "execution_count": 14,
   "metadata": {},
   "outputs": [
    {
     "name": "stderr",
     "output_type": "stream",
     "text": [
      "100%|██████████| 1348/1348 [02:17<00:00,  9.79it/s]\n"
     ]
    }
   ],
   "source": [
    "#Extract feature for testing data\n",
    "X_test, y_test = Short_features(test_df)"
   ]
  },
  {
   "cell_type": "code",
   "execution_count": 15,
   "metadata": {},
   "outputs": [],
   "source": [
    "#Convert labels into one hot vectors\n",
    "y_tr_cat= to_categorical(y_, num_classes=4)\n",
    "y_test_cat= to_categorical(y_test, num_classes=4)"
   ]
  },
  {
   "cell_type": "code",
   "execution_count": 16,
   "metadata": {},
   "outputs": [],
   "source": [
    "np.save('X_tr', X_)\n",
    "np.save('X_test', X_test)\n",
    "\n",
    "np.save('y_tr', y_)\n",
    "np.save('y_test', y_test)"
   ]
  },
  {
   "cell_type": "code",
   "execution_count": null,
   "metadata": {},
   "outputs": [],
   "source": [
    "X_ = np.load('X_tr.npy')\n",
    "X_test = np.load('X_test.npy')\n",
    "\n",
    "y_ = np.load('y_tr.npy')\n",
    "y_test = np.load('y_test.npy')"
   ]
  },
  {
   "cell_type": "code",
   "execution_count": 17,
   "metadata": {},
   "outputs": [],
   "source": [
    "X_train = np.reshape(X_, (X_.shape[0], X_.shape[1], 1))\n",
    "X_test = np.reshape(X_test, (X_test.shape[0], X_test.shape[1],  1))"
   ]
  },
  {
   "cell_type": "code",
   "execution_count": 30,
   "metadata": {},
   "outputs": [],
   "source": [
    "def SeperablaConv():\n",
    "    model = Sequential()\n",
    "    model.add(Conv1D(64, kernel_size=5, activation='tanh', input_shape=(34, 1)))\n",
    "    model.add(Conv1D(128, kernel_size=5, activation='relu'))\n",
    "    model.add(MaxPooling1D(2)) \n",
    "    model.add(Dropout(0.25))\n",
    "    model.add(SeparableConv1D(256, kernel_size=5, activation='relu'))\n",
    "    model.add(MaxPooling1D(2)) \n",
    "    model.add(Dropout(0.5))\n",
    "    model.add(GlobalAveragePooling1D())\n",
    "    model.add(Dense(512, activation='relu'))   \n",
    "    model.add(Dense(4, activation='softmax'))\n",
    "    return model"
   ]
  },
  {
   "cell_type": "code",
   "execution_count": 31,
   "metadata": {},
   "outputs": [
    {
     "name": "stdout",
     "output_type": "stream",
     "text": [
      "Model: \"sequential_6\"\n",
      "_________________________________________________________________\n",
      "Layer (type)                 Output Shape              Param #   \n",
      "=================================================================\n",
      "conv1d_17 (Conv1D)           (None, 30, 64)            384       \n",
      "_________________________________________________________________\n",
      "conv1d_18 (Conv1D)           (None, 26, 128)           41088     \n",
      "_________________________________________________________________\n",
      "max_pooling1d_11 (MaxPooling (None, 13, 128)           0         \n",
      "_________________________________________________________________\n",
      "dropout_5 (Dropout)          (None, 13, 128)           0         \n",
      "_________________________________________________________________\n",
      "separable_conv1d_4 (Separabl (None, 9, 256)            33664     \n",
      "_________________________________________________________________\n",
      "max_pooling1d_12 (MaxPooling (None, 4, 256)            0         \n",
      "_________________________________________________________________\n",
      "dropout_6 (Dropout)          (None, 4, 256)            0         \n",
      "_________________________________________________________________\n",
      "global_average_pooling1d_2 ( (None, 256)               0         \n",
      "_________________________________________________________________\n",
      "dense_9 (Dense)              (None, 512)               131584    \n",
      "_________________________________________________________________\n",
      "dense_10 (Dense)             (None, 4)                 2052      \n",
      "=================================================================\n",
      "Total params: 208,772\n",
      "Trainable params: 208,772\n",
      "Non-trainable params: 0\n",
      "_________________________________________________________________\n"
     ]
    }
   ],
   "source": [
    "SeperablaConv().summary()"
   ]
  },
  {
   "cell_type": "code",
   "execution_count": 36,
   "metadata": {},
   "outputs": [],
   "source": [
    "model = SeperablaConv()"
   ]
  },
  {
   "cell_type": "code",
   "execution_count": 37,
   "metadata": {},
   "outputs": [],
   "source": [
    "#Compile the model\n",
    "model.compile(loss='categorical_crossentropy', metrics=['accuracy'], optimizer='adam') "
   ]
  },
  {
   "cell_type": "code",
   "execution_count": null,
   "metadata": {},
   "outputs": [],
   "source": [
    "logdir = os.path.join(\"logs\", datetime.datetime.now().strftime(\"%Y%m%d-%H%M%S\"))\n",
    "tensorboard_callback = tf.keras.callbacks.TensorBoard(logdir, histogram_freq=1)"
   ]
  },
  {
   "cell_type": "code",
   "execution_count": 22,
   "metadata": {},
   "outputs": [
    {
     "name": "stderr",
     "output_type": "stream",
     "text": [
      "/home/014544907/anaconda3/envs/master_project/lib/python3.8/site-packages/sklearn/utils/validation.py:67: FutureWarning: Pass classes=[0 1 2 3], y=[1 0 0 ... 0 1 1] as keyword args. From version 0.25 passing these as positional arguments will result in an error\n",
      "  warnings.warn(\"Pass {} as keyword args. From version 0.25 \"\n"
     ]
    }
   ],
   "source": [
    "class_weight = compute_class_weight('balanced', np.unique(y_), y_)"
   ]
  },
  {
   "cell_type": "code",
   "execution_count": null,
   "metadata": {
    "scrolled": true
   },
   "outputs": [],
   "source": [
    "model.fit(X_train,y_tr_cat, epochs = 150, batch_size = 64, shuffle= True,  validation_data=(X_test, y_test_cat), class_weight = class_weight, verbose = True)"
   ]
  },
  {
   "cell_type": "code",
   "execution_count": 39,
   "metadata": {},
   "outputs": [
    {
     "name": "stdout",
     "output_type": "stream",
     "text": [
      "                precision    recall  f1-score   support\n",
      "\n",
      "          None       0.69      0.75      0.72       702\n",
      "       Crackle       0.52      0.57      0.54       350\n",
      "        Wheeze       0.52      0.34      0.41       199\n",
      "Crackle_wheeze       0.44      0.32      0.37        97\n",
      "\n",
      "      accuracy                           0.61      1348\n",
      "     macro avg       0.54      0.50      0.51      1348\n",
      "  weighted avg       0.60      0.61      0.60      1348\n",
      "\n"
     ]
    },
    {
     "data": {
      "text/plain": [
       "<matplotlib.axes._subplots.AxesSubplot at 0x7efd3566f910>"
      ]
     },
     "execution_count": 39,
     "metadata": {},
     "output_type": "execute_result"
    },
    {
     "data": {
      "image/png": "[encoded data removed]",
      "text/plain": [
       "<Figure size 720x504 with 2 Axes>"
      ]
     },
     "metadata": {
      "needs_background": "light"
     },
     "output_type": "display_data"
    }
   ],
   "source": [
    "from sklearn.metrics import roc_auc_score, classification_report, confusion_matrix\n",
    "matrix_index = [\"None\", \"Crackle\", \"Wheeze\", \"Crackle_wheeze\"]\n",
    "\n",
    "preds = model.predict(X_test)\n",
    "classpreds = np.argmax(preds, axis=1) # predicted classes \n",
    "y_testclass = np.argmax(y_test_cat, axis=1) # true classes\n",
    "\n",
    "cm = confusion_matrix(y_testclass, classpreds)\n",
    "print(classification_report(y_testclass, classpreds, target_names=matrix_index))\n",
    "\n",
    "# Get percentage value for each element of the matrix\n",
    "cm_sum = np.sum(cm, axis=1, keepdims=True)\n",
    "cm_perc = cm / cm_sum.astype(float) * 100\n",
    "annot = np.empty_like(cm).astype(str)\n",
    "nrows, ncols = cm.shape\n",
    "for i in range(nrows):\n",
    "    for j in range(ncols):\n",
    "        c = cm[i, j]\n",
    "        p = cm_perc[i, j]\n",
    "        if i == j:\n",
    "            s = cm_sum[i]\n",
    "            annot[i, j] = '%.1f%%\\n%d/%d' % (p, c, s)\n",
    "        elif c == 0:\n",
    "            annot[i, j] = ''\n",
    "        else:\n",
    "            annot[i, j] = '%.1f%%\\n%d' % (p, c)\n",
    "\n",
    "\n",
    "# Display confusion matrix \n",
    "df_cm = pd.DataFrame(cm, index = matrix_index, columns = matrix_index)\n",
    "df_cm.index.name = 'Actual'\n",
    "df_cm.columns.name = 'Predicted'\n",
    "fig, ax = plt.subplots(figsize=(10,7))\n",
    "sns.heatmap(df_cm, annot=annot, fmt='')"
   ]
  }
 ],
 "metadata": {
  "kernelspec": {
   "display_name": "Python 3",
   "language": "python",
   "name": "python3"
  },
  "language_info": {
   "codemirror_mode": {
    "name": "ipython",
    "version": 3
   },
   "file_extension": ".py",
   "mimetype": "text/x-python",
   "name": "python",
   "nbconvert_exporter": "python",
   "pygments_lexer": "ipython3",
   "version": "3.8.3"
  }
 },
 "nbformat": 4,
 "nbformat_minor": 4
}

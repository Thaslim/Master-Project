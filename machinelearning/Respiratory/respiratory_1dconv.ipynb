{
 "cells": [
  {
   "cell_type": "code",
   "execution_count": 31,
   "metadata": {
    "scrolled": true
   },
   "outputs": [],
   "source": [
    "import pandas as pd\n",
    "import os\n",
    "import librosa\n",
    "from librosa import display\n",
    "import numpy as np\n",
    "from tqdm import tqdm\n",
    "import seaborn as sns\n",
    "from keras.optimizers import adam\n",
    "import matplotlib.pyplot as plt\n",
    "from keras.utils import to_categorical\n",
    "from sklearn.utils.class_weight import compute_class_weight\n",
    "from sklearn.model_selection import train_test_split\n",
    "from keras import regularizers\n",
    "from keras.models import Sequential\n",
    "from keras.layers import Conv1D, MaxPooling1D, SeparableConv1D, Dropout, Dense, Flatten, GlobalAveragePooling1D"
   ]
  },
  {
   "cell_type": "code",
   "execution_count": 2,
   "metadata": {},
   "outputs": [
    {
     "data": {
      "text/html": [
       "<div>\n",
       "<style scoped>\n",
       "    .dataframe tbody tr th:only-of-type {\n",
       "        vertical-align: middle;\n",
       "    }\n",
       "\n",
       "    .dataframe tbody tr th {\n",
       "        vertical-align: top;\n",
       "    }\n",
       "\n",
       "    .dataframe thead th {\n",
       "        text-align: right;\n",
       "    }\n",
       "</style>\n",
       "<table border=\"1\" class=\"dataframe\">\n",
       "  <thead>\n",
       "    <tr style=\"text-align: right;\">\n",
       "      <th></th>\n",
       "      <th>fname</th>\n",
       "      <th>start</th>\n",
       "      <th>end</th>\n",
       "      <th>crack_wheez</th>\n",
       "      <th>fname_cycle</th>\n",
       "    </tr>\n",
       "  </thead>\n",
       "  <tbody>\n",
       "    <tr>\n",
       "      <th>0</th>\n",
       "      <td>101_1b1_Al_sc_Meditron</td>\n",
       "      <td>0.036</td>\n",
       "      <td>0.579</td>\n",
       "      <td>0</td>\n",
       "      <td>101_1b1_Al_sc_Meditron_0.wav</td>\n",
       "    </tr>\n",
       "    <tr>\n",
       "      <th>1</th>\n",
       "      <td>101_1b1_Al_sc_Meditron</td>\n",
       "      <td>0.579</td>\n",
       "      <td>2.450</td>\n",
       "      <td>0</td>\n",
       "      <td>101_1b1_Al_sc_Meditron_1.wav</td>\n",
       "    </tr>\n",
       "    <tr>\n",
       "      <th>2</th>\n",
       "      <td>101_1b1_Al_sc_Meditron</td>\n",
       "      <td>2.450</td>\n",
       "      <td>3.893</td>\n",
       "      <td>0</td>\n",
       "      <td>101_1b1_Al_sc_Meditron_2.wav</td>\n",
       "    </tr>\n",
       "    <tr>\n",
       "      <th>3</th>\n",
       "      <td>101_1b1_Al_sc_Meditron</td>\n",
       "      <td>3.893</td>\n",
       "      <td>5.793</td>\n",
       "      <td>0</td>\n",
       "      <td>101_1b1_Al_sc_Meditron_3.wav</td>\n",
       "    </tr>\n",
       "    <tr>\n",
       "      <th>4</th>\n",
       "      <td>101_1b1_Al_sc_Meditron</td>\n",
       "      <td>5.793</td>\n",
       "      <td>7.521</td>\n",
       "      <td>0</td>\n",
       "      <td>101_1b1_Al_sc_Meditron_4.wav</td>\n",
       "    </tr>\n",
       "    <tr>\n",
       "      <th>...</th>\n",
       "      <td>...</td>\n",
       "      <td>...</td>\n",
       "      <td>...</td>\n",
       "      <td>...</td>\n",
       "      <td>...</td>\n",
       "    </tr>\n",
       "    <tr>\n",
       "      <th>6893</th>\n",
       "      <td>226_1b1_Pl_sc_LittC2SE</td>\n",
       "      <td>11.721</td>\n",
       "      <td>13.693</td>\n",
       "      <td>1</td>\n",
       "      <td>226_1b1_Pl_sc_LittC2SE_6.wav</td>\n",
       "    </tr>\n",
       "    <tr>\n",
       "      <th>6894</th>\n",
       "      <td>226_1b1_Pl_sc_LittC2SE</td>\n",
       "      <td>13.693</td>\n",
       "      <td>15.536</td>\n",
       "      <td>0</td>\n",
       "      <td>226_1b1_Pl_sc_LittC2SE_7.wav</td>\n",
       "    </tr>\n",
       "    <tr>\n",
       "      <th>6895</th>\n",
       "      <td>226_1b1_Pl_sc_LittC2SE</td>\n",
       "      <td>15.536</td>\n",
       "      <td>17.493</td>\n",
       "      <td>0</td>\n",
       "      <td>226_1b1_Pl_sc_LittC2SE_8.wav</td>\n",
       "    </tr>\n",
       "    <tr>\n",
       "      <th>6896</th>\n",
       "      <td>226_1b1_Pl_sc_LittC2SE</td>\n",
       "      <td>17.493</td>\n",
       "      <td>19.436</td>\n",
       "      <td>1</td>\n",
       "      <td>226_1b1_Pl_sc_LittC2SE_9.wav</td>\n",
       "    </tr>\n",
       "    <tr>\n",
       "      <th>6897</th>\n",
       "      <td>226_1b1_Pl_sc_LittC2SE</td>\n",
       "      <td>19.436</td>\n",
       "      <td>19.979</td>\n",
       "      <td>0</td>\n",
       "      <td>226_1b1_Pl_sc_LittC2SE_10.wav</td>\n",
       "    </tr>\n",
       "  </tbody>\n",
       "</table>\n",
       "<p>6898 rows × 5 columns</p>\n",
       "</div>"
      ],
      "text/plain": [
       "                       fname   start     end  crack_wheez  \\\n",
       "0     101_1b1_Al_sc_Meditron   0.036   0.579            0   \n",
       "1     101_1b1_Al_sc_Meditron   0.579   2.450            0   \n",
       "2     101_1b1_Al_sc_Meditron   2.450   3.893            0   \n",
       "3     101_1b1_Al_sc_Meditron   3.893   5.793            0   \n",
       "4     101_1b1_Al_sc_Meditron   5.793   7.521            0   \n",
       "...                      ...     ...     ...          ...   \n",
       "6893  226_1b1_Pl_sc_LittC2SE  11.721  13.693            1   \n",
       "6894  226_1b1_Pl_sc_LittC2SE  13.693  15.536            0   \n",
       "6895  226_1b1_Pl_sc_LittC2SE  15.536  17.493            0   \n",
       "6896  226_1b1_Pl_sc_LittC2SE  17.493  19.436            1   \n",
       "6897  226_1b1_Pl_sc_LittC2SE  19.436  19.979            0   \n",
       "\n",
       "                        fname_cycle  \n",
       "0      101_1b1_Al_sc_Meditron_0.wav  \n",
       "1      101_1b1_Al_sc_Meditron_1.wav  \n",
       "2      101_1b1_Al_sc_Meditron_2.wav  \n",
       "3      101_1b1_Al_sc_Meditron_3.wav  \n",
       "4      101_1b1_Al_sc_Meditron_4.wav  \n",
       "...                             ...  \n",
       "6893   226_1b1_Pl_sc_LittC2SE_6.wav  \n",
       "6894   226_1b1_Pl_sc_LittC2SE_7.wav  \n",
       "6895   226_1b1_Pl_sc_LittC2SE_8.wav  \n",
       "6896   226_1b1_Pl_sc_LittC2SE_9.wav  \n",
       "6897  226_1b1_Pl_sc_LittC2SE_10.wav  \n",
       "\n",
       "[6898 rows x 5 columns]"
      ]
     },
     "execution_count": 2,
     "metadata": {},
     "output_type": "execute_result"
    }
   ],
   "source": [
    "file_data = pd.read_csv('file_data.csv')\n",
    "file_data"
   ]
  },
  {
   "cell_type": "code",
   "execution_count": 3,
   "metadata": {},
   "outputs": [
    {
     "data": {
      "text/html": [
       "<div>\n",
       "<style scoped>\n",
       "    .dataframe tbody tr th:only-of-type {\n",
       "        vertical-align: middle;\n",
       "    }\n",
       "\n",
       "    .dataframe tbody tr th {\n",
       "        vertical-align: top;\n",
       "    }\n",
       "\n",
       "    .dataframe thead th {\n",
       "        text-align: right;\n",
       "    }\n",
       "</style>\n",
       "<table border=\"1\" class=\"dataframe\">\n",
       "  <thead>\n",
       "    <tr style=\"text-align: right;\">\n",
       "      <th></th>\n",
       "      <th>fname</th>\n",
       "      <th>start</th>\n",
       "      <th>end</th>\n",
       "      <th>crack_wheez</th>\n",
       "      <th>fname_cycle</th>\n",
       "    </tr>\n",
       "  </thead>\n",
       "  <tbody>\n",
       "    <tr>\n",
       "      <th>1902</th>\n",
       "      <td>138_1p2_Pr_mc_AKGC417L</td>\n",
       "      <td>11.461</td>\n",
       "      <td>15.568</td>\n",
       "      <td>1</td>\n",
       "      <td>138_1p2_Pr_mc_AKGC417L_3.wav</td>\n",
       "    </tr>\n",
       "    <tr>\n",
       "      <th>5987</th>\n",
       "      <td>205_4b2_Al_mc_AKGC417L</td>\n",
       "      <td>4.994</td>\n",
       "      <td>8.327</td>\n",
       "      <td>1</td>\n",
       "      <td>205_4b2_Al_mc_AKGC417L_1.wav</td>\n",
       "    </tr>\n",
       "    <tr>\n",
       "      <th>4453</th>\n",
       "      <td>177_1b2_Pl_mc_AKGC417L</td>\n",
       "      <td>8.406</td>\n",
       "      <td>12.045</td>\n",
       "      <td>1</td>\n",
       "      <td>177_1b2_Pl_mc_AKGC417L_1.wav</td>\n",
       "    </tr>\n",
       "    <tr>\n",
       "      <th>3892</th>\n",
       "      <td>170_1b3_Tc_mc_AKGC417L</td>\n",
       "      <td>1.427</td>\n",
       "      <td>4.466</td>\n",
       "      <td>0</td>\n",
       "      <td>170_1b3_Tc_mc_AKGC417L_0.wav</td>\n",
       "    </tr>\n",
       "    <tr>\n",
       "      <th>6704</th>\n",
       "      <td>221_2b2_Lr_mc_LittC2SE</td>\n",
       "      <td>5.521</td>\n",
       "      <td>10.036</td>\n",
       "      <td>3</td>\n",
       "      <td>221_2b2_Lr_mc_LittC2SE_2.wav</td>\n",
       "    </tr>\n",
       "    <tr>\n",
       "      <th>...</th>\n",
       "      <td>...</td>\n",
       "      <td>...</td>\n",
       "      <td>...</td>\n",
       "      <td>...</td>\n",
       "      <td>...</td>\n",
       "    </tr>\n",
       "    <tr>\n",
       "      <th>6313</th>\n",
       "      <td>211_2p3_Tc_mc_AKGC417L</td>\n",
       "      <td>10.193</td>\n",
       "      <td>11.468</td>\n",
       "      <td>0</td>\n",
       "      <td>211_2p3_Tc_mc_AKGC417L_8.wav</td>\n",
       "    </tr>\n",
       "    <tr>\n",
       "      <th>6518</th>\n",
       "      <td>217_1b1_Tc_sc_Meditron</td>\n",
       "      <td>11.107</td>\n",
       "      <td>13.293</td>\n",
       "      <td>0</td>\n",
       "      <td>217_1b1_Tc_sc_Meditron_6.wav</td>\n",
       "    </tr>\n",
       "    <tr>\n",
       "      <th>6717</th>\n",
       "      <td>221_2b3_Al_mc_LittC2SE</td>\n",
       "      <td>16.764</td>\n",
       "      <td>19.979</td>\n",
       "      <td>2</td>\n",
       "      <td>221_2b3_Al_mc_LittC2SE_4.wav</td>\n",
       "    </tr>\n",
       "    <tr>\n",
       "      <th>1598</th>\n",
       "      <td>133_2p3_Ar_mc_AKGC417L</td>\n",
       "      <td>9.946</td>\n",
       "      <td>12.542</td>\n",
       "      <td>0</td>\n",
       "      <td>133_2p3_Ar_mc_AKGC417L_4.wav</td>\n",
       "    </tr>\n",
       "    <tr>\n",
       "      <th>3683</th>\n",
       "      <td>166_1p1_Ar_sc_Meditron</td>\n",
       "      <td>11.935</td>\n",
       "      <td>14.226</td>\n",
       "      <td>0</td>\n",
       "      <td>166_1p1_Ar_sc_Meditron_4.wav</td>\n",
       "    </tr>\n",
       "  </tbody>\n",
       "</table>\n",
       "<p>5518 rows × 5 columns</p>\n",
       "</div>"
      ],
      "text/plain": [
       "                       fname   start     end  crack_wheez  \\\n",
       "1902  138_1p2_Pr_mc_AKGC417L  11.461  15.568            1   \n",
       "5987  205_4b2_Al_mc_AKGC417L   4.994   8.327            1   \n",
       "4453  177_1b2_Pl_mc_AKGC417L   8.406  12.045            1   \n",
       "3892  170_1b3_Tc_mc_AKGC417L   1.427   4.466            0   \n",
       "6704  221_2b2_Lr_mc_LittC2SE   5.521  10.036            3   \n",
       "...                      ...     ...     ...          ...   \n",
       "6313  211_2p3_Tc_mc_AKGC417L  10.193  11.468            0   \n",
       "6518  217_1b1_Tc_sc_Meditron  11.107  13.293            0   \n",
       "6717  221_2b3_Al_mc_LittC2SE  16.764  19.979            2   \n",
       "1598  133_2p3_Ar_mc_AKGC417L   9.946  12.542            0   \n",
       "3683  166_1p1_Ar_sc_Meditron  11.935  14.226            0   \n",
       "\n",
       "                       fname_cycle  \n",
       "1902  138_1p2_Pr_mc_AKGC417L_3.wav  \n",
       "5987  205_4b2_Al_mc_AKGC417L_1.wav  \n",
       "4453  177_1b2_Pl_mc_AKGC417L_1.wav  \n",
       "3892  170_1b3_Tc_mc_AKGC417L_0.wav  \n",
       "6704  221_2b2_Lr_mc_LittC2SE_2.wav  \n",
       "...                            ...  \n",
       "6313  211_2p3_Tc_mc_AKGC417L_8.wav  \n",
       "6518  217_1b1_Tc_sc_Meditron_6.wav  \n",
       "6717  221_2b3_Al_mc_LittC2SE_4.wav  \n",
       "1598  133_2p3_Ar_mc_AKGC417L_4.wav  \n",
       "3683  166_1p1_Ar_sc_Meditron_4.wav  \n",
       "\n",
       "[5518 rows x 5 columns]"
      ]
     },
     "execution_count": 3,
     "metadata": {},
     "output_type": "execute_result"
    }
   ],
   "source": [
    "train_df, test_df = train_test_split(file_data, test_size=0.2, random_state=42, stratify = file_data['crack_wheez'])\n",
    "train_df"
   ]
  },
  {
   "cell_type": "code",
   "execution_count": 4,
   "metadata": {},
   "outputs": [],
   "source": [
    "#Reset index\n",
    "train_df.reset_index(drop=True, inplace=True)\n",
    "test_df.reset_index(drop=True, inplace=True)"
   ]
  },
  {
   "cell_type": "code",
   "execution_count": 5,
   "metadata": {},
   "outputs": [
    {
     "data": {
      "text/plain": [
       "<matplotlib.axes._subplots.AxesSubplot at 0x7fa4543306d0>"
      ]
     },
     "execution_count": 5,
     "metadata": {},
     "output_type": "execute_result"
    },
    {
     "data": {
      "image/png": "[encoded data removed]",
      "text/plain": [
       "<Figure size 432x288 with 1 Axes>"
      ]
     },
     "metadata": {
      "needs_background": "light"
     },
     "output_type": "display_data"
    }
   ],
   "source": [
    "train_df.crack_wheez.value_counts().plot(kind='bar', title='Count (target)')"
   ]
  },
  {
   "cell_type": "code",
   "execution_count": 6,
   "metadata": {},
   "outputs": [
    {
     "data": {
      "text/plain": [
       "<matplotlib.axes._subplots.AxesSubplot at 0x7fa454281310>"
      ]
     },
     "execution_count": 6,
     "metadata": {},
     "output_type": "execute_result"
    },
    {
     "data": {
      "image/png": "[encoded data removed]",
      "text/plain": [
       "<Figure size 432x288 with 1 Axes>"
      ]
     },
     "metadata": {
      "needs_background": "light"
     },
     "output_type": "display_data"
    }
   ],
   "source": [
    "test_df.crack_wheez.value_counts().plot(kind='bar', title='Count (target)')"
   ]
  },
  {
   "cell_type": "code",
   "execution_count": 13,
   "metadata": {},
   "outputs": [],
   "source": [
    "def audio_features(filename): \n",
    "    sound, sample_rate = librosa.load('Breath_cycles/'+filename, sr=None)\n",
    "    stft = np.abs(librosa.stft(sound,  n_fft=512, hop_length=256))   \n",
    "    mfccs = np.mean(librosa.feature.mfcc(y=sound, sr=sample_rate,n_fft=512, win_length=400, n_mfcc=40, hop_length = 256, n_mels = 64, fmin = 100, fmax = 1800),axis=1)\n",
    "    chroma = np.mean(librosa.feature.chroma_stft(S=stft, sr=sample_rate),axis=1)\n",
    "    mel = np.mean(librosa.feature.melspectrogram(sound, sr=sample_rate, n_fft=512, win_length=400, hop_length = 256),axis=1)\n",
    "    contrast = np.mean(librosa.feature.spectral_contrast(S=stft, sr=sample_rate, n_bands=3),axis=1)\n",
    "    concat = np.concatenate((mfccs,chroma,mel,contrast))\n",
    "    return concat"
   ]
  },
  {
   "cell_type": "code",
   "execution_count": 14,
   "metadata": {},
   "outputs": [],
   "source": [
    "def build_feat(df):\n",
    "    X = []\n",
    "    Y = []    \n",
    "    for i in tqdm(range(len(df))):\n",
    "        file = df.iloc[i].fname_cycle\n",
    "        label = df.iloc[i].crack_wheez \n",
    "        X_sample = audio_features(file)\n",
    "        X.append(X_sample)\n",
    "        Y.append(label)\n",
    "    X, Y = np.array(X), np.array(Y)\n",
    "    return X, Y"
   ]
  },
  {
   "cell_type": "code",
   "execution_count": 15,
   "metadata": {},
   "outputs": [
    {
     "name": "stderr",
     "output_type": "stream",
     "text": [
      "100%|██████████| 5518/5518 [10:14<00:00,  8.98it/s]\n"
     ]
    }
   ],
   "source": [
    "X_, y_ = build_feat(train_df)"
   ]
  },
  {
   "cell_type": "code",
   "execution_count": 16,
   "metadata": {},
   "outputs": [
    {
     "data": {
      "text/plain": [
       "(5518,)"
      ]
     },
     "execution_count": 16,
     "metadata": {},
     "output_type": "execute_result"
    }
   ],
   "source": [
    "y_.shape"
   ]
  },
  {
   "cell_type": "code",
   "execution_count": 17,
   "metadata": {},
   "outputs": [
    {
     "data": {
      "text/plain": [
       "(5518, 184)"
      ]
     },
     "execution_count": 17,
     "metadata": {},
     "output_type": "execute_result"
    }
   ],
   "source": [
    "X_.shape"
   ]
  },
  {
   "cell_type": "code",
   "execution_count": 18,
   "metadata": {},
   "outputs": [
    {
     "name": "stderr",
     "output_type": "stream",
     "text": [
      "100%|██████████| 1380/1380 [02:33<00:00,  8.99it/s]\n"
     ]
    }
   ],
   "source": [
    "X_te, y_te = build_feat(test_df)"
   ]
  },
  {
   "cell_type": "code",
   "execution_count": 19,
   "metadata": {},
   "outputs": [],
   "source": [
    "# Hot one encode the labels\n",
    "y_train = to_categorical(y_)\n",
    "y_test = to_categorical(y_te)  "
   ]
  },
  {
   "cell_type": "code",
   "execution_count": 20,
   "metadata": {},
   "outputs": [
    {
     "data": {
      "text/plain": [
       "(1380, 4)"
      ]
     },
     "execution_count": 20,
     "metadata": {},
     "output_type": "execute_result"
    }
   ],
   "source": [
    "y_test.shape"
   ]
  },
  {
   "cell_type": "code",
   "execution_count": 21,
   "metadata": {},
   "outputs": [],
   "source": [
    "X_train = np.reshape(X_, (X_.shape[0], X_.shape[1], 1))\n",
    "X_test = np.reshape(X_te, (X_te.shape[0], X_te.shape[1],  1))"
   ]
  },
  {
   "cell_type": "code",
   "execution_count": 22,
   "metadata": {},
   "outputs": [
    {
     "data": {
      "text/plain": [
       "(1380, 184, 1)"
      ]
     },
     "execution_count": 22,
     "metadata": {},
     "output_type": "execute_result"
    }
   ],
   "source": [
    "X_test.shape"
   ]
  },
  {
   "cell_type": "code",
   "execution_count": 34,
   "metadata": {},
   "outputs": [],
   "source": [
    "#Compute class weight for handling unbalanced classes\n",
    "#https://www.tensorflow.org/tutorials/structured_data/imbalanced_data#class_weights\n",
    "class_weight = compute_class_weight('balanced', np.unique(y_), y_)"
   ]
  },
  {
   "cell_type": "code",
   "execution_count": 36,
   "metadata": {},
   "outputs": [],
   "source": [
    "def SeperablaConv():\n",
    "    model = Sequential()\n",
    "    model.add(Conv1D(64, kernel_size=5, activation='tanh', input_shape=(184, 1)))\n",
    "    model.add(Conv1D(128, kernel_size=5, activation='relu'))\n",
    "    model.add(MaxPooling1D(2)) \n",
    "    model.add(SeparableConv1D(256, kernel_size=5, activation='relu'))\n",
    "    model.add(MaxPooling1D(2)) \n",
    "    model.add(SeparableConv1D(256, kernel_size=5, activation='relu'))\n",
    "    model.add(MaxPooling1D(2)) \n",
    "    model.add(Dropout(0.5))\n",
    "    model.add(GlobalAveragePooling1D())\n",
    "    model.add(Dense(512, activation='relu'))   \n",
    "    model.add(Dense(4, activation='softmax'))\n",
    "    return model"
   ]
  },
  {
   "cell_type": "code",
   "execution_count": 37,
   "metadata": {},
   "outputs": [
    {
     "name": "stdout",
     "output_type": "stream",
     "text": [
      "Model: \"sequential_6\"\n",
      "_________________________________________________________________\n",
      "Layer (type)                 Output Shape              Param #   \n",
      "=================================================================\n",
      "conv1d_11 (Conv1D)           (None, 180, 64)           384       \n",
      "_________________________________________________________________\n",
      "conv1d_12 (Conv1D)           (None, 176, 128)          41088     \n",
      "_________________________________________________________________\n",
      "max_pooling1d_16 (MaxPooling (None, 88, 128)           0         \n",
      "_________________________________________________________________\n",
      "separable_conv1d_11 (Separab (None, 84, 256)           33664     \n",
      "_________________________________________________________________\n",
      "max_pooling1d_17 (MaxPooling (None, 42, 256)           0         \n",
      "_________________________________________________________________\n",
      "separable_conv1d_12 (Separab (None, 38, 256)           67072     \n",
      "_________________________________________________________________\n",
      "max_pooling1d_18 (MaxPooling (None, 19, 256)           0         \n",
      "_________________________________________________________________\n",
      "dropout_6 (Dropout)          (None, 19, 256)           0         \n",
      "_________________________________________________________________\n",
      "global_average_pooling1d_6 ( (None, 256)               0         \n",
      "_________________________________________________________________\n",
      "dense_11 (Dense)             (None, 512)               131584    \n",
      "_________________________________________________________________\n",
      "dense_12 (Dense)             (None, 4)                 2052      \n",
      "=================================================================\n",
      "Total params: 275,844\n",
      "Trainable params: 275,844\n",
      "Non-trainable params: 0\n",
      "_________________________________________________________________\n"
     ]
    }
   ],
   "source": [
    "SeperablaConv().summary()"
   ]
  },
  {
   "cell_type": "code",
   "execution_count": 38,
   "metadata": {},
   "outputs": [],
   "source": [
    "base_model = SeperablaConv()"
   ]
  },
  {
   "cell_type": "code",
   "execution_count": 39,
   "metadata": {
    "scrolled": true
   },
   "outputs": [
    {
     "name": "stdout",
     "output_type": "stream",
     "text": [
      "Train on 5518 samples, validate on 1380 samples\n",
      "Epoch 1/70\n",
      "5518/5518 [==============================] - 11s 2ms/step - loss: 1.2049 - accuracy: 0.5236 - val_loss: 1.1509 - val_accuracy: 0.5283\n",
      "Epoch 2/70\n",
      "5518/5518 [==============================] - 9s 2ms/step - loss: 1.1485 - accuracy: 0.5279 - val_loss: 1.1465 - val_accuracy: 0.5283\n",
      "Epoch 3/70\n",
      "5518/5518 [==============================] - 9s 2ms/step - loss: 1.1466 - accuracy: 0.5279 - val_loss: 1.1403 - val_accuracy: 0.5283\n",
      "Epoch 4/70\n",
      "5518/5518 [==============================] - 9s 2ms/step - loss: 1.1346 - accuracy: 0.5277 - val_loss: 1.1281 - val_accuracy: 0.5290\n",
      "Epoch 5/70\n",
      "5518/5518 [==============================] - 9s 2ms/step - loss: 1.1167 - accuracy: 0.5283 - val_loss: 1.0864 - val_accuracy: 0.5326\n",
      "Epoch 6/70\n",
      "5518/5518 [==============================] - 9s 2ms/step - loss: 1.0683 - accuracy: 0.5440 - val_loss: 1.0808 - val_accuracy: 0.5196\n",
      "Epoch 7/70\n",
      "5518/5518 [==============================] - 9s 2ms/step - loss: 1.0255 - accuracy: 0.5723 - val_loss: 1.0291 - val_accuracy: 0.5746\n",
      "Epoch 8/70\n",
      "5518/5518 [==============================] - 9s 2ms/step - loss: 1.0049 - accuracy: 0.5763 - val_loss: 1.0393 - val_accuracy: 0.5486\n",
      "Epoch 9/70\n",
      "5518/5518 [==============================] - 9s 2ms/step - loss: 0.9742 - accuracy: 0.5913 - val_loss: 0.9855 - val_accuracy: 0.5964\n",
      "Epoch 10/70\n",
      "5518/5518 [==============================] - 9s 2ms/step - loss: 0.9464 - accuracy: 0.6029 - val_loss: 0.9678 - val_accuracy: 0.5812\n",
      "Epoch 11/70\n",
      "5518/5518 [==============================] - 9s 2ms/step - loss: 0.9091 - accuracy: 0.6202 - val_loss: 0.9751 - val_accuracy: 0.5768\n",
      "Epoch 12/70\n",
      "5518/5518 [==============================] - 9s 2ms/step - loss: 0.8906 - accuracy: 0.6314 - val_loss: 0.9563 - val_accuracy: 0.5942\n",
      "Epoch 13/70\n",
      "5518/5518 [==============================] - 9s 2ms/step - loss: 0.8582 - accuracy: 0.6435 - val_loss: 0.9745 - val_accuracy: 0.5696\n",
      "Epoch 14/70\n",
      "5518/5518 [==============================] - 9s 2ms/step - loss: 0.8347 - accuracy: 0.6528 - val_loss: 0.9422 - val_accuracy: 0.5993\n",
      "Epoch 15/70\n",
      "5518/5518 [==============================] - 9s 2ms/step - loss: 0.8100 - accuracy: 0.6685 - val_loss: 0.9112 - val_accuracy: 0.6203\n",
      "Epoch 16/70\n",
      "5518/5518 [==============================] - 9s 2ms/step - loss: 0.7789 - accuracy: 0.6794 - val_loss: 0.9387 - val_accuracy: 0.6087\n",
      "Epoch 17/70\n",
      "5518/5518 [==============================] - 9s 2ms/step - loss: 0.7584 - accuracy: 0.6877 - val_loss: 0.9212 - val_accuracy: 0.6145\n",
      "Epoch 18/70\n",
      "5518/5518 [==============================] - 9s 2ms/step - loss: 0.7231 - accuracy: 0.7051 - val_loss: 0.9366 - val_accuracy: 0.6152\n",
      "Epoch 19/70\n",
      "5518/5518 [==============================] - 9s 2ms/step - loss: 0.6967 - accuracy: 0.7104 - val_loss: 0.9188 - val_accuracy: 0.6283\n",
      "Epoch 20/70\n",
      "5518/5518 [==============================] - 9s 2ms/step - loss: 0.6589 - accuracy: 0.7316 - val_loss: 0.9647 - val_accuracy: 0.5949\n",
      "Epoch 21/70\n",
      "5518/5518 [==============================] - 9s 2ms/step - loss: 0.6249 - accuracy: 0.7501 - val_loss: 0.9583 - val_accuracy: 0.6326\n",
      "Epoch 22/70\n",
      "5518/5518 [==============================] - 9s 2ms/step - loss: 0.6184 - accuracy: 0.7505 - val_loss: 0.9320 - val_accuracy: 0.6333\n",
      "Epoch 23/70\n",
      "5518/5518 [==============================] - 9s 2ms/step - loss: 0.5795 - accuracy: 0.7724 - val_loss: 0.9590 - val_accuracy: 0.6014\n",
      "Epoch 24/70\n",
      "5518/5518 [==============================] - 9s 2ms/step - loss: 0.5729 - accuracy: 0.7742 - val_loss: 0.9744 - val_accuracy: 0.6420\n",
      "Epoch 25/70\n",
      "5518/5518 [==============================] - 9s 2ms/step - loss: 0.5258 - accuracy: 0.8016 - val_loss: 1.0251 - val_accuracy: 0.6072\n",
      "Epoch 26/70\n",
      "5518/5518 [==============================] - 9s 2ms/step - loss: 0.5011 - accuracy: 0.8023 - val_loss: 1.0598 - val_accuracy: 0.6225\n",
      "Epoch 27/70\n",
      "5518/5518 [==============================] - 9s 2ms/step - loss: 0.4764 - accuracy: 0.8186 - val_loss: 1.0367 - val_accuracy: 0.6507\n",
      "Epoch 28/70\n",
      "5518/5518 [==============================] - 9s 2ms/step - loss: 0.4682 - accuracy: 0.8146 - val_loss: 0.9902 - val_accuracy: 0.6399\n",
      "Epoch 29/70\n",
      "5518/5518 [==============================] - 9s 2ms/step - loss: 0.4595 - accuracy: 0.8208 - val_loss: 1.0156 - val_accuracy: 0.6312\n",
      "Epoch 30/70\n",
      "5518/5518 [==============================] - 9s 2ms/step - loss: 0.3979 - accuracy: 0.8445 - val_loss: 1.0564 - val_accuracy: 0.6457\n",
      "Epoch 31/70\n",
      "5518/5518 [==============================] - 9s 2ms/step - loss: 0.3923 - accuracy: 0.8501 - val_loss: 1.0661 - val_accuracy: 0.6116\n",
      "Epoch 32/70\n",
      "5518/5518 [==============================] - 9s 2ms/step - loss: 0.3495 - accuracy: 0.8695 - val_loss: 1.3595 - val_accuracy: 0.5254\n",
      "Epoch 33/70\n",
      "5518/5518 [==============================] - 9s 2ms/step - loss: 0.3613 - accuracy: 0.8617 - val_loss: 1.1196 - val_accuracy: 0.6268\n",
      "Epoch 34/70\n",
      "5518/5518 [==============================] - 9s 2ms/step - loss: 0.3045 - accuracy: 0.8905 - val_loss: 1.1809 - val_accuracy: 0.6384\n",
      "Epoch 35/70\n",
      "5518/5518 [==============================] - 9s 2ms/step - loss: 0.2840 - accuracy: 0.8902 - val_loss: 1.2881 - val_accuracy: 0.6355\n",
      "Epoch 36/70\n",
      "5518/5518 [==============================] - 9s 2ms/step - loss: 0.2612 - accuracy: 0.9018 - val_loss: 1.3467 - val_accuracy: 0.6297\n",
      "Epoch 37/70\n",
      "5518/5518 [==============================] - 9s 2ms/step - loss: 0.2417 - accuracy: 0.9114 - val_loss: 1.2995 - val_accuracy: 0.6312\n",
      "Epoch 38/70\n",
      "5518/5518 [==============================] - 9s 2ms/step - loss: 0.2219 - accuracy: 0.9253 - val_loss: 1.6645 - val_accuracy: 0.6304\n",
      "Epoch 39/70\n",
      "5518/5518 [==============================] - 9s 2ms/step - loss: 0.2309 - accuracy: 0.9136 - val_loss: 1.4081 - val_accuracy: 0.6159\n",
      "Epoch 40/70\n",
      "5518/5518 [==============================] - 9s 2ms/step - loss: 0.2052 - accuracy: 0.9270 - val_loss: 1.4751 - val_accuracy: 0.6428\n",
      "Epoch 41/70\n",
      "5518/5518 [==============================] - 9s 2ms/step - loss: 0.1796 - accuracy: 0.9349 - val_loss: 1.6079 - val_accuracy: 0.6326\n",
      "Epoch 42/70\n",
      "5518/5518 [==============================] - 9s 2ms/step - loss: 0.1879 - accuracy: 0.9357 - val_loss: 1.5564 - val_accuracy: 0.5957\n",
      "Epoch 43/70\n",
      "5518/5518 [==============================] - 9s 2ms/step - loss: 0.1837 - accuracy: 0.9302 - val_loss: 1.5371 - val_accuracy: 0.6319\n",
      "Epoch 44/70\n",
      "5518/5518 [==============================] - 9s 2ms/step - loss: 0.1534 - accuracy: 0.9440 - val_loss: 1.7058 - val_accuracy: 0.6457\n",
      "Epoch 45/70\n",
      "5518/5518 [==============================] - 9s 2ms/step - loss: 0.1375 - accuracy: 0.9518 - val_loss: 1.7827 - val_accuracy: 0.6225\n",
      "Epoch 46/70\n",
      "5518/5518 [==============================] - 9s 2ms/step - loss: 0.1356 - accuracy: 0.9505 - val_loss: 1.7309 - val_accuracy: 0.6283\n",
      "Epoch 47/70\n",
      "5518/5518 [==============================] - 9s 2ms/step - loss: 0.1518 - accuracy: 0.9456 - val_loss: 1.8691 - val_accuracy: 0.5565\n",
      "Epoch 48/70\n",
      "5518/5518 [==============================] - 9s 2ms/step - loss: 0.2211 - accuracy: 0.9235 - val_loss: 1.9357 - val_accuracy: 0.6319\n",
      "Epoch 49/70\n",
      "5518/5518 [==============================] - 9s 2ms/step - loss: 0.1478 - accuracy: 0.9456 - val_loss: 1.7432 - val_accuracy: 0.6275\n",
      "Epoch 50/70\n",
      "5518/5518 [==============================] - 9s 2ms/step - loss: 0.1141 - accuracy: 0.9614 - val_loss: 1.8637 - val_accuracy: 0.6319\n",
      "Epoch 51/70\n",
      "5518/5518 [==============================] - 9s 2ms/step - loss: 0.1339 - accuracy: 0.9505 - val_loss: 1.8761 - val_accuracy: 0.6275\n",
      "Epoch 52/70\n",
      "5518/5518 [==============================] - 9s 2ms/step - loss: 0.1082 - accuracy: 0.9643 - val_loss: 1.9565 - val_accuracy: 0.6283\n",
      "Epoch 53/70\n",
      "5518/5518 [==============================] - 9s 2ms/step - loss: 0.1016 - accuracy: 0.9667 - val_loss: 1.9105 - val_accuracy: 0.6268\n",
      "Epoch 54/70\n",
      "5518/5518 [==============================] - 9s 2ms/step - loss: 0.0882 - accuracy: 0.9735 - val_loss: 2.1882 - val_accuracy: 0.6507\n",
      "Epoch 55/70\n",
      "5518/5518 [==============================] - 9s 2ms/step - loss: 0.0797 - accuracy: 0.9730 - val_loss: 2.3657 - val_accuracy: 0.6225\n",
      "Epoch 56/70\n",
      "5518/5518 [==============================] - 9s 2ms/step - loss: 0.0813 - accuracy: 0.9730 - val_loss: 2.2707 - val_accuracy: 0.6428\n",
      "Epoch 57/70\n",
      "5518/5518 [==============================] - 9s 2ms/step - loss: 0.0672 - accuracy: 0.9777 - val_loss: 2.1575 - val_accuracy: 0.6355\n",
      "Epoch 58/70\n",
      "5518/5518 [==============================] - 9s 2ms/step - loss: 0.0575 - accuracy: 0.9821 - val_loss: 2.1988 - val_accuracy: 0.6464\n",
      "Epoch 59/70\n",
      "5518/5518 [==============================] - 9s 2ms/step - loss: 0.0593 - accuracy: 0.9801 - val_loss: 2.7889 - val_accuracy: 0.6290\n",
      "Epoch 60/70\n",
      "5518/5518 [==============================] - 9s 2ms/step - loss: 0.0861 - accuracy: 0.9683 - val_loss: 2.4220 - val_accuracy: 0.6391\n",
      "Epoch 61/70\n",
      "5518/5518 [==============================] - 9s 2ms/step - loss: 0.0623 - accuracy: 0.9802 - val_loss: 2.2531 - val_accuracy: 0.6109\n",
      "Epoch 62/70\n",
      "5518/5518 [==============================] - 9s 2ms/step - loss: 0.0717 - accuracy: 0.9761 - val_loss: 2.1394 - val_accuracy: 0.6174\n",
      "Epoch 63/70\n",
      "5518/5518 [==============================] - 9s 2ms/step - loss: 0.0952 - accuracy: 0.9686 - val_loss: 2.4350 - val_accuracy: 0.6355\n",
      "Epoch 64/70\n",
      "5518/5518 [==============================] - 9s 2ms/step - loss: 0.1618 - accuracy: 0.9406 - val_loss: 2.3523 - val_accuracy: 0.6138\n",
      "Epoch 65/70\n",
      "5518/5518 [==============================] - 9s 2ms/step - loss: 0.1347 - accuracy: 0.9500 - val_loss: 2.3050 - val_accuracy: 0.6348\n",
      "Epoch 66/70\n",
      "5518/5518 [==============================] - 9s 2ms/step - loss: 0.0713 - accuracy: 0.9773 - val_loss: 2.2644 - val_accuracy: 0.6036\n",
      "Epoch 67/70\n",
      "5518/5518 [==============================] - 9s 2ms/step - loss: 0.0661 - accuracy: 0.9788 - val_loss: 2.2788 - val_accuracy: 0.6333\n",
      "Epoch 68/70\n",
      "5518/5518 [==============================] - 9s 2ms/step - loss: 0.0475 - accuracy: 0.9835 - val_loss: 2.3789 - val_accuracy: 0.6377\n",
      "Epoch 69/70\n",
      "5518/5518 [==============================] - 9s 2ms/step - loss: 0.0443 - accuracy: 0.9880 - val_loss: 2.5269 - val_accuracy: 0.6362\n",
      "Epoch 70/70\n",
      "5518/5518 [==============================] - 9s 2ms/step - loss: 0.0511 - accuracy: 0.9837 - val_loss: 2.5048 - val_accuracy: 0.6377\n"
     ]
    }
   ],
   "source": [
    "base_model.compile(loss='categorical_crossentropy', optimizer='adam', metrics=['accuracy'])\n",
    "history = base_model.fit(X_train, y_train, class_weight= class_weight, validation_data=(X_test, y_test), epochs=70, batch_size=128, verbose=1)"
   ]
  },
  {
   "cell_type": "code",
   "execution_count": 40,
   "metadata": {},
   "outputs": [
    {
     "name": "stdout",
     "output_type": "stream",
     "text": [
      "                precision    recall  f1-score   support\n",
      "\n",
      "          None       0.73      0.77      0.75       729\n",
      "       Crackle       0.59      0.57      0.58       373\n",
      "        Wheeze       0.47      0.47      0.47       177\n",
      "Crackle_wheeze       0.36      0.25      0.29       101\n",
      "\n",
      "      accuracy                           0.64      1380\n",
      "     macro avg       0.54      0.51      0.52      1380\n",
      "  weighted avg       0.63      0.64      0.63      1380\n",
      "\n"
     ]
    },
    {
     "data": {
      "text/plain": [
       "<matplotlib.axes._subplots.AxesSubplot at 0x7fa413a213a0>"
      ]
     },
     "execution_count": 40,
     "metadata": {},
     "output_type": "execute_result"
    },
    {
     "data": {
      "image/png": "[encoded data removed]",
      "text/plain": [
       "<Figure size 720x504 with 2 Axes>"
      ]
     },
     "metadata": {
      "needs_background": "light"
     },
     "output_type": "display_data"
    }
   ],
   "source": [
    "from sklearn.metrics import roc_auc_score, classification_report, confusion_matrix\n",
    "matrix_index = [\"None\", \"Crackle\", \"Wheeze\", \"Crackle_wheeze\"]\n",
    "\n",
    "preds = base_model.predict(X_test)\n",
    "classpreds = np.argmax(preds, axis=1) # predicted classes \n",
    "y_testclass = np.argmax(y_test, axis=1) # true classes\n",
    "\n",
    "cm = confusion_matrix(y_testclass, classpreds)\n",
    "print(classification_report(y_testclass, classpreds, target_names=matrix_index))\n",
    "\n",
    "# Get percentage value for each element of the matrix\n",
    "cm_sum = np.sum(cm, axis=1, keepdims=True)\n",
    "cm_perc = cm / cm_sum.astype(float) * 100\n",
    "annot = np.empty_like(cm).astype(str)\n",
    "nrows, ncols = cm.shape\n",
    "for i in range(nrows):\n",
    "    for j in range(ncols):\n",
    "        c = cm[i, j]\n",
    "        p = cm_perc[i, j]\n",
    "        if i == j:\n",
    "            s = cm_sum[i]\n",
    "            annot[i, j] = '%.1f%%\\n%d/%d' % (p, c, s)\n",
    "        elif c == 0:\n",
    "            annot[i, j] = ''\n",
    "        else:\n",
    "            annot[i, j] = '%.1f%%\\n%d' % (p, c)\n",
    "\n",
    "\n",
    "# Display confusion matrix \n",
    "df_cm = pd.DataFrame(cm, index = matrix_index, columns = matrix_index)\n",
    "df_cm.index.name = 'Actual'\n",
    "df_cm.columns.name = 'Predicted'\n",
    "fig, ax = plt.subplots(figsize=(10,7))\n",
    "sns.heatmap(df_cm, annot=annot, fmt='')"
   ]
  }
 ],
 "metadata": {
  "kernelspec": {
   "display_name": "Python 3",
   "language": "python",
   "name": "python3"
  },
  "language_info": {
   "codemirror_mode": {
    "name": "ipython",
    "version": 3
   },
   "file_extension": ".py",
   "mimetype": "text/x-python",
   "name": "python",
   "nbconvert_exporter": "python",
   "pygments_lexer": "ipython3",
   "version": "3.8.3"
  }
 },
 "nbformat": 4,
 "nbformat_minor": 4
}

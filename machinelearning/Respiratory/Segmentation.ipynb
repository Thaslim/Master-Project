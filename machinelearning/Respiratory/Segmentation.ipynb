{
 "cells": [
  {
   "cell_type": "code",
   "execution_count": null,
   "metadata": {},
   "outputs": [],
   "source": [
    "import pandas as pd\n",
    "import librosa as lb\n",
    "import soundfile as sf \n",
    "from scipy.signal import butter, lfilter"
   ]
  },
  {
   "cell_type": "code",
   "execution_count": null,
   "metadata": {},
   "outputs": [],
   "source": [
    "file_data = pd.read_csv('file_data.csv')"
   ]
  },
  {
   "cell_type": "code",
   "execution_count": null,
   "metadata": {},
   "outputs": [],
   "source": [
    "file_data"
   ]
  },
  {
   "cell_type": "code",
   "execution_count": 4,
   "metadata": {},
   "outputs": [
    {
     "data": {
      "text/html": [
       "<div>\n",
       "<style scoped>\n",
       "    .dataframe tbody tr th:only-of-type {\n",
       "        vertical-align: middle;\n",
       "    }\n",
       "\n",
       "    .dataframe tbody tr th {\n",
       "        vertical-align: top;\n",
       "    }\n",
       "\n",
       "    .dataframe thead th {\n",
       "        text-align: right;\n",
       "    }\n",
       "</style>\n",
       "<table border=\"1\" class=\"dataframe\">\n",
       "  <thead>\n",
       "    <tr style=\"text-align: right;\">\n",
       "      <th></th>\n",
       "      <th>fname</th>\n",
       "      <th>start</th>\n",
       "      <th>end</th>\n",
       "      <th>crack_wheez</th>\n",
       "      <th>fname_cycle</th>\n",
       "      <th>len</th>\n",
       "    </tr>\n",
       "  </thead>\n",
       "  <tbody>\n",
       "    <tr>\n",
       "      <th>6727</th>\n",
       "      <td>226_1b1_Pl_sc_LittC2SE</td>\n",
       "      <td>0.036</td>\n",
       "      <td>1.207</td>\n",
       "      <td>0</td>\n",
       "      <td>226_1b1_Pl_sc_LittC2SE_0.wav</td>\n",
       "      <td>1.171</td>\n",
       "    </tr>\n",
       "    <tr>\n",
       "      <th>6728</th>\n",
       "      <td>226_1b1_Pl_sc_LittC2SE</td>\n",
       "      <td>1.207</td>\n",
       "      <td>3.550</td>\n",
       "      <td>0</td>\n",
       "      <td>226_1b1_Pl_sc_LittC2SE_1.wav</td>\n",
       "      <td>2.343</td>\n",
       "    </tr>\n",
       "    <tr>\n",
       "      <th>6729</th>\n",
       "      <td>226_1b1_Pl_sc_LittC2SE</td>\n",
       "      <td>3.550</td>\n",
       "      <td>5.750</td>\n",
       "      <td>1</td>\n",
       "      <td>226_1b1_Pl_sc_LittC2SE_2.wav</td>\n",
       "      <td>2.200</td>\n",
       "    </tr>\n",
       "    <tr>\n",
       "      <th>6730</th>\n",
       "      <td>226_1b1_Pl_sc_LittC2SE</td>\n",
       "      <td>5.750</td>\n",
       "      <td>7.879</td>\n",
       "      <td>1</td>\n",
       "      <td>226_1b1_Pl_sc_LittC2SE_3.wav</td>\n",
       "      <td>2.129</td>\n",
       "    </tr>\n",
       "    <tr>\n",
       "      <th>6731</th>\n",
       "      <td>226_1b1_Pl_sc_LittC2SE</td>\n",
       "      <td>7.879</td>\n",
       "      <td>9.836</td>\n",
       "      <td>0</td>\n",
       "      <td>226_1b1_Pl_sc_LittC2SE_4.wav</td>\n",
       "      <td>1.957</td>\n",
       "    </tr>\n",
       "    <tr>\n",
       "      <th>6732</th>\n",
       "      <td>226_1b1_Pl_sc_LittC2SE</td>\n",
       "      <td>9.836</td>\n",
       "      <td>11.721</td>\n",
       "      <td>1</td>\n",
       "      <td>226_1b1_Pl_sc_LittC2SE_5.wav</td>\n",
       "      <td>1.885</td>\n",
       "    </tr>\n",
       "    <tr>\n",
       "      <th>6733</th>\n",
       "      <td>226_1b1_Pl_sc_LittC2SE</td>\n",
       "      <td>11.721</td>\n",
       "      <td>13.693</td>\n",
       "      <td>1</td>\n",
       "      <td>226_1b1_Pl_sc_LittC2SE_6.wav</td>\n",
       "      <td>1.972</td>\n",
       "    </tr>\n",
       "    <tr>\n",
       "      <th>6734</th>\n",
       "      <td>226_1b1_Pl_sc_LittC2SE</td>\n",
       "      <td>13.693</td>\n",
       "      <td>15.536</td>\n",
       "      <td>0</td>\n",
       "      <td>226_1b1_Pl_sc_LittC2SE_7.wav</td>\n",
       "      <td>1.843</td>\n",
       "    </tr>\n",
       "    <tr>\n",
       "      <th>6735</th>\n",
       "      <td>226_1b1_Pl_sc_LittC2SE</td>\n",
       "      <td>15.536</td>\n",
       "      <td>17.493</td>\n",
       "      <td>0</td>\n",
       "      <td>226_1b1_Pl_sc_LittC2SE_8.wav</td>\n",
       "      <td>1.957</td>\n",
       "    </tr>\n",
       "    <tr>\n",
       "      <th>6736</th>\n",
       "      <td>226_1b1_Pl_sc_LittC2SE</td>\n",
       "      <td>17.493</td>\n",
       "      <td>19.436</td>\n",
       "      <td>1</td>\n",
       "      <td>226_1b1_Pl_sc_LittC2SE_9.wav</td>\n",
       "      <td>1.943</td>\n",
       "    </tr>\n",
       "    <tr>\n",
       "      <th>6737</th>\n",
       "      <td>226_1b1_Pl_sc_LittC2SE</td>\n",
       "      <td>19.436</td>\n",
       "      <td>19.979</td>\n",
       "      <td>0</td>\n",
       "      <td>226_1b1_Pl_sc_LittC2SE_10.wav</td>\n",
       "      <td>0.543</td>\n",
       "    </tr>\n",
       "  </tbody>\n",
       "</table>\n",
       "</div>"
      ],
      "text/plain": [
       "                       fname   start     end  crack_wheez  \\\n",
       "6727  226_1b1_Pl_sc_LittC2SE   0.036   1.207            0   \n",
       "6728  226_1b1_Pl_sc_LittC2SE   1.207   3.550            0   \n",
       "6729  226_1b1_Pl_sc_LittC2SE   3.550   5.750            1   \n",
       "6730  226_1b1_Pl_sc_LittC2SE   5.750   7.879            1   \n",
       "6731  226_1b1_Pl_sc_LittC2SE   7.879   9.836            0   \n",
       "6732  226_1b1_Pl_sc_LittC2SE   9.836  11.721            1   \n",
       "6733  226_1b1_Pl_sc_LittC2SE  11.721  13.693            1   \n",
       "6734  226_1b1_Pl_sc_LittC2SE  13.693  15.536            0   \n",
       "6735  226_1b1_Pl_sc_LittC2SE  15.536  17.493            0   \n",
       "6736  226_1b1_Pl_sc_LittC2SE  17.493  19.436            1   \n",
       "6737  226_1b1_Pl_sc_LittC2SE  19.436  19.979            0   \n",
       "\n",
       "                        fname_cycle    len  \n",
       "6727   226_1b1_Pl_sc_LittC2SE_0.wav  1.171  \n",
       "6728   226_1b1_Pl_sc_LittC2SE_1.wav  2.343  \n",
       "6729   226_1b1_Pl_sc_LittC2SE_2.wav  2.200  \n",
       "6730   226_1b1_Pl_sc_LittC2SE_3.wav  2.129  \n",
       "6731   226_1b1_Pl_sc_LittC2SE_4.wav  1.957  \n",
       "6732   226_1b1_Pl_sc_LittC2SE_5.wav  1.885  \n",
       "6733   226_1b1_Pl_sc_LittC2SE_6.wav  1.972  \n",
       "6734   226_1b1_Pl_sc_LittC2SE_7.wav  1.843  \n",
       "6735   226_1b1_Pl_sc_LittC2SE_8.wav  1.957  \n",
       "6736   226_1b1_Pl_sc_LittC2SE_9.wav  1.943  \n",
       "6737  226_1b1_Pl_sc_LittC2SE_10.wav  0.543  "
      ]
     },
     "execution_count": 4,
     "metadata": {},
     "output_type": "execute_result"
    }
   ],
   "source": [
    "file_data[file_data.fname == '226_1b1_Pl_sc_LittC2SE']"
   ]
  },
  {
   "cell_type": "code",
   "execution_count": 5,
   "metadata": {},
   "outputs": [],
   "source": [
    "from pyAudioAnalysis import audioBasicIO as aIO\n",
    "from pyAudioAnalysis import audioSegmentation as aS"
   ]
  },
  {
   "cell_type": "code",
   "execution_count": 6,
   "metadata": {},
   "outputs": [],
   "source": [
    "def butter_bandpass(lowcut, highcut, fs, order=5):\n",
    "    nyq = 0.5 * fs\n",
    "    low = lowcut / nyq\n",
    "    high = highcut / nyq\n",
    "    b, a = butter(order, [low, high], btype='band')\n",
    "    return b, a\n",
    "\n",
    "def butter_bandpass_filter(data, lowcut, highcut, fs, order=5):\n",
    "    b, a = butter_bandpass(lowcut, highcut, fs, order=order)\n",
    "    y = lfilter(b, a, data)\n",
    "    return y"
   ]
  },
  {
   "cell_type": "code",
   "execution_count": 7,
   "metadata": {},
   "outputs": [],
   "source": [
    "# Sample rate and desired cutoff frequencies (in Hz).\n",
    "fs = 4000.0\n",
    "lowcut = 100.0\n",
    "highcut = 1800.0\n"
   ]
  },
  {
   "cell_type": "code",
   "execution_count": null,
   "metadata": {},
   "outputs": [],
   "source": [
    "wav, sr = lb.load('audio_and_txt_files/226_1b1_Pl_sc_LittC2SE.wav', sr = 4000)\n",
    "bb = butter_bandpass_filter(wav, lowcut, highcut, fs, order=12)\n"
   ]
  },
  {
   "cell_type": "code",
   "execution_count": null,
   "metadata": {},
   "outputs": [],
   "source": [
    "sf.write('filt_226_1b1_Pl_sc_LittC2SE.wav', data=bb, samplerate=sr )"
   ]
  },
  {
   "cell_type": "code",
   "execution_count": null,
   "metadata": {},
   "outputs": [],
   "source": [
    "file_data[file_data.fname == '223_1b1_Ar_sc_Meditron']"
   ]
  },
  {
   "cell_type": "code",
   "execution_count": 28,
   "metadata": {},
   "outputs": [
    {
     "data": {
      "image/png": "[encoded data removed]",
      "text/plain": [
       "<Figure size 432x288 with 2 Axes>"
      ]
     },
     "metadata": {
      "needs_background": "light"
     },
     "output_type": "display_data"
    }
   ],
   "source": [
    "[Fs, x] = aIO.read_audio_file('/home/014544907/Master_Project/filt_226_1b1_Pl_sc_LittC2SE.wav')\n",
    "segments = aS.silence_removal(x, Fs, 0.1, 0.1, smooth_window = 0.8, weight = 0.4, plot = True)"
   ]
  },
  {
   "cell_type": "code",
   "execution_count": 29,
   "metadata": {},
   "outputs": [
    {
     "data": {
      "text/plain": [
       "[[0.0, 0.30000000000000004],\n",
       " [1.2000000000000002, 1.8],\n",
       " [3.4000000000000004, 4.3],\n",
       " [5.5, 6.7],\n",
       " [7.7, 8.6],\n",
       " [9.700000000000001, 11.200000000000001],\n",
       " [11.700000000000001, 12.600000000000001],\n",
       " [13.5, 14.5],\n",
       " [15.5, 16.400000000000002],\n",
       " [17.2, 18.3],\n",
       " [19.400000000000002, 19.900000000000002]]"
      ]
     },
     "execution_count": 29,
     "metadata": {},
     "output_type": "execute_result"
    }
   ],
   "source": [
    "segments"
   ]
  },
  {
   "cell_type": "code",
   "execution_count": 10,
   "metadata": {},
   "outputs": [
    {
     "data": {
      "text/plain": [
       "'/home/014544907/Master_Project'"
      ]
     },
     "execution_count": 10,
     "metadata": {},
     "output_type": "execute_result"
    }
   ],
   "source": [
    "import os\n",
    "os.getcwd()"
   ]
  },
  {
   "cell_type": "code",
   "execution_count": 11,
   "metadata": {},
   "outputs": [],
   "source": [
    "os.chdir('/home/014544907/anaconda3/envs/master_project/lib/python3.8/site-packages/pyAudioAnalysis/')"
   ]
  },
  {
   "cell_type": "code",
   "execution_count": 12,
   "metadata": {},
   "outputs": [
    {
     "data": {
      "image/png": "[encoded data removed]",
      "text/plain": [
       "<Figure size 432x288 with 2 Axes>"
      ]
     },
     "metadata": {
      "needs_background": "light"
     },
     "output_type": "display_data"
    }
   ],
   "source": [
    "%run audioAnalysis.py silenceRemoval -i /home/014544907/Master_Project/filt_226_1b1_Pl_sc_LittC2SE.wav --smoothing 1.0 --weight 0.3"
   ]
  }
 ],
 "metadata": {
  "kernelspec": {
   "display_name": "Python 3",
   "language": "python",
   "name": "python3"
  },
  "language_info": {
   "codemirror_mode": {
    "name": "ipython",
    "version": 3
   },
   "file_extension": ".py",
   "mimetype": "text/x-python",
   "name": "python",
   "nbconvert_exporter": "python",
   "pygments_lexer": "ipython3",
   "version": "3.8.3"
  }
 },
 "nbformat": 4,
 "nbformat_minor": 4
}

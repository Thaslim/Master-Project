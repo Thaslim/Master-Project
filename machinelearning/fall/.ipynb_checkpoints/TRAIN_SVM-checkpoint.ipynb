{
 "cells": [
  {
   "cell_type": "code",
   "execution_count": 16,
   "metadata": {},
   "outputs": [
    {
     "name": "stdout",
     "output_type": "stream",
     "text": [
      "       AvgX      AvgY      AvgZ   MedianX   MedianY   MedianZ        2X  \\\n",
      "0  7.079540  0.292400  3.763926  8.336310 -0.800637  4.799377  2.868003   \n",
      "1  7.173739  1.640782  4.361933  7.536947  1.973893  5.578871  2.253994   \n",
      "2  7.330632  2.381979  3.417897  8.192033  3.039308  4.317029  2.640936   \n",
      "3 -5.568553 -0.217635  6.616517 -6.148310 -0.676446  7.363430  2.473055   \n",
      "4 -4.795033  0.358094  7.179030 -5.434174  0.013750  7.892242  2.168915   \n",
      "\n",
      "         2Y        2Z     SkewX  ...    AbsMaxZ   AbsSlope    MeanMag  \\\n",
      "0  4.616586  2.274586 -1.821233  ...  12.732082  25.968431  99.065435   \n",
      "1  3.824003  2.581553 -1.826785  ...  13.052741  28.237861  99.534564   \n",
      "2  4.069859  2.199644 -1.708481  ...  10.945221  27.597204  99.455316   \n",
      "3  3.530614  1.962968  1.075171  ...  18.426916  31.743260  97.257094   \n",
      "4  3.643256  2.230609  1.192495  ...  19.105164  32.353318  97.600097   \n",
      "\n",
      "        2Mag     MinMag       MaxMag  DiffMinMaxMag  ZCR_Mag  \\\n",
      "0  37.258635  29.541558   567.998312     538.456754        0   \n",
      "1  41.252435  30.958310   514.237251     483.278940        0   \n",
      "2  40.969060  20.501091   523.780867     503.279776        0   \n",
      "3  56.157126   2.593039   961.689593     959.096554        0   \n",
      "4  63.150734   2.032286  1033.791111    1031.758825        0   \n",
      "\n",
      "   AverageResultantAcceleration  label  \n",
      "0                     99.065435      1  \n",
      "1                     99.534564      1  \n",
      "2                     99.455316      1  \n",
      "3                     97.257094      1  \n",
      "4                     97.600097      1  \n",
      "\n",
      "[5 rows x 59 columns]\n"
     ]
    }
   ],
   "source": [
    "import pandas as pd\n",
    "all_data = pd.read_csv('./all_data1all3.csv')\n",
    "print(all_data.head())"
   ]
  },
  {
   "cell_type": "code",
   "execution_count": 17,
   "metadata": {},
   "outputs": [],
   "source": [
    "_all_data_x = []\n",
    "_all_data_y = []    \n",
    "count = all_data.shape[0] \n",
    "count1 = all_data.shape[1]\n",
    "\n",
    "for i in range(0,count):\n",
    "    _all_data_x.append(all_data.iloc[i, 0:58])\n",
    "    _all_data_y.append(all_data.iloc[i, 58:59])"
   ]
  },
  {
   "cell_type": "code",
   "execution_count": 18,
   "metadata": {},
   "outputs": [
    {
     "name": "stdout",
     "output_type": "stream",
     "text": [
      "640\n"
     ]
    },
    {
     "name": "stderr",
     "output_type": "stream",
     "text": [
      "c:\\users\\parva\\appdata\\local\\programs\\python\\python38\\lib\\site-packages\\sklearn\\utils\\validation.py:72: DataConversionWarning: A column-vector y was passed when a 1d array was expected. Please change the shape of y to (n_samples, ), for example using ravel().\n",
      "  return f(**kwargs)\n"
     ]
    }
   ],
   "source": [
    "from sklearn.model_selection import train_test_split\n",
    "from sklearn import svm\n",
    "X_train, X_test, y_train, y_test = train_test_split(_all_data_x, _all_data_y, test_size=0.2, random_state=42)\n",
    "\n",
    "\n",
    "clf = svm.SVC(gamma='scale')\n",
    "clf.fit(X_train, y_train) \n",
    "\n",
    "\n",
    "test_count = len(X_test)\n",
    "\n",
    "print(test_count)"
   ]
  },
  {
   "cell_type": "code",
   "execution_count": 19,
   "metadata": {
    "scrolled": true
   },
   "outputs": [
    {
     "name": "stdout",
     "output_type": "stream",
     "text": [
      "0.9640625\n",
      "[[150  17]\n",
      " [  6 467]]\n",
      "              precision    recall  f1-score   support\n",
      "\n",
      "         1.0       0.96      0.90      0.93       167\n",
      "         2.0       0.96      0.99      0.98       473\n",
      "\n",
      "    accuracy                           0.96       640\n",
      "   macro avg       0.96      0.94      0.95       640\n",
      "weighted avg       0.96      0.96      0.96       640\n",
      "\n"
     ]
    }
   ],
   "source": [
    "from sklearn.metrics import classification_report\n",
    "from sklearn.metrics import confusion_matrix\n",
    "from sklearn.metrics import accuracy_score\n",
    "from joblib import dump, load\n",
    "y_predict = clf.predict(X_test)\n",
    "print(accuracy_score(y_test, y_predict))\n",
    "print(confusion_matrix(y_test, y_predict))\n",
    "print(classification_report(y_test, y_predict))\n"
   ]
  },
  {
   "cell_type": "code",
   "execution_count": null,
   "metadata": {},
   "outputs": [],
   "source": []
  }
 ],
 "metadata": {
  "kernelspec": {
   "display_name": "Python 3",
   "language": "python",
   "name": "python3"
  },
  "language_info": {
   "codemirror_mode": {
    "name": "ipython",
    "version": 3
   },
   "file_extension": ".py",
   "mimetype": "text/x-python",
   "name": "python",
   "nbconvert_exporter": "python",
   "pygments_lexer": "ipython3",
   "version": "3.8.5"
  }
 },
 "nbformat": 4,
 "nbformat_minor": 4
}
